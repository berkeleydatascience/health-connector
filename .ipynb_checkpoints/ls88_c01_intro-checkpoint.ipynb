{
 "cells": [
  {
   "cell_type": "code",
   "execution_count": 6,
   "metadata": {
    "collapsed": false
   },
   "outputs": [],
   "source": [
    "# HIDDEN\n",
    "\n",
    "import matplotlib\n",
    "matplotlib.use('Agg')\n",
    "from datascience import *\n",
    "%matplotlib inline\n",
    "import matplotlib.pyplot as plots\n",
    "import numpy as np\n",
    "import math\n",
    "import scipy.stats as stats\n",
    "plots.style.use('fivethirtyeight')"
   ]
  },
  {
   "cell_type": "markdown",
   "metadata": {},
   "source": [
    "<h1>Class 1: Expressions and Cells while you Smoke</h1>\n",
    "\n",
    "The following is the introduction to Jupyter notebooks from DS8 lab 1:\n",
    "<p>\n",
    "<font color=\"purple\">\n",
    "<i>Welcome to Data Science 8: Foundations of Data Science. Each week you will complete a lab assignment like this one; these are designed to be completed during the scheduled lab time, but you can work on them at home as well.\n",
    "<p>\n",
    "The page you currently see is called a Jupyter Notebook. A notebook is a place to write programs and view their results. Each rectangle that contains content is called a *cell*. Some cells just contain text, such as this one. Other cells contain Python 3 code. To execute a cell, first click on that cell to activate it. Next, hold down the `shift` key and press `return` or `enter`.</i></font>\n",
    "<hr>\n",
    "\n",
    "In this first class meeting of L&S 88, let's dip our toes into data analysis with some basic data on population health. \n",
    "\n",
    "<h2>Data sources</h2>\n",
    "\n",
    "The <a href=\"http://data.worldbank.org/data-catalog/world-development-indicators\">World Development Indicators</a> database, maintained by the World Bank, is a good one-stop repository of basic country-level average annual statistics on health and socioeconomic status for a wide cross section of countries since 1960.\n",
    "\n",
    "The <a href=\"http://www.barrolee.com\">Barro-Lee Dataset</a> offers internationally comparable data on educational attainment in terms of <i>years of schooling</i>, a metric that economists like.  (The WDI measures educational attainment differently.)\n",
    "\n",
    "To set us up to ask and answer some questions quickly, I have extracted several elements of these databases."
   ]
  },
  {
   "cell_type": "markdown",
   "metadata": {
    "collapsed": true
   },
   "source": [
    "<u><h3>Data for Mexico, 2010</h3></u>\n",
    "\n",
    "<b>Males:</b>\n",
    "<br>\n",
    "Life expectancy at birth = 73.7\n",
    "<br>\n",
    "Smoking prevalence (%, age 15+) = 25.1\n",
    "<br>\n",
    "Years of education (age 25+) = 8.57\n",
    "\n",
    "<b>Females:</b>\n",
    "<br>\n",
    "Life expectancy at birth = 78.5\n",
    "<br>\n",
    "Smoking prevalence (%, age 15+) = 8.4\n",
    "<br>\n",
    "Years of education (age 25+) = 8.09\n",
    "\n",
    "\n",
    "<u><h3>Data for the USA, 2010</h3></u>\n",
    "\n",
    "<b>Males:</b>\n",
    "<br>\n",
    "Life expectancy at birth = 76.2\n",
    "<br>\n",
    "Smoking prevalence (%, age 15+) = 22.0\n",
    "<br>\n",
    "Years of education (age 25+) = 13.42\n",
    "\n",
    "<b>Females:</b>\n",
    "<br>\n",
    "Life expectancy at birth = 81.0\n",
    "<br>\n",
    "Smoking prevalence (%, age 15+) = 17.3\n",
    "<br>\n",
    "Years of education (age 25+) = 13.44\n"
   ]
  },
  {
   "cell_type": "markdown",
   "metadata": {},
   "source": [
    "<h3><font color = \"magenta\">Questions:</h3></font>\n",
    "<p>\n",
    "Q1. In which country is socioeconomic status, as measured by education, higher? By how much?  You can report sex-specific statistics or examine their average if you like."
   ]
  },
  {
   "cell_type": "code",
   "execution_count": null,
   "metadata": {
    "collapsed": true
   },
   "outputs": [],
   "source": []
  },
  {
   "cell_type": "markdown",
   "metadata": {},
   "source": [
    "Q2. In which country is smoking more prevalent? By how much? Does it vary by sex?"
   ]
  },
  {
   "cell_type": "code",
   "execution_count": null,
   "metadata": {
    "collapsed": true
   },
   "outputs": [],
   "source": []
  },
  {
   "cell_type": "markdown",
   "metadata": {},
   "source": [
    "Q3. In which country is life expectancy longer? By how much? Does it vary by sex?"
   ]
  },
  {
   "cell_type": "code",
   "execution_count": null,
   "metadata": {
    "collapsed": true
   },
   "outputs": [],
   "source": []
  },
  {
   "cell_type": "markdown",
   "metadata": {},
   "source": [
    "Q4: Formulate a hypothesis (or several) about the causes of life expectancy differences between Americans and Mexicans."
   ]
  },
  {
   "cell_type": "code",
   "execution_count": null,
   "metadata": {
    "collapsed": true
   },
   "outputs": [],
   "source": []
  },
  {
   "cell_type": "markdown",
   "metadata": {},
   "source": [
    "<h2>More data sources</h2>\n",
    "<p>\n",
    "Country-level statistics are interesting, but they may obscure a lot of detail. In this class, you may find that <i>microdata</i>, i.e., observations of individual people and their characteristics, are more revealing.\n",
    "\n",
    "The <a href=\"https://www.ihis.us/ihis/\">Integrated Health Interview Survey</a> datasets provide anonymized individual-level data on health characteristics annually since 1963.\n",
    "\n",
    "Because we're looking at life expectancy, which is not easy to measure for individuals, another useful source for data are the life tables produced by the <a href=\"http://www.cdc.gov/nchs/products/life_tables.htm\">National Center for Health Statistics</a> (NCHS) of the Center for Disease Control (CDC). Each PDF report contains hyperlinks to the underlying life table data, which include life expectancy."
   ]
  },
  {
   "cell_type": "markdown",
   "metadata": {},
   "source": [
    "<u><h3>Data for Hispanic Americans, 2010</h3></u>\n",
    "\n",
    "<b>Males:</b>\n",
    "<br>\n",
    "Life expectancy at birth = 78.7\n",
    "<br>\n",
    "Smoking prevalence (%, age 15+) = 16.8\n",
    "<br>\n",
    "Years of education (age 25+) = 10.99\n",
    "\n",
    "<b>Females:</b>\n",
    "<br>\n",
    "Life expectancy at birth = 83.8\n",
    "<br>\n",
    "Smoking prevalence (%, age 15+) = 9.9\n",
    "<br>\n",
    "Years of education (age 25+) = 11.35\n",
    "\n",
    "\n",
    "<u><h3>Data for white non-Hispanic Americans, 2010</h3></u>\n",
    "\n",
    "<b>Males:</b>\n",
    "<br>\n",
    "Life expectancy at birth = 76.4\n",
    "<br>\n",
    "Smoking prevalence (%, age 15+) = 23.5\n",
    "<br>\n",
    "Years of education (age 25+) = 13.94\n",
    "\n",
    "<b>Females:</b>\n",
    "<br>\n",
    "Life expectancy at birth = 81.1\n",
    "<br>\n",
    "Smoking prevalence (%, age 15+) = 19.8\n",
    "<br>\n",
    "Years of education (age 25+) = 13.86\n"
   ]
  },
  {
   "cell_type": "markdown",
   "metadata": {},
   "source": [
    "<h3><font color = \"magenta\">Questions:</h3></font>\n",
    "<p>\n",
    "Q5. Among which group is socioeconomic status, as measured by education, higher? By how much?  You can report sex-specific statistics or examine their average if you like."
   ]
  },
  {
   "cell_type": "code",
   "execution_count": null,
   "metadata": {
    "collapsed": true
   },
   "outputs": [],
   "source": []
  },
  {
   "cell_type": "markdown",
   "metadata": {},
   "source": [
    "Q6. Among which group is smoking more prevalent? By how much? Does it vary by sex?"
   ]
  },
  {
   "cell_type": "markdown",
   "metadata": {},
   "source": []
  },
  {
   "cell_type": "markdown",
   "metadata": {},
   "source": [
    "Q7. Among which group is life expectancy longer? By how much? Does it vary by sex?"
   ]
  },
  {
   "cell_type": "code",
   "execution_count": null,
   "metadata": {
    "collapsed": true
   },
   "outputs": [],
   "source": []
  },
  {
   "cell_type": "markdown",
   "metadata": {},
   "source": [
    "Q8: Formulate a hypothesis (or several) about the causes of life expectancy differences between Americans and Mexicans."
   ]
  },
  {
   "cell_type": "code",
   "execution_count": null,
   "metadata": {
    "collapsed": true
   },
   "outputs": [],
   "source": []
  },
  {
   "cell_type": "markdown",
   "metadata": {},
   "source": [
    "Q9: Compare your insights from examining average health, smoking, and education in the U.S. and Mexico with your insights from examining these average characteristics between white non-Hispanic Americans and Hispanic Americans (who are predominantly but not exclusively of Mexican origin). Do you see similarities or differences?"
   ]
  },
  {
   "cell_type": "code",
   "execution_count": null,
   "metadata": {
    "collapsed": true
   },
   "outputs": [],
   "source": []
  }
 ],
 "metadata": {
  "kernelspec": {
   "display_name": "Python 3",
   "language": "python",
   "name": "python3"
  },
  "language_info": {
   "codemirror_mode": {
    "name": "ipython",
    "version": 3
   },
   "file_extension": ".py",
   "mimetype": "text/x-python",
   "name": "python",
   "nbconvert_exporter": "python",
   "pygments_lexer": "ipython3",
   "version": "3.4.3"
  }
 },
 "nbformat": 4,
 "nbformat_minor": 0
}
