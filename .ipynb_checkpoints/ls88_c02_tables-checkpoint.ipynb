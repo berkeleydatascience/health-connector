{
 "cells": [
  {
   "cell_type": "code",
   "execution_count": 3,
   "metadata": {
    "collapsed": false
   },
   "outputs": [],
   "source": [
    "# HIDDEN\n",
    "\n",
    "import matplotlib\n",
    "matplotlib.use('Agg')\n",
    "from datascience import *\n",
    "%matplotlib inline\n",
    "import matplotlib.pyplot as plots\n",
    "import numpy as np\n",
    "import math\n",
    "import scipy.stats as stats\n",
    "plots.style.use('fivethirtyeight')"
   ]
  },
  {
   "cell_type": "markdown",
   "metadata": {},
   "source": [
    "<h1>Class 2: Jumping the Gun on Tables and Scatter Plots in Python</h1>\n",
    "\n",
    "You probably haven't seen tables or scatter plots in python quite yet, but it's likely you'll want to use them a lot in L&S 88. So let's introduce them in this lab. And let's also introduce some file I/O (\"input/output\") code that you'll soon see in DS8 if you \n",
    "\n",
    "<h2>Data sources</h2>\n",
    "\n",
    "Let's examine time-series data from <a href=\"http://data.worldbank.org/data-catalog/world-development-indicators\">World Development Indicators</a> database. In particular, let's look at life expectancy in the U.S. and in Mexico since 1960."
   ]
  },
  {
   "cell_type": "markdown",
   "metadata": {
    "collapsed": true
   },
   "source": [
    "<u><h3>File I/O</h3></u>\n",
    "\n",
    "As you'll see in DS 8's Lab 3, Python can import an external file into a table using a this function and a call to a valid URL like this one, where the target file probably needs to be comma-delimited (CSV):"
   ]
  },
  {
   "cell_type": "code",
   "execution_count": 7,
   "metadata": {
    "collapsed": false,
    "scrolled": true
   },
   "outputs": [
    {
     "data": {
      "text/html": [
       "<table border=\"1\" class=\"dataframe\">\n",
       "    <thead>\n",
       "        <tr>\n",
       "            <th>year</th> <th>mex_e0</th>\n",
       "        </tr>\n",
       "    </thead>\n",
       "    <tbody>\n",
       "        <tr>\n",
       "            <td>1960</td> <td>57.1  </td>\n",
       "        </tr>\n",
       "    </tbody>\n",
       "        <tr>\n",
       "            <td>1961</td> <td>57.7  </td>\n",
       "        </tr>\n",
       "    </tbody>\n",
       "        <tr>\n",
       "            <td>1962</td> <td>58.2  </td>\n",
       "        </tr>\n",
       "    </tbody>\n",
       "        <tr>\n",
       "            <td>1963</td> <td>58.6  </td>\n",
       "        </tr>\n",
       "    </tbody>\n",
       "        <tr>\n",
       "            <td>1964</td> <td>59.1  </td>\n",
       "        </tr>\n",
       "    </tbody>\n",
       "        <tr>\n",
       "            <td>1965</td> <td>59.4  </td>\n",
       "        </tr>\n",
       "    </tbody>\n",
       "        <tr>\n",
       "            <td>1966</td> <td>59.8  </td>\n",
       "        </tr>\n",
       "    </tbody>\n",
       "        <tr>\n",
       "            <td>1967</td> <td>60.2  </td>\n",
       "        </tr>\n",
       "    </tbody>\n",
       "        <tr>\n",
       "            <td>1968</td> <td>60.5  </td>\n",
       "        </tr>\n",
       "    </tbody>\n",
       "        <tr>\n",
       "            <td>1969</td> <td>60.9  </td>\n",
       "        </tr>\n",
       "    </tbody>\n",
       "</table>\n",
       "<p>... (44 rows omitted)</p"
      ],
      "text/plain": [
       "year | mex_e0\n",
       "1960 | 57.1\n",
       "1961 | 57.7\n",
       "1962 | 58.2\n",
       "1963 | 58.6\n",
       "1964 | 59.1\n",
       "1965 | 59.4\n",
       "1966 | 59.8\n",
       "1967 | 60.2\n",
       "1968 | 60.5\n",
       "1969 | 60.9\n",
       "... (44 rows omitted)"
      ]
     },
     "execution_count": 7,
     "metadata": {},
     "output_type": "execute_result"
    }
   ],
   "source": [
    "MEX = Table.read_table(\"http://demog.berkeley.edu/~redwards/Courses/LS88/c02_mex_e0.csv\")\n",
    "MEX"
   ]
  },
  {
   "cell_type": "markdown",
   "metadata": {},
   "source": [
    "Now lather, rinse, and repeat. Import into another table called `USA` using another source file I've produced: http://demog.berkeley.edu/~redwards/Courses/LS88/c02_usa_e0.csv"
   ]
  },
  {
   "cell_type": "code",
   "execution_count": 11,
   "metadata": {
    "collapsed": false
   },
   "outputs": [],
   "source": [
    "USA = ..."
   ]
  },
  {
   "cell_type": "markdown",
   "metadata": {},
   "source": [
    "Another jump ahead that's helpful for us in L&S 88 is to look at <i>scatter plots</i>, a type of two-way or \"x-y\" graph that we'll use repeatedly. You may not see this in DS 8 until Week 12.\n",
    "\n",
    "To generate a nifty scatter plot of life expectancy over time, use this code:"
   ]
  },
  {
   "cell_type": "code",
   "execution_count": null,
   "metadata": {
    "collapsed": true
   },
   "outputs": [],
   "source": [
    "MEX.scatter('year')"
   ]
  },
  {
   "cell_type": "markdown",
   "metadata": {},
   "source": [
    "Now generate an equivalent scatter plot for the U.S."
   ]
  },
  {
   "cell_type": "code",
   "execution_count": null,
   "metadata": {
    "collapsed": true
   },
   "outputs": [],
   "source": []
  },
  {
   "cell_type": "markdown",
   "metadata": {},
   "source": [
    "<h3><font color = \"magenta\">Questions:</h3></font>\n",
    "<p>\n",
    "Q1. Describe what you see in these plots of life expectancy over time. What is happening to each of the two line? (Bonus \"points\" for anyone who wants to figure out the code to plot them together on the same axes, but that's not necessary.)  "
   ]
  },
  {
   "cell_type": "code",
   "execution_count": null,
   "metadata": {
    "collapsed": false
   },
   "outputs": [],
   "source": []
  },
  {
   "cell_type": "markdown",
   "metadata": {},
   "source": [
    "Q2. How would you describe the dominant pattern in the annual changes in these time series? In other words, are they constant over time? Increasing or decreasing at a stable annual rate, so they're linear? Increasing or decreasing at an increasing or decreasing annual rate, so that they're exponential?"
   ]
  },
  {
   "cell_type": "code",
   "execution_count": null,
   "metadata": {
    "collapsed": true
   },
   "outputs": [],
   "source": []
  },
  {
   "cell_type": "markdown",
   "metadata": {},
   "source": [
    "Q3. Calculate the average annual growth rate for these series separately over the given time period. To review, the average annual growth rate $g$ for a series that starts at $X(0)$ and ends at $X(T)$ is given by \n",
    "\n",
    "$g = \\left( \\frac{X(T)}{X(0)}\\right)^{1/T} - 1$\n",
    "\n",
    "In Python, use \"`**`\" to calculate a power."
   ]
  },
  {
   "cell_type": "code",
   "execution_count": null,
   "metadata": {
    "collapsed": true
   },
   "outputs": [],
   "source": []
  },
  {
   "cell_type": "markdown",
   "metadata": {},
   "source": [
    "Q4: Calculate the average annual rates of increase for these series separately, let's call them $\\Delta$. Reminder: this equals \n",
    "\n",
    "$\\Delta = \\frac{X(T) - X(0)}{T}$"
   ]
  },
  {
   "cell_type": "code",
   "execution_count": null,
   "metadata": {
    "collapsed": true
   },
   "outputs": [],
   "source": []
  },
  {
   "cell_type": "markdown",
   "metadata": {},
   "source": [
    "Q5: Look at your results, and look at the graphs. If you were in charge of producing life expectancy forecasts for the United Nations, what would you say about the future of life expectancy in Mexico and in the U.S. based on these statistics? Think broadly about patterns of change that you see, functional forms, and divergence or uniformity between different subperiods of time."
   ]
  },
  {
   "cell_type": "code",
   "execution_count": null,
   "metadata": {
    "collapsed": true
   },
   "outputs": [],
   "source": []
  }
 ],
 "metadata": {
  "kernelspec": {
   "display_name": "Python 3",
   "language": "python",
   "name": "python3"
  },
  "language_info": {
   "codemirror_mode": {
    "name": "ipython",
    "version": 3
   },
   "file_extension": ".py",
   "mimetype": "text/x-python",
   "name": "python",
   "nbconvert_exporter": "python",
   "pygments_lexer": "ipython3",
   "version": "3.4.4"
  }
 },
 "nbformat": 4,
 "nbformat_minor": 0
}
