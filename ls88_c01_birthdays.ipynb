{
 "cells": [
  {
   "cell_type": "code",
   "execution_count": 1,
   "metadata": {
    "collapsed": false
   },
   "outputs": [
    {
     "data": {
      "text/plain": [
       "'0.4.0.post1'"
      ]
     },
     "execution_count": 1,
     "metadata": {},
     "output_type": "execute_result"
    }
   ],
   "source": [
    "# HIDDEN\n",
    "# This useful nonsense should just go at the top of your notebook.\n",
    "from datascience import *\n",
    "%matplotlib inline\n",
    "import matplotlib.pyplot as plots\n",
    "import numpy as np\n",
    "plots.style.use('fivethirtyeight')\n",
    "# datascience version number of last run of this notebook\n",
    "version.__version__\n"
   ]
  },
  {
   "cell_type": "markdown",
   "metadata": {},
   "source": [
    "<h1>L&S 88 Class 1</h1>\n",
    "\n",
    "Let's play a common statistical game with birthdays to get to know each other better.\n",
    "\n",
    "In a class of 25 people plus an instructor (so 26 people), what do you think the probability is that *at least two of us share the same birthday*?"
   ]
  },
  {
   "cell_type": "markdown",
   "metadata": {},
   "source": [
    "It's easier for me to think about the probability that *nobody* has the same birthday."
   ]
  },
  {
   "cell_type": "markdown",
   "metadata": {},
   "source": [
    "Suppose we had just 3 people.  The probability that nobody has the same birthday equals the probability that person 1 and person 2 don't have the same birthday *times* the probability that person 3 doesn't have that same birthday."
   ]
  },
  {
   "cell_type": "markdown",
   "metadata": {},
   "source": [
    "$Prob[b1 \\neq b2 \\neq b3] = Prob[b1 \\neq b2 = x] \\times Prob[b3 = x]$"
   ]
  },
  {
   "cell_type": "markdown",
   "metadata": {},
   "source": [
    "$Prob[b1≠b2≠b3] = \\frac{364}{365} \\times \\frac{363}{365}$"
   ]
  },
  {
   "cell_type": "code",
   "execution_count": 4,
   "metadata": {
    "collapsed": false
   },
   "outputs": [
    {
     "data": {
      "text/plain": [
       "[364, 363]"
      ]
     },
     "execution_count": 4,
     "metadata": {},
     "output_type": "execute_result"
    }
   ],
   "source": [
    "numerators = [364, 363, 362, 361, 360, 359, 358, 357, 343]\n",
    "numerators"
   ]
  },
  {
   "cell_type": "code",
   "execution_count": 30,
   "metadata": {
    "collapsed": false
   },
   "outputs": [
    {
     "data": {
      "text/plain": [
       "array([ 0,  1,  2,  3,  4,  5,  6,  7,  8,  9, 10, 11, 12, 13, 14, 15, 16,\n",
       "       17, 18, 19, 20, 21, 22])"
      ]
     },
     "execution_count": 30,
     "metadata": {},
     "output_type": "execute_result"
    }
   ],
   "source": [
    "numerators2 = np.arange(0,23)\n",
    "numerators2"
   ]
  },
  {
   "cell_type": "code",
   "execution_count": 31,
   "metadata": {
    "collapsed": false
   },
   "outputs": [
    {
     "data": {
      "text/plain": [
       "array([364, 363, 362, 361, 360, 359, 358, 357, 356, 355, 354, 353, 352,\n",
       "       351, 350, 349, 348, 347, 346, 345, 344, 343, 342])"
      ]
     },
     "execution_count": 31,
     "metadata": {},
     "output_type": "execute_result"
    }
   ],
   "source": [
    "desc = 364-numerators2\n",
    "desc"
   ]
  },
  {
   "cell_type": "code",
   "execution_count": null,
   "metadata": {
    "collapsed": false
   },
   "outputs": [],
   "source": []
  },
  {
   "cell_type": "code",
   "execution_count": 33,
   "metadata": {
    "collapsed": false
   },
   "outputs": [
    {
     "data": {
      "text/plain": [
       "array([ 0.99726027,  0.99452055,  0.99178082,  0.9890411 ,  0.98630137,\n",
       "        0.98356164,  0.98082192,  0.97808219,  0.97534247,  0.97260274,\n",
       "        0.96986301,  0.96712329,  0.96438356,  0.96164384,  0.95890411,\n",
       "        0.95616438,  0.95342466,  0.95068493,  0.94794521,  0.94520548,\n",
       "        0.94246575,  0.93972603,  0.9369863 ])"
      ]
     },
     "execution_count": 33,
     "metadata": {},
     "output_type": "execute_result"
    }
   ],
   "source": [
    "descdiv = desc/365\n",
    "descdiv"
   ]
  },
  {
   "cell_type": "code",
   "execution_count": 34,
   "metadata": {
    "collapsed": false
   },
   "outputs": [
    {
     "data": {
      "text/plain": [
       "array([ 0.99726027,  0.99179583,  0.98364409,  0.97286443,  0.95953752,\n",
       "        0.9437643 ,  0.92566471,  0.90537617,  0.88305182,  0.85885862,\n",
       "        0.83297521,  0.80558972,  0.77689749,  0.74709868,  0.71639599,\n",
       "        0.68499233,  0.65308858,  0.62088147,  0.58856162,  0.55631166,\n",
       "        0.52430469,  0.49270277,  0.46165574])"
      ]
     },
     "execution_count": 34,
     "metadata": {},
     "output_type": "execute_result"
    }
   ],
   "source": [
    "ourprob = np.cumprod(descdiv)\n",
    "ourprob"
   ]
  },
  {
   "cell_type": "markdown",
   "metadata": {},
   "source": [
    "So the probability that nobody in a group of 23 people has a common birthday is only 46.16%."
   ]
  },
  {
   "cell_type": "code",
   "execution_count": null,
   "metadata": {
    "collapsed": false
   },
   "outputs": [],
   "source": []
  },
  {
   "cell_type": "code",
   "execution_count": null,
   "metadata": {
    "collapsed": true
   },
   "outputs": [],
   "source": []
  }
 ],
 "metadata": {
  "kernelspec": {
   "display_name": "Python 3",
   "language": "python",
   "name": "python3"
  },
  "language_info": {
   "codemirror_mode": {
    "name": "ipython",
    "version": 3
   },
   "file_extension": ".py",
   "mimetype": "text/x-python",
   "name": "python",
   "nbconvert_exporter": "python",
   "pygments_lexer": "ipython3",
   "version": "3.4.4"
  }
 },
 "nbformat": 4,
 "nbformat_minor": 0
}
