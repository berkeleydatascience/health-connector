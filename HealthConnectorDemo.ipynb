{
 "cells": [
  {
   "cell_type": "code",
   "execution_count": 180,
   "metadata": {
    "collapsed": true
   },
   "outputs": [],
   "source": [
    "# HIDDEN\n",
    "\n",
    "import matplotlib\n",
    "matplotlib.use('Agg')\n",
    "from datascience import *\n",
    "%matplotlib inline\n",
    "import matplotlib.pyplot as plots\n",
    "import numpy as np\n",
    "import math\n",
    "import scipy.stats as stats\n",
    "plots.style.use('fivethirtyeight')"
   ]
  },
  {
   "cell_type": "markdown",
   "metadata": {
    "collapsed": true
   },
   "source": [
    "Welcome to L&S88- Health, Human Behavior, and Data!\n",
    "\n",
    "In this class, we will be practicing how to manipulate data to form quantitative measures from a data set (such as the median) using data from WWII. The data we will be using is in the c11_wwii.csv file, which consists of 83,495 observations of men in the 5% public use sample from the 1980 Census. \n",
    "These observations were restricted to men born in the third or fourth quarter of 1924, 1926, and 1928.\n",
    "\n",
    "The columns of this data set are:\n",
    "1. \"birthyr\" (year of birth)\n",
    "2. \"birthqrtr\" (quarter of birth)\n",
    "3. \"vetwwii\" (an indicator of having served in WWI)\n",
    "4. \"incwage\" (wage and salary income)\n",
    "5. \"disabwrk1\" (a dichotomous indicator of work-limiting disability)\n",
    "6. \"disabwrk2\" (a trichotomous indicator of work-limiting disability)\n",
    "\n",
    "\n",
    "                                                                                              \n"
   ]
  },
  {
   "cell_type": "code",
   "execution_count": 181,
   "metadata": {
    "collapsed": false,
    "scrolled": true
   },
   "outputs": [
    {
     "data": {
      "text/html": [
       "<table border=\"1\" class=\"dataframe\">\n",
       "    <thead>\n",
       "        <tr>\n",
       "            <th>birthyr</th> <th>birthqtr</th> <th>vetwwii</th> <th>incwage</th> <th>disabwrk1</th> <th>disabwrk2</th>\n",
       "        </tr>\n",
       "    </thead>\n",
       "    <tbody>\n",
       "        <tr>\n",
       "            <td>1924   </td> <td>4       </td> <td>1      </td> <td>35005  </td> <td>0        </td> <td>0        </td>\n",
       "        </tr>\n",
       "    </tbody>\n",
       "        <tr>\n",
       "            <td>1926   </td> <td>3       </td> <td>1      </td> <td>54005  </td> <td>0        </td> <td>0        </td>\n",
       "        </tr>\n",
       "    </tbody>\n",
       "        <tr>\n",
       "            <td>1926   </td> <td>4       </td> <td>1      </td> <td>18005  </td> <td>0        </td> <td>0        </td>\n",
       "        </tr>\n",
       "    </tbody>\n",
       "        <tr>\n",
       "            <td>1928   </td> <td>4       </td> <td>0      </td> <td>26005  </td> <td>0        </td> <td>0        </td>\n",
       "        </tr>\n",
       "    </tbody>\n",
       "        <tr>\n",
       "            <td>1928   </td> <td>4       </td> <td>1      </td> <td>72005  </td> <td>0        </td> <td>0        </td>\n",
       "        </tr>\n",
       "    </tbody>\n",
       "        <tr>\n",
       "            <td>1928   </td> <td>4       </td> <td>0      </td> <td>45005  </td> <td>0        </td> <td>0        </td>\n",
       "        </tr>\n",
       "    </tbody>\n",
       "        <tr>\n",
       "            <td>1928   </td> <td>4       </td> <td>0      </td> <td>19005  </td> <td>0        </td> <td>0        </td>\n",
       "        </tr>\n",
       "    </tbody>\n",
       "        <tr>\n",
       "            <td>1928   </td> <td>3       </td> <td>0      </td> <td>35005  </td> <td>1        </td> <td>1        </td>\n",
       "        </tr>\n",
       "    </tbody>\n",
       "        <tr>\n",
       "            <td>1928   </td> <td>3       </td> <td>0      </td> <td>12005  </td> <td>0        </td> <td>0        </td>\n",
       "        </tr>\n",
       "    </tbody>\n",
       "        <tr>\n",
       "            <td>1924   </td> <td>3       </td> <td>1      </td> <td>0      </td> <td>1        </td> <td>2        </td>\n",
       "        </tr>\n",
       "    </tbody>\n",
       "</table>\n",
       "<p>... (83485 rows omitted)</p"
      ],
      "text/plain": [
       "birthyr | birthqtr | vetwwii | incwage | disabwrk1 | disabwrk2\n",
       "1924    | 4        | 1       | 35005   | 0         | 0\n",
       "1926    | 3        | 1       | 54005   | 0         | 0\n",
       "1926    | 4        | 1       | 18005   | 0         | 0\n",
       "1928    | 4        | 0       | 26005   | 0         | 0\n",
       "1928    | 4        | 1       | 72005   | 0         | 0\n",
       "1928    | 4        | 0       | 45005   | 0         | 0\n",
       "1928    | 4        | 0       | 19005   | 0         | 0\n",
       "1928    | 3        | 0       | 35005   | 1         | 1\n",
       "1928    | 3        | 0       | 12005   | 0         | 0\n",
       "1924    | 3        | 1       | 0       | 1         | 2\n",
       "... (83485 rows omitted)"
      ]
     },
     "execution_count": 181,
     "metadata": {},
     "output_type": "execute_result"
    }
   ],
   "source": [
    "#load file\n",
    "men = Table.read_table('c11_wwii.csv')\n",
    "men"
   ]
  },
  {
   "cell_type": "markdown",
   "metadata": {},
   "source": [
    "<h3><font color = \"black\">Questions:</h3></font>\n",
    "<p>\n",
    "\n",
    "1a. Find the median income across WWII veterans for men born in the third or fourth quarter of 1926."
   ]
  },
  {
   "cell_type": "code",
   "execution_count": 182,
   "metadata": {
    "collapsed": false,
    "scrolled": true
   },
   "outputs": [
    {
     "data": {
      "text/plain": [
       "17175"
      ]
     },
     "execution_count": 182,
     "metadata": {},
     "output_type": "execute_result"
    }
   ],
   "source": [
    "#Filter table until it contains only veterans born in 1926 Q3 or Q4\n",
    "vetmen = men.where(men['vetwwii']== 1)\n",
    "vetmen1926 = vetmen.where(vetmen[\"birthyr\"] == 1926)\n",
    "vetmen1926Q3Q4 = vetmen1926.where(np.logical_or(vetmen1926[\"birthqtr\"] == 3, vetmen1926['birthqtr'] == 4))\n",
    "\n",
    "#Sort the table by incwage. Then, to find the median, because there is an odd number of entries and indexing starts at 0, the median will just\n",
    "#the middle entry of the incwage array. For some reason the array has a mean function but not median. \n",
    "x = vetmen1926Q3Q4.sort('incwage', descending = True)\n",
    "size = x['incwage'].size\n",
    "median = x['incwage'][size / 2]\n",
    "median\n"
   ]
  },
  {
   "cell_type": "markdown",
   "metadata": {},
   "source": [
    "1b. Find the trimean of the incomes.<p>\n",
    "Hint: trimean = (median * 2 + 25th percentile + 75th percentile)/4"
   ]
  },
  {
   "cell_type": "code",
   "execution_count": 183,
   "metadata": {
    "collapsed": false
   },
   "outputs": [
    {
     "data": {
      "text/plain": [
       "16450.0"
      ]
     },
     "execution_count": 183,
     "metadata": {},
     "output_type": "execute_result"
    }
   ],
   "source": [
    "trimean = (percentile(25, x['incwage']) + percentile(75, x['incwage']) + 2 * median) / 4\n",
    "trimean"
   ]
  },
  {
   "cell_type": "markdown",
   "metadata": {},
   "source": [
    "2a. Find the median income for all men, WWII veterans and non-veterans, in three groups based on their birth year (one group for 1924, another for 1926, etc.):  "
   ]
  },
  {
   "cell_type": "code",
   "execution_count": 184,
   "metadata": {
    "collapsed": true
   },
   "outputs": [],
   "source": [
    "# born 1924 Q3 or Q4, born 1926 Q3 or Q4, and born 1928 Q3 or Q4, with income sorted to descending\n",
    "men1924 = men.where(men['birthyr'] == 1924)\n",
    "men1926 = men.where(men['birthyr'] == 1926)\n",
    "men1928 = men.where(men['birthyr'] == 1928)\n",
    "men1924Q3Q4 = men1924.where(np.logical_or(men1924['birthqtr'] == 3, men1924['birthqtr'] == 4)).sort('incwage', descending = True)\n",
    "men1926Q3Q4 = men1926.where(np.logical_or(men1926['birthqtr'] == 3, men1926['birthqtr'] == 4)).sort('incwage', descending = True)\n",
    "men1928Q3Q4 = men1928.where(np.logical_or(men1928['birthqtr'] == 3, men1928['birthqtr'] == 4)).sort('incwage', descending = True)\n",
    "#men1924Q3Q4['incwage'].size is odd, men1926Q3Q4['incwage'].size is even, men1928Q3Q4['incwage].size is even\n",
    "median1924Q3Q4 = men1924Q3Q4['incwage'][men1924Q3Q4['incwage'].size / 2]\n",
    "median1926Q3Q4 = (men1926Q3Q4['incwage'][men1926Q3Q4['incwage'].size / 2 - 1] + men1926Q3Q4['incwage'][men1926Q3Q4['incwage'].size / 2])/2\n",
    "median1928Q3Q4 = (men1928Q3Q4['incwage'][men1928Q3Q4['incwage'].size / 2 - 1] + men1928Q3Q4['incwage'][men1928Q3Q4['incwage'].size / 2])/2\n",
    "\n"
   ]
  },
  {
   "cell_type": "markdown",
   "metadata": {},
   "source": [
    "2b. Find the trimeans for the incomes for each of the three groups above (1924, 1926, 1928)."
   ]
  },
  {
   "cell_type": "code",
   "execution_count": 185,
   "metadata": {
    "collapsed": true
   },
   "outputs": [],
   "source": [
    "trimean2 = (percentile(25, men1924Q3Q4['incwage']) + percentile(75, men1924Q3Q4['incwage']) + 2 * median1924Q3Q4) / 4\n",
    "trimean3 = (percentile(25, men1926Q3Q4['incwage']) + percentile(75, men1926Q3Q4['incwage']) + 2 * median1926Q3Q4) / 4\n",
    "trimean4 = (percentile(25, men1928Q3Q4['incwage']) + percentile(75, men1928Q3Q4['incwage']) + 2 * median1928Q3Q4) / 4"
   ]
  },
  {
   "cell_type": "markdown",
   "metadata": {},
   "source": [
    "3a. Now let’s do for the disability question what we did for the incomes.  \n",
    "Let’s look at the mean disabwrk1 across vetwwii for men born in 1926 Q3 or Q4 (like 1a)"
   ]
  },
  {
   "cell_type": "code",
   "execution_count": 186,
   "metadata": {
    "collapsed": false
   },
   "outputs": [
    {
     "data": {
      "text/plain": [
       "0.14061917195076465"
      ]
     },
     "execution_count": 186,
     "metadata": {},
     "output_type": "execute_result"
    }
   ],
   "source": [
    "mean1 = vetmen1926Q3Q4['disabwrk1'].mean()\n",
    "mean1"
   ]
  },
  {
   "cell_type": "markdown",
   "metadata": {},
   "source": [
    "4. Let’s then look at the mean disabwrk1 for three groups:  born 1924 Q3 or Q4, born 1926 Q3 or Q4, and born 1928 Q3 or Q4 (like 2a)"
   ]
  },
  {
   "cell_type": "code",
   "execution_count": null,
   "metadata": {
    "collapsed": true
   },
   "outputs": [],
   "source": [
    "mean2 = men1924Q3Q4['disabwrk1'].mean()\n",
    "mean3 = men1926Q3Q4['disabwrk1'].mean()\n",
    "mean4 = men1928Q3Q4['disabwrk1'].mean()\n"
   ]
  },
  {
   "cell_type": "code",
   "execution_count": null,
   "metadata": {
    "collapsed": true
   },
   "outputs": [],
   "source": []
  }
 ],
 "metadata": {
  "kernelspec": {
   "display_name": "Python 3",
   "language": "python",
   "name": "python3"
  },
  "language_info": {
   "codemirror_mode": {
    "name": "ipython",
    "version": 3
   },
   "file_extension": ".py",
   "mimetype": "text/x-python",
   "name": "python",
   "nbconvert_exporter": "python",
   "pygments_lexer": "ipython3",
   "version": "3.4.0"
  }
 },
 "nbformat": 4,
 "nbformat_minor": 0
}
