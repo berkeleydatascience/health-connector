{
 "cells": [
  {
   "cell_type": "code",
   "execution_count": 1,
   "metadata": {
    "collapsed": false
   },
   "outputs": [],
   "source": [
    "# HIDDEN\n",
    "from datascience import *\n",
    "%matplotlib inline\n",
    "import matplotlib.pyplot as plots\n",
    "plots.style.use('fivethirtyeight')"
   ]
  },
  {
   "cell_type": "code",
   "execution_count": 2,
   "metadata": {
    "collapsed": false
   },
   "outputs": [],
   "source": [
    "# Read in the data from health records survey as a raw table\n",
    "hrec06 = Table.read_table(\"./hrsextract06.csv\")"
   ]
  },
  {
   "cell_type": "code",
   "execution_count": 3,
   "metadata": {
    "collapsed": false
   },
   "outputs": [
    {
     "data": {
      "text/html": [
       "<table border=\"1\" class=\"dataframe\">\n",
       "    <thead>\n",
       "        <tr>\n",
       "            <th>hhidpn</th> <th>r8agey_m</th> <th>ragender</th> <th>raracem</th> <th>rahispan</th> <th>raedyrs</th> <th>h8cpl</th> <th>h8atota</th> <th>rayshlt</th> <th>r8shlt</th> <th>r8expyrs</th> <th>r8cesd</th> <th>r8bpavgs</th> <th>r8bpavgp</th> <th>r8smoken</th> <th>r8mdactx</th> <th>r8weightbio</th> <th>r8weight</th> <th>r8heightbio</th> <th>r8height</th>\n",
       "        </tr>\n",
       "    </thead>\n",
       "    <tbody>\n",
       "        <tr>\n",
       "            <td>3010    </td> <td>70      </td> <td>1       </td> <td>1      </td> <td>0       </td> <td>12     </td> <td>1    </td> <td>914000    </td> <td>3      </td> <td>3     </td> <td>21.5    </td> <td>0     </td> <td>140     </td> <td>58      </td> <td>0       </td> <td>4       </td> <td>74.1623    </td> <td>71.6672 </td> <td>1.64465    </td> <td>1.6256  </td>\n",
       "        </tr>\n",
       "    </tbody>\n",
       "        <tr>\n",
       "            <td>3020    </td> <td>67      </td> <td>2       </td> <td>1      </td> <td>0       </td> <td>16     </td> <td>1    </td> <td>914000    </td> <td>1      </td> <td>3     </td> <td>23.7    </td> <td>0     </td> <td>139     </td> <td>72      </td> <td>0       </td> <td>1       </td> <td>66.9048    </td> <td>65.317  </td> <td>1.61925    </td> <td>1.6256  </td>\n",
       "        </tr>\n",
       "    </tbody>\n",
       "        <tr>\n",
       "            <td>10003030</td> <td>50      </td> <td>2       </td> <td>1      </td> <td>0       </td> <td>16     </td> <td>0    </td> <td>12000     </td> <td>3      </td> <td>5     </td> <td>47.5    </td> <td>4     </td> <td>124     </td> <td>98      </td> <td>0       </td> <td>2       </td> <td>64.4101    </td> <td>58.9667 </td> <td>1.5494     </td> <td>1.5748  </td>\n",
       "        </tr>\n",
       "    </tbody>\n",
       "        <tr>\n",
       "            <td>10004010</td> <td>66      </td> <td>1       </td> <td>1      </td> <td>0       </td> <td>16     </td> <td>1    </td> <td>1.832e+06 </td> <td>1      </td> <td>4     </td> <td>7       </td> <td>1     </td> <td>130     </td> <td>74      </td> <td>0       </td> <td>2       </td> <td>101.605    </td> <td>102.511 </td> <td>1.8415     </td> <td>1.8542  </td>\n",
       "        </tr>\n",
       "    </tbody>\n",
       "        <tr>\n",
       "            <td>10004040</td> <td>60      </td> <td>2       </td> <td>1      </td> <td>0       </td> <td>12     </td> <td>1    </td> <td>1.832e+06 </td> <td>1      </td> <td>2     </td> <td>28.25   </td> <td>0     </td> <td>125     </td> <td>67      </td> <td>0       </td> <td>2       </td> <td>77.3374    </td> <td>77.1103 </td> <td>1.6383     </td> <td>1.651   </td>\n",
       "        </tr>\n",
       "    </tbody>\n",
       "        <tr>\n",
       "            <td>10013010</td> <td>68      </td> <td>1       </td> <td>1      </td> <td>0       </td> <td>12     </td> <td>0    </td> <td>50        </td> <td>1      </td> <td>3     </td> <td>16.5    </td> <td>2     </td> <td>125     </td> <td>67      </td> <td>0       </td> <td>5       </td> <td>110.223    </td> <td>108.862 </td> <td>1.7272     </td> <td>1.7272  </td>\n",
       "        </tr>\n",
       "    </tbody>\n",
       "        <tr>\n",
       "            <td>10038010</td> <td>70      </td> <td>1       </td> <td>1      </td> <td>0       </td> <td>16     </td> <td>1    </td> <td>2.5e+06   </td> <td>2      </td> <td>2     </td> <td>22.5    </td> <td>1     </td> <td>107     </td> <td>52      </td> <td>0       </td> <td>2       </td> <td>73.4819    </td> <td>74.8423 </td> <td>1.70815    </td> <td>1.7526  </td>\n",
       "        </tr>\n",
       "    </tbody>\n",
       "        <tr>\n",
       "            <td>10038040</td> <td>63      </td> <td>2       </td> <td>1      </td> <td>0       </td> <td>16     </td> <td>1    </td> <td>2.5e+06   </td> <td>1      </td> <td>1     </td> <td>27.05   </td> <td>1     </td> <td>112     </td> <td>70      </td> <td>0       </td> <td>2       </td> <td>65.3173    </td> <td>64.4098 </td> <td>1.67005    </td> <td>1.6764  </td>\n",
       "        </tr>\n",
       "    </tbody>\n",
       "        <tr>\n",
       "            <td>10050010</td> <td>64      </td> <td>2       </td> <td>3      </td> <td>0       </td> <td>17     </td> <td>0    </td> <td>664066    </td> <td>1      </td> <td>2     </td> <td>27.025  </td> <td>1     </td> <td>136     </td> <td>90      </td> <td>0       </td> <td>5       </td> <td>75.9767    </td> <td>68.0385 </td> <td>1.5875     </td> <td>1.6256  </td>\n",
       "        </tr>\n",
       "    </tbody>\n",
       "        <tr>\n",
       "            <td>10059020</td> <td>70      </td> <td>2       </td> <td>1      </td> <td>0       </td> <td>16     </td> <td>1    </td> <td>1.2405e+07</td> <td>2      </td> <td>3     </td> <td>19.5    </td> <td>0     </td> <td>112     </td> <td>54      </td> <td>1       </td> <td>2       </td> <td>58.967     </td> <td>57.6059 </td> <td>1.6637     </td> <td>1.6764  </td>\n",
       "        </tr>\n",
       "    </tbody>\n",
       "</table>\n",
       "<p>... (6332 rows omitted)</p"
      ],
      "text/plain": [
       "<Table(20 cols, 6342 rows): | hhidpn | r8agey_m | ragender | raracem | rahispan | raedyrs | h8cpl | h8atota | rayshlt | r8shlt | r8expyrs | r8cesd | r8bpavgs | r8bpavgp | r8smoken | r8mdactx | r8weightbio | r8weight | r8heightbio | r8height |>"
      ]
     },
     "execution_count": 3,
     "metadata": {},
     "output_type": "execute_result"
    }
   ],
   "source": [
    "# the raw table - pretty yechy\n",
    "hrec06"
   ]
  },
  {
   "cell_type": "code",
   "execution_count": 4,
   "metadata": {
    "collapsed": false
   },
   "outputs": [
    {
     "data": {
      "text/html": [
       "<table border=\"1\" class=\"dataframe\">\n",
       "    <thead>\n",
       "        <tr>\n",
       "            <th>raw label</th> <th>label</th> <th>encoding</th> <th>Description</th>\n",
       "        </tr>\n",
       "    </thead>\n",
       "    <tbody>\n",
       "        <tr>\n",
       "            <td>hhidpn   </td> <td>id            </td> <td>None                       </td> <td>identifier                         </td>\n",
       "        </tr>\n",
       "    </tbody>\n",
       "        <tr>\n",
       "            <td>r8agey_m </td> <td>age           </td> <td>None                       </td> <td>age in years in wave 8             </td>\n",
       "        </tr>\n",
       "    </tbody>\n",
       "        <tr>\n",
       "            <td>ragender </td> <td>gender        </td> <td>['male', 'female']         </td> <td>1 = male,  2 = female)             </td>\n",
       "        </tr>\n",
       "    </tbody>\n",
       "        <tr>\n",
       "            <td>raracem  </td> <td>race          </td> <td>['white', 'black', 'other']</td> <td>(1 = white,  2 = black,  3 = other)</td>\n",
       "        </tr>\n",
       "    </tbody>\n",
       "        <tr>\n",
       "            <td>rahispan </td> <td>hispanic      </td> <td>None                       </td> <td>(1 = yes)                          </td>\n",
       "        </tr>\n",
       "    </tbody>\n",
       "        <tr>\n",
       "            <td>raedyrs  </td> <td>education     </td> <td>None                       </td> <td>education in years                 </td>\n",
       "        </tr>\n",
       "    </tbody>\n",
       "        <tr>\n",
       "            <td>h8cpl    </td> <td>couple        </td> <td>None                       </td> <td>in a couple household (1 = yes)    </td>\n",
       "        </tr>\n",
       "    </tbody>\n",
       "        <tr>\n",
       "            <td>r8bpavgs </td> <td>blood pressure</td> <td>None                       </td> <td>average systolic BP                </td>\n",
       "        </tr>\n",
       "    </tbody>\n",
       "        <tr>\n",
       "            <td>r8bpavgp </td> <td>pulse         </td> <td>None                       </td> <td>average pulse                      </td>\n",
       "        </tr>\n",
       "    </tbody>\n",
       "        <tr>\n",
       "            <td>r8smoken </td> <td>smoker        </td> <td>None                       </td> <td>currently smokes cigarettes        </td>\n",
       "        </tr>\n",
       "    </tbody>\n",
       "</table>\n",
       "<p>... (3 rows omitted)</p"
      ],
      "text/plain": [
       "<Table(4 cols, 13 rows): | raw label | label | encoding | Description |>"
      ]
     },
     "execution_count": 4,
     "metadata": {},
     "output_type": "execute_result"
    }
   ],
   "source": [
    "# Create a table that provides the mapping and decoding to a more readable form\n",
    "health_map = Table.from_rows(\n",
    "    [[\"hhidpn\",  \"id\", None, \"identifier\"],\n",
    "    [\"r8agey_m\", \"age\", None, \"age in years in wave 8\"],\n",
    "    [\"ragender\", \"gender\", ['male','female'], \"1 = male,  2 = female)\"],\n",
    "    [\"raracem\",  \"race\",   ['white','black','other'], \"(1 = white,  2 = black,  3 = other)\"],\n",
    "    [\"rahispan\", \"hispanic\",  None, \"(1 = yes)\"],\n",
    "    [\"raedyrs\",  \"education\", None, \"education in years\"],\n",
    "    [\"h8cpl\",    \"couple\",    None, \"in a couple household (1 = yes)\"],\n",
    "    [\"r8bpavgs\", \"blood pressure\", None,\"average systolic BP\"],\n",
    "    [\"r8bpavgp\", \"pulse\", None, \"average pulse\"],\n",
    "    [\"r8smoken\", \"smoker\",None, \"currently smokes cigarettes\"],\n",
    "    [\"r8mdactx\", \"exercise\", None, \"frequency of moderate exercise (1=everyday, 2=>1perweek, 3=1perweek, 4=1-3permonth\\\n",
    ", 5=never)\"],\n",
    "    [\"r8weightbio\", \"weight\", None, \"objective weight in kg\"],\n",
    "    [\"r8heightbio\",\"height\", None, \"objective height in m\"],\n",
    "    ], \n",
    "    [\"raw label\", \"label\", \"encoding\", \"Description\"])\n",
    "health_map"
   ]
  },
  {
   "cell_type": "code",
   "execution_count": 5,
   "metadata": {
    "collapsed": false
   },
   "outputs": [],
   "source": [
    "def table_lookup(table,key_col,key,map_col):\n",
    "    row = np.where(table[key_col]==key)\n",
    "    if len(row[0]) == 1:\n",
    "        return table[map_col][row[0]][0]\n",
    "    else:\n",
    "        return -1"
   ]
  },
  {
   "cell_type": "code",
   "execution_count": 6,
   "metadata": {
    "collapsed": false
   },
   "outputs": [],
   "source": [
    "def map_raw_table(raw_table,map_table):\n",
    "    mapped = Table()\n",
    "    for raw_label in raw_table :\n",
    "        if raw_label in map_table[\"raw label\"] :\n",
    "            new_label = table_lookup(map_table,'raw label',raw_label,'label')\n",
    "            encoding = table_lookup(map_table,'raw label',raw_label,'encoding')\n",
    "            if encoding is None :\n",
    "                mapped[new_label] = raw_table[raw_label]\n",
    "            else:\n",
    "                mapped[new_label] = raw_table.apply(lambda x: encoding[x-1], raw_label)\n",
    "    return mapped"
   ]
  },
  {
   "cell_type": "code",
   "execution_count": 12,
   "metadata": {
    "collapsed": false
   },
   "outputs": [
    {
     "data": {
      "text/html": [
       "<table border=\"1\" class=\"dataframe\">\n",
       "    <thead>\n",
       "        <tr>\n",
       "            <th>id</th> <th>age</th> <th>gender</th> <th>race</th> <th>hispanic</th> <th>education</th> <th>couple</th> <th>blood pressure</th> <th>pulse</th> <th>smoker</th> <th>exercise</th> <th>weight</th> <th>height</th>\n",
       "        </tr>\n",
       "    </thead>\n",
       "    <tbody>\n",
       "        <tr>\n",
       "            <td>3010    </td> <td>70  </td> <td>male  </td> <td>white</td> <td>0       </td> <td>12       </td> <td>1     </td> <td>140           </td> <td>58   </td> <td>0     </td> <td>4       </td> <td>74.1623</td> <td>1.64465</td>\n",
       "        </tr>\n",
       "    </tbody>\n",
       "        <tr>\n",
       "            <td>3020    </td> <td>67  </td> <td>female</td> <td>white</td> <td>0       </td> <td>16       </td> <td>1     </td> <td>139           </td> <td>72   </td> <td>0     </td> <td>1       </td> <td>66.9048</td> <td>1.61925</td>\n",
       "        </tr>\n",
       "    </tbody>\n",
       "        <tr>\n",
       "            <td>10003030</td> <td>50  </td> <td>female</td> <td>white</td> <td>0       </td> <td>16       </td> <td>0     </td> <td>124           </td> <td>98   </td> <td>0     </td> <td>2       </td> <td>64.4101</td> <td>1.5494 </td>\n",
       "        </tr>\n",
       "    </tbody>\n",
       "        <tr>\n",
       "            <td>10004010</td> <td>66  </td> <td>male  </td> <td>white</td> <td>0       </td> <td>16       </td> <td>1     </td> <td>130           </td> <td>74   </td> <td>0     </td> <td>2       </td> <td>101.605</td> <td>1.8415 </td>\n",
       "        </tr>\n",
       "    </tbody>\n",
       "        <tr>\n",
       "            <td>10004040</td> <td>60  </td> <td>female</td> <td>white</td> <td>0       </td> <td>12       </td> <td>1     </td> <td>125           </td> <td>67   </td> <td>0     </td> <td>2       </td> <td>77.3374</td> <td>1.6383 </td>\n",
       "        </tr>\n",
       "    </tbody>\n",
       "        <tr>\n",
       "            <td>10013010</td> <td>68  </td> <td>male  </td> <td>white</td> <td>0       </td> <td>12       </td> <td>0     </td> <td>125           </td> <td>67   </td> <td>0     </td> <td>5       </td> <td>110.223</td> <td>1.7272 </td>\n",
       "        </tr>\n",
       "    </tbody>\n",
       "        <tr>\n",
       "            <td>10038010</td> <td>70  </td> <td>male  </td> <td>white</td> <td>0       </td> <td>16       </td> <td>1     </td> <td>107           </td> <td>52   </td> <td>0     </td> <td>2       </td> <td>73.4819</td> <td>1.70815</td>\n",
       "        </tr>\n",
       "    </tbody>\n",
       "        <tr>\n",
       "            <td>10038040</td> <td>63  </td> <td>female</td> <td>white</td> <td>0       </td> <td>16       </td> <td>1     </td> <td>112           </td> <td>70   </td> <td>0     </td> <td>2       </td> <td>65.3173</td> <td>1.67005</td>\n",
       "        </tr>\n",
       "    </tbody>\n",
       "        <tr>\n",
       "            <td>10050010</td> <td>64  </td> <td>female</td> <td>other</td> <td>0       </td> <td>17       </td> <td>0     </td> <td>136           </td> <td>90   </td> <td>0     </td> <td>5       </td> <td>75.9767</td> <td>1.5875 </td>\n",
       "        </tr>\n",
       "    </tbody>\n",
       "        <tr>\n",
       "            <td>10059020</td> <td>70  </td> <td>female</td> <td>white</td> <td>0       </td> <td>16       </td> <td>1     </td> <td>112           </td> <td>54   </td> <td>1     </td> <td>2       </td> <td>58.967 </td> <td>1.6637 </td>\n",
       "        </tr>\n",
       "    </tbody>\n",
       "</table>\n",
       "<p>... (6332 rows omitted)</p"
      ],
      "text/plain": [
       "<Table(13 cols, 6342 rows): | id | age | gender | race | hispanic | education | couple | blood pressure | pulse | smoker | exercise | weight | height |>"
      ]
     },
     "execution_count": 12,
     "metadata": {},
     "output_type": "execute_result"
    }
   ],
   "source": [
    "# create a more usable table by mapping the raw to finished\n",
    "health = map_raw_table(hrec06,health_map)\n",
    "health"
   ]
  },
  {
   "cell_type": "code",
   "execution_count": 13,
   "metadata": {
    "collapsed": true
   },
   "outputs": [],
   "source": [
    "def firstQtile(x) : return np.percentile(x,25)\n",
    "def thirdQtile(x) : return np.percentile(x,25)\n",
    "summary_ops = (min, firstQtile, np.median, np.mean, thirdQtile, max, sum)"
   ]
  },
  {
   "cell_type": "code",
   "execution_count": 14,
   "metadata": {
    "collapsed": false
   },
   "outputs": [
    {
     "name": "stdout",
     "output_type": "stream",
     "text": [
      "893  smokers\n",
      "5449  non-smokers\n"
     ]
    }
   ],
   "source": [
    "# Let's try what is the effect of smoking\n",
    "smokers = health.where('smoker',1)\n",
    "nosmokers = health.where('smoker',0)\n",
    "print(smokers.num_rows, ' smokers')\n",
    "print(nosmokers.num_rows, ' non-smokers')"
   ]
  },
  {
   "cell_type": "code",
   "execution_count": 15,
   "metadata": {
    "collapsed": false
   },
   "outputs": [
    {
     "data": {
      "text/html": [
       "<table border=\"1\" class=\"dataframe\">\n",
       "    <thead>\n",
       "        <tr>\n",
       "            <th>statistic</th> <th>id</th> <th>age</th> <th>gender</th> <th>race</th> <th>hispanic</th> <th>education</th> <th>couple</th> <th>blood pressure</th> <th>pulse</th> <th>smoker</th> <th>exercise</th> <th>weight</th> <th>height</th>\n",
       "        </tr>\n",
       "    </thead>\n",
       "    <tbody>\n",
       "        <tr>\n",
       "            <td>min       </td> <td>1.0059e+07 </td> <td>30     </td> <td>female</td> <td>black</td> <td>0        </td> <td>0        </td> <td>0      </td> <td>68            </td> <td>45     </td> <td>1     </td> <td>1       </td> <td>36.0606</td> <td>1.4224 </td>\n",
       "        </tr>\n",
       "    </tbody>\n",
       "        <tr>\n",
       "            <td>firstQtile</td> <td>4.8508e+07 </td> <td>55     </td> <td>      </td> <td>     </td> <td>0        </td> <td>11       </td> <td>0      </td> <td>114           </td> <td>66     </td> <td>1     </td> <td>2       </td> <td>64.1833</td> <td>1.6002 </td>\n",
       "        </tr>\n",
       "    </tbody>\n",
       "        <tr>\n",
       "            <td>median    </td> <td>1.15627e+08</td> <td>62     </td> <td>      </td> <td>     </td> <td>0        </td> <td>12       </td> <td>1      </td> <td>129           </td> <td>74     </td> <td>1     </td> <td>3       </td> <td>75.2963</td> <td>1.67005</td>\n",
       "        </tr>\n",
       "    </tbody>\n",
       "        <tr>\n",
       "            <td>mean      </td> <td>1.98972e+08</td> <td>62.0728</td> <td>      </td> <td>     </td> <td>0.0615901</td> <td>12.1299  </td> <td>0.62598</td> <td>130.354       </td> <td>74.5801</td> <td>1     </td> <td>2.98768 </td> <td>76.7292</td> <td>1.67348</td>\n",
       "        </tr>\n",
       "    </tbody>\n",
       "        <tr>\n",
       "            <td>thirdQtile</td> <td>4.8508e+07 </td> <td>55     </td> <td>      </td> <td>     </td> <td>0        </td> <td>11       </td> <td>0      </td> <td>114           </td> <td>66     </td> <td>1     </td> <td>2       </td> <td>64.1833</td> <td>1.6002 </td>\n",
       "        </tr>\n",
       "    </tbody>\n",
       "        <tr>\n",
       "            <td>max       </td> <td>5.02753e+08</td> <td>87     </td> <td>male  </td> <td>white</td> <td>1        </td> <td>17       </td> <td>1      </td> <td>217           </td> <td>119    </td> <td>1     </td> <td>5       </td> <td>134.263</td> <td>1.9685 </td>\n",
       "        </tr>\n",
       "    </tbody>\n",
       "        <tr>\n",
       "            <td>sum       </td> <td>1.77682e+11</td> <td>55431  </td> <td>      </td> <td>     </td> <td>55       </td> <td>10832    </td> <td>559    </td> <td>116406        </td> <td>66600  </td> <td>893   </td> <td>2668    </td> <td>68519.2</td> <td>1494.42</td>\n",
       "        </tr>\n",
       "    </tbody>\n",
       "</table>"
      ],
      "text/plain": [
       "<Table(14 cols, 7 rows): | statistic | id | age | gender | race | hispanic | education | couple | blood pressure | pulse | smoker | exercise | weight | height |>"
      ]
     },
     "execution_count": 15,
     "metadata": {},
     "output_type": "execute_result"
    }
   ],
   "source": [
    "smokers.stats(summary_ops)"
   ]
  },
  {
   "cell_type": "code",
   "execution_count": 16,
   "metadata": {
    "collapsed": false
   },
   "outputs": [
    {
     "data": {
      "text/html": [
       "<table border=\"1\" class=\"dataframe\">\n",
       "    <thead>\n",
       "        <tr>\n",
       "            <th>statistic</th> <th>id</th> <th>age</th> <th>gender</th> <th>race</th> <th>hispanic</th> <th>education</th> <th>couple</th> <th>blood pressure</th> <th>pulse</th> <th>smoker</th> <th>exercise</th> <th>weight</th> <th>height</th>\n",
       "        </tr>\n",
       "    </thead>\n",
       "    <tbody>\n",
       "        <tr>\n",
       "            <td>min       </td> <td>3010       </td> <td>31     </td> <td>female</td> <td>black</td> <td>0       </td> <td>0        </td> <td>0       </td> <td>79            </td> <td>34     </td> <td>0     </td> <td>1       </td> <td>32.205 </td> <td>1.36525</td>\n",
       "        </tr>\n",
       "    </tbody>\n",
       "        <tr>\n",
       "            <td>firstQtile</td> <td>4.5397e+07 </td> <td>60     </td> <td>      </td> <td>     </td> <td>0       </td> <td>12       </td> <td>0       </td> <td>117           </td> <td>62     </td> <td>0     </td> <td>2       </td> <td>68.0388</td> <td>1.5875 </td>\n",
       "        </tr>\n",
       "    </tbody>\n",
       "        <tr>\n",
       "            <td>median    </td> <td>1.10427e+08</td> <td>68     </td> <td>      </td> <td>     </td> <td>0       </td> <td>12       </td> <td>1       </td> <td>129           </td> <td>69     </td> <td>0     </td> <td>2       </td> <td>79.6054</td> <td>1.65735</td>\n",
       "        </tr>\n",
       "    </tbody>\n",
       "        <tr>\n",
       "            <td>mean      </td> <td>1.65713e+08</td> <td>67.4986</td> <td>      </td> <td>     </td> <td>0.073408</td> <td>12.9648  </td> <td>0.715728</td> <td>130.934       </td> <td>69.4542</td> <td>0     </td> <td>2.69114 </td> <td>81.2584</td> <td>1.66315</td>\n",
       "        </tr>\n",
       "    </tbody>\n",
       "        <tr>\n",
       "            <td>thirdQtile</td> <td>4.5397e+07 </td> <td>60     </td> <td>      </td> <td>     </td> <td>0       </td> <td>12       </td> <td>0       </td> <td>117           </td> <td>62     </td> <td>0     </td> <td>2       </td> <td>68.0388</td> <td>1.5875 </td>\n",
       "        </tr>\n",
       "    </tbody>\n",
       "        <tr>\n",
       "            <td>max       </td> <td>5.02759e+08</td> <td>90     </td> <td>male  </td> <td>white</td> <td>1       </td> <td>17       </td> <td>1       </td> <td>224           </td> <td>133    </td> <td>0     </td> <td>5       </td> <td>137.892</td> <td>1.96215</td>\n",
       "        </tr>\n",
       "    </tbody>\n",
       "        <tr>\n",
       "            <td>sum       </td> <td>9.02972e+11</td> <td>367800 </td> <td>      </td> <td>     </td> <td>400     </td> <td>70645    </td> <td>3900    </td> <td>713462        </td> <td>378456 </td> <td>0     </td> <td>14664   </td> <td>442777 </td> <td>9062.52</td>\n",
       "        </tr>\n",
       "    </tbody>\n",
       "</table>"
      ],
      "text/plain": [
       "<Table(14 cols, 7 rows): | statistic | id | age | gender | race | hispanic | education | couple | blood pressure | pulse | smoker | exercise | weight | height |>"
      ]
     },
     "execution_count": 16,
     "metadata": {},
     "output_type": "execute_result"
    }
   ],
   "source": [
    "nosmokers.stats(summary_ops)"
   ]
  },
  {
   "cell_type": "markdown",
   "metadata": {},
   "source": [
    "It would appear that nosmokers are older, better educated, and heavier - but of similar height and blood pressure"
   ]
  },
  {
   "cell_type": "code",
   "execution_count": 21,
   "metadata": {
    "collapsed": false
   },
   "outputs": [],
   "source": [
    "# Lets draw two samples of equal size\n",
    "n_sample = 200\n",
    "smoker_sample = smokers.sample(n_sample)\n",
    "nosmoker_sample = nosmokers.sample(n_sample)"
   ]
  },
  {
   "cell_type": "code",
   "execution_count": 22,
   "metadata": {
    "collapsed": false
   },
   "outputs": [
    {
     "data": {
      "image/png": "[encoded data removed]",
      "text/plain": [
       "<matplotlib.figure.Figure at 0x10a649b00>"
      ]
     },
     "metadata": {},
     "output_type": "display_data"
    }
   ],
   "source": [
    "weight = Table([nosmoker_sample['weight'],smoker_sample['weight']],['NoSmoke','Smoke'])\n",
    "weight.hist(overlay=True,bins=30,normed=True)"
   ]
  },
  {
   "cell_type": "code",
   "execution_count": 23,
   "metadata": {
    "collapsed": false
   },
   "outputs": [
    {
     "name": "stdout",
     "output_type": "stream",
     "text": [
      "TVD:  0.0562814070352\n"
     ]
    },
    {
     "data": {
      "text/html": [
       "<table border=\"1\" class=\"dataframe\">\n",
       "    <thead>\n",
       "        <tr>\n",
       "            <th>bin</th> <th>NoSmoke density</th> <th>Smoke density</th> <th>diff</th>\n",
       "        </tr>\n",
       "    </thead>\n",
       "    <tbody>\n",
       "        <tr>\n",
       "            <td>39  </td> <td>0              </td> <td>0.00603015   </td> <td>-0.00603015</td>\n",
       "        </tr>\n",
       "    </tbody>\n",
       "        <tr>\n",
       "            <td>44  </td> <td>0.00100503     </td> <td>0.00502513   </td> <td>-0.0040201 </td>\n",
       "        </tr>\n",
       "    </tbody>\n",
       "        <tr>\n",
       "            <td>49  </td> <td>0.00301508     </td> <td>0.0080402    </td> <td>-0.00502513</td>\n",
       "        </tr>\n",
       "    </tbody>\n",
       "        <tr>\n",
       "            <td>54  </td> <td>0.00904523     </td> <td>0.0120603    </td> <td>-0.00301508</td>\n",
       "        </tr>\n",
       "    </tbody>\n",
       "        <tr>\n",
       "            <td>59  </td> <td>0.0140704      </td> <td>0.0201005    </td> <td>-0.00603015</td>\n",
       "        </tr>\n",
       "    </tbody>\n",
       "        <tr>\n",
       "            <td>64  </td> <td>0.0221106      </td> <td>0.0251256    </td> <td>-0.00301508</td>\n",
       "        </tr>\n",
       "    </tbody>\n",
       "        <tr>\n",
       "            <td>69  </td> <td>0.0221106      </td> <td>0.0221106    </td> <td>0          </td>\n",
       "        </tr>\n",
       "    </tbody>\n",
       "        <tr>\n",
       "            <td>74  </td> <td>0.0241206      </td> <td>0.0241206    </td> <td>0          </td>\n",
       "        </tr>\n",
       "    </tbody>\n",
       "        <tr>\n",
       "            <td>79  </td> <td>0.0281407      </td> <td>0.0221106    </td> <td>0.00603015 </td>\n",
       "        </tr>\n",
       "    </tbody>\n",
       "        <tr>\n",
       "            <td>84  </td> <td>0.0150754      </td> <td>0.0120603    </td> <td>0.00301508 </td>\n",
       "        </tr>\n",
       "    </tbody>\n",
       "        <tr>\n",
       "            <td>89  </td> <td>0.0160804      </td> <td>0.0170854    </td> <td>-0.00100503</td>\n",
       "        </tr>\n",
       "    </tbody>\n",
       "        <tr>\n",
       "            <td>94  </td> <td>0.0140704      </td> <td>0.0110553    </td> <td>0.00301508 </td>\n",
       "        </tr>\n",
       "    </tbody>\n",
       "        <tr>\n",
       "            <td>99  </td> <td>0.0110553      </td> <td>0.00603015   </td> <td>0.00502513 </td>\n",
       "        </tr>\n",
       "    </tbody>\n",
       "        <tr>\n",
       "            <td>104 </td> <td>0.00703518     </td> <td>0.0040201    </td> <td>0.00301508 </td>\n",
       "        </tr>\n",
       "    </tbody>\n",
       "        <tr>\n",
       "            <td>109 </td> <td>0.0040201      </td> <td>0.00201005   </td> <td>0.00201005 </td>\n",
       "        </tr>\n",
       "    </tbody>\n",
       "        <tr>\n",
       "            <td>114 </td> <td>0.00703518     </td> <td>0.00100503   </td> <td>0.00603015 </td>\n",
       "        </tr>\n",
       "    </tbody>\n",
       "        <tr>\n",
       "            <td>119 </td> <td>0.00100503     </td> <td>0.00100503   </td> <td>0          </td>\n",
       "        </tr>\n",
       "    </tbody>\n",
       "        <tr>\n",
       "            <td>124 </td> <td>0.00100503     </td> <td>0.00100503   </td> <td>0          </td>\n",
       "        </tr>\n",
       "    </tbody>\n",
       "        <tr>\n",
       "            <td>129 </td> <td>0              </td> <td>0            </td> <td>0          </td>\n",
       "        </tr>\n",
       "    </tbody>\n",
       "        <tr>\n",
       "            <td>134 </td> <td>0              </td> <td>0            </td> <td>0          </td>\n",
       "        </tr>\n",
       "    </tbody>\n",
       "</table>"
      ],
      "text/plain": [
       "<IPython.core.display.HTML object>"
      ]
     },
     "metadata": {},
     "output_type": "display_data"
    }
   ],
   "source": [
    "bins=np.arange(39,139,5)\n",
    "weight_dist = weight.bin(bins=bins, normed=True)\n",
    "weight_dist['diff']=weight_dist['NoSmoke density']-weight_dist['Smoke density']\n",
    "print('TVD: ',sum(np.abs(weight_dist['diff'])))\n",
    "weight_dist.show()"
   ]
  },
  {
   "cell_type": "code",
   "execution_count": 24,
   "metadata": {
    "collapsed": false
   },
   "outputs": [
    {
     "data": {
      "image/png": "[encoded data removed]",
      "text/plain": [
       "<matplotlib.figure.Figure at 0x10a3e8828>"
      ]
     },
     "metadata": {},
     "output_type": "display_data"
    }
   ],
   "source": [
    "weight_dist.select(['bin','diff']).bar('bin')"
   ]
  },
  {
   "cell_type": "code",
   "execution_count": 25,
   "metadata": {
    "collapsed": false
   },
   "outputs": [
    {
     "data": {
      "text/html": [
       "<table border=\"1\" class=\"dataframe\">\n",
       "    <thead>\n",
       "        <tr>\n",
       "            <th>statistic</th> <th>NoSmoke</th> <th>Smoke</th>\n",
       "        </tr>\n",
       "    </thead>\n",
       "    <tbody>\n",
       "        <tr>\n",
       "            <td>min       </td> <td>48.9879</td> <td>39.0089</td>\n",
       "        </tr>\n",
       "    </tbody>\n",
       "        <tr>\n",
       "            <td>firstQtile</td> <td>69.1728</td> <td>63.8431</td>\n",
       "        </tr>\n",
       "    </tbody>\n",
       "        <tr>\n",
       "            <td>median    </td> <td>79.9456</td> <td>74.3891</td>\n",
       "        </tr>\n",
       "    </tbody>\n",
       "        <tr>\n",
       "            <td>mean      </td> <td>81.8212</td> <td>75.3938</td>\n",
       "        </tr>\n",
       "    </tbody>\n",
       "        <tr>\n",
       "            <td>thirdQtile</td> <td>69.1728</td> <td>63.8431</td>\n",
       "        </tr>\n",
       "    </tbody>\n",
       "        <tr>\n",
       "            <td>max       </td> <td>137.212</td> <td>134.263</td>\n",
       "        </tr>\n",
       "    </tbody>\n",
       "        <tr>\n",
       "            <td>sum       </td> <td>16364.2</td> <td>15078.8</td>\n",
       "        </tr>\n",
       "    </tbody>\n",
       "</table>"
      ],
      "text/plain": [
       "<Table(3 cols, 7 rows): | statistic | NoSmoke | Smoke |>"
      ]
     },
     "execution_count": 25,
     "metadata": {},
     "output_type": "execute_result"
    }
   ],
   "source": [
    "weight.stats(summary_ops)"
   ]
  },
  {
   "cell_type": "code",
   "execution_count": 33,
   "metadata": {
    "collapsed": false
   },
   "outputs": [
    {
     "data": {
      "text/plain": [
       "6.4273976500000032"
      ]
     },
     "execution_count": 33,
     "metadata": {},
     "output_type": "execute_result"
    }
   ],
   "source": [
    "np.mean(weight['NoSmoke'])-np.mean(weight['Smoke'])"
   ]
  },
  {
   "cell_type": "markdown",
   "metadata": {},
   "source": [
    "Is the difference observed between these samples representative of the larger population?"
   ]
  },
  {
   "cell_type": "code",
   "execution_count": 26,
   "metadata": {
    "collapsed": false
   },
   "outputs": [],
   "source": [
    "combined = Table([np.append(nosmoker_sample['weight'],smoker_sample['weight'])],['all'])"
   ]
  },
  {
   "cell_type": "code",
   "execution_count": 34,
   "metadata": {
    "collapsed": false
   },
   "outputs": [],
   "source": [
    "# permutation test, split the combined into two random groups, do the comparison of those\n",
    "def getdiff():\n",
    "    A,B = combined.split(300)\n",
    "    return (np.mean(A['all'])-np.mean(B['all']))"
   ]
  },
  {
   "cell_type": "code",
   "execution_count": 35,
   "metadata": {
    "collapsed": true
   },
   "outputs": [],
   "source": [
    "# Do the permutation many times and form the distribution of results\n",
    "num_samples = 100\n",
    "diff_samples = Table([[getdiff() for i in range(num_samples)]],['diffs']) "
   ]
  },
  {
   "cell_type": "code",
   "execution_count": 30,
   "metadata": {
    "collapsed": false
   },
   "outputs": [
    {
     "data": {
      "image/png": "[encoded data removed]",
      "text/plain": [
       "<matplotlib.figure.Figure at 0x10b0a45f8>"
      ]
     },
     "metadata": {},
     "output_type": "display_data"
    }
   ],
   "source": [
    "diff_samples.hist(bins=20, normed=True)"
   ]
  }
 ],
 "metadata": {
  "kernelspec": {
   "display_name": "Python 3",
   "language": "python",
   "name": "python3"
  },
  "language_info": {
   "codemirror_mode": {
    "name": "ipython",
    "version": 3
   },
   "file_extension": ".py",
   "mimetype": "text/x-python",
   "name": "python",
   "nbconvert_exporter": "python",
   "pygments_lexer": "ipython3",
   "version": "3.4.3"
  }
 },
 "nbformat": 4,
 "nbformat_minor": 0
}
