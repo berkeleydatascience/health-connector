{
 "cells": [
  {
   "cell_type": "code",
   "execution_count": 7,
   "metadata": {
    "collapsed": false
   },
   "outputs": [
    {
     "data": {
      "text/plain": [
       "'0.5.17'"
      ]
     },
     "execution_count": 7,
     "metadata": {},
     "output_type": "execute_result"
    }
   ],
   "source": [
    "# HIDDEN\n",
    "# This useful nonsense should just go at the top of your notebook.\n",
    "from datascience import *\n",
    "%matplotlib inline\n",
    "import matplotlib.pyplot as plots\n",
    "import numpy as np\n",
    "plots.style.use('fivethirtyeight')\n",
    "# datascience version number of last run of this notebook\n",
    "version.__version__"
   ]
  },
  {
   "cell_type": "markdown",
   "metadata": {},
   "source": [
    "<h1>Class 9: Economic growth, fluctuations, and health</h1>\n",
    "\n",
    "What determines health?  For individuals, more income ought to improve health through purchases of health care and other healthy goods.  But we know that there must be more to the story than income alone, because even in nations in which health insurance and care are universally provided regardless of income, there still are gradients in health according to measures of socioeconomic status (SES) like education or income.\n",
    "\n",
    "Still, one would expect that income and health should probably be positively correlated, whether in a tautological sense because of the strong SES gradients that we see, or because income causes health, or because health reverse-causes income, or because a third factor like technologica change may raise both health and income roughly simultaneously.\n",
    "\n",
    "Are income and health always positively correlated?\n",
    "\n",
    "Sometimes in developing countries and during the historical course of development, the answer might be no. Income may purchase unhealthy goods like overeating or tobacco products, or it are arive through industrialization and urbanization, both of which might reduce health in the short run through physical injuries and infectious disease.\n",
    "\n",
    "What about in modern economies?  Is more GDP per capita always associated with better health?"
   ]
  },
  {
   "cell_type": "markdown",
   "metadata": {},
   "source": [
    "Let's use the very helpful <a href=\"http://statsmodels.sourceforge.net/\">Statsmodels</a> module and some <a href=\"http://pandas.pydata.org/\">Pandas</a> functions to run a multivariate regression. "
   ]
  },
  {
   "cell_type": "code",
   "execution_count": 8,
   "metadata": {
    "collapsed": false
   },
   "outputs": [],
   "source": [
    "import statsmodels.api as sm\n",
    "import pandas as pd"
   ]
  },
  {
   "cell_type": "markdown",
   "metadata": {},
   "source": [
    "We can still use `Table.read_table()` to input our data, but in order to use the data with Statsmodels, we'll have to translate data structures."
   ]
  },
  {
   "cell_type": "code",
   "execution_count": 9,
   "metadata": {
    "collapsed": false
   },
   "outputs": [
    {
     "data": {
      "text/html": [
       "<table border=\"1\" class=\"dataframe\">\n",
       "    <thead>\n",
       "        <tr>\n",
       "            <th>year</th> <th>rgdp</th> <th>pop</th> <th>rgdppc</th> <th>e0f</th> <th>e0m</th> <th>e0b</th> <th>logrgdppc</th> <th>dlogrgdppc</th> <th>de0f</th> <th>de0m</th> <th>de0b</th> <th>ones</th>\n",
       "        </tr>\n",
       "    </thead>\n",
       "    <tbody>\n",
       "        <tr>\n",
       "            <td>1934</td> <td>862.2 </td> <td>1.25996e+08</td> <td>6843.1 </td> <td>62.34</td> <td>58.34</td> <td>60.23</td> <td>8.831    </td> <td>0.0999468 </td> <td>-0.44</td> <td>-0.83</td> <td>-0.65</td> <td>1   </td>\n",
       "        </tr>\n",
       "    </tbody>\n",
       "        <tr>\n",
       "            <td>1935</td> <td>939   </td> <td>1.26834e+08</td> <td>7403.37</td> <td>63.04</td> <td>58.96</td> <td>60.89</td> <td>8.90969  </td> <td>0.0786949 </td> <td>0.7  </td> <td>0.62 </td> <td>0.66 </td> <td>1   </td>\n",
       "        </tr>\n",
       "    </tbody>\n",
       "        <tr>\n",
       "            <td>1936</td> <td>1060.5</td> <td>1.27682e+08</td> <td>8305.77</td> <td>62.6 </td> <td>58.35</td> <td>60.35</td> <td>9.02471  </td> <td>0.115015  </td> <td>-0.44</td> <td>-0.61</td> <td>-0.54</td> <td>1   </td>\n",
       "        </tr>\n",
       "    </tbody>\n",
       "        <tr>\n",
       "            <td>1937</td> <td>1114.6</td> <td>1.28467e+08</td> <td>8676.18</td> <td>63.37</td> <td>59   </td> <td>61.05</td> <td>9.06834  </td> <td>0.0436312 </td> <td>0.77 </td> <td>0.65 </td> <td>0.7  </td> <td>1   </td>\n",
       "        </tr>\n",
       "    </tbody>\n",
       "        <tr>\n",
       "            <td>1938</td> <td>1077.7</td> <td>1.29355e+08</td> <td>8331.32</td> <td>64.54</td> <td>60.45</td> <td>62.39</td> <td>9.02778  </td> <td>-0.0405601</td> <td>1.17 </td> <td>1.45 </td> <td>1.34 </td> <td>1   </td>\n",
       "        </tr>\n",
       "    </tbody>\n",
       "        <tr>\n",
       "            <td>1939</td> <td>1163.6</td> <td>1.30391e+08</td> <td>8923.9 </td> <td>65.25</td> <td>61.12</td> <td>63.07</td> <td>9.09649  </td> <td>0.0687119 </td> <td>0.71 </td> <td>0.67 </td> <td>0.68 </td> <td>1   </td>\n",
       "        </tr>\n",
       "    </tbody>\n",
       "        <tr>\n",
       "            <td>1940</td> <td>1266.1</td> <td>1.31458e+08</td> <td>9631.2 </td> <td>65.57</td> <td>61.14</td> <td>63.23</td> <td>9.17276  </td> <td>0.0762742 </td> <td>0.32 </td> <td>0.02 </td> <td>0.16 </td> <td>1   </td>\n",
       "        </tr>\n",
       "    </tbody>\n",
       "        <tr>\n",
       "            <td>1941</td> <td>1490.3</td> <td>1.3258e+08 </td> <td>11240.8</td> <td>66.27</td> <td>61.59</td> <td>63.8 </td> <td>9.3273   </td> <td>0.15454   </td> <td>0.7  </td> <td>0.45 </td> <td>0.57 </td> <td>1   </td>\n",
       "        </tr>\n",
       "    </tbody>\n",
       "        <tr>\n",
       "            <td>1942</td> <td>1771.8</td> <td>1.33567e+08</td> <td>13265.3</td> <td>67.17</td> <td>62.26</td> <td>64.59</td> <td>9.49291  </td> <td>0.165603  </td> <td>0.9  </td> <td>0.67 </td> <td>0.79 </td> <td>1   </td>\n",
       "        </tr>\n",
       "    </tbody>\n",
       "        <tr>\n",
       "            <td>1943</td> <td>2073.7</td> <td>1.34133e+08</td> <td>15460  </td> <td>66.9 </td> <td>61.9 </td> <td>64.3 </td> <td>9.64601  </td> <td>0.153106  </td> <td>-0.27</td> <td>-0.36</td> <td>-0.29</td> <td>1   </td>\n",
       "        </tr>\n",
       "    </tbody>\n",
       "</table>\n",
       "<p>... (70 rows omitted)</p"
      ],
      "text/plain": [
       "year | rgdp   | pop         | rgdppc  | e0f   | e0m   | e0b   | logrgdppc | dlogrgdppc | de0f  | de0m  | de0b  | ones\n",
       "1934 | 862.2  | 1.25996e+08 | 6843.1  | 62.34 | 58.34 | 60.23 | 8.831     | 0.0999468  | -0.44 | -0.83 | -0.65 | 1\n",
       "1935 | 939    | 1.26834e+08 | 7403.37 | 63.04 | 58.96 | 60.89 | 8.90969   | 0.0786949  | 0.7   | 0.62  | 0.66  | 1\n",
       "1936 | 1060.5 | 1.27682e+08 | 8305.77 | 62.6  | 58.35 | 60.35 | 9.02471   | 0.115015   | -0.44 | -0.61 | -0.54 | 1\n",
       "1937 | 1114.6 | 1.28467e+08 | 8676.18 | 63.37 | 59    | 61.05 | 9.06834   | 0.0436312  | 0.77  | 0.65  | 0.7   | 1\n",
       "1938 | 1077.7 | 1.29355e+08 | 8331.32 | 64.54 | 60.45 | 62.39 | 9.02778   | -0.0405601 | 1.17  | 1.45  | 1.34  | 1\n",
       "1939 | 1163.6 | 1.30391e+08 | 8923.9  | 65.25 | 61.12 | 63.07 | 9.09649   | 0.0687119  | 0.71  | 0.67  | 0.68  | 1\n",
       "1940 | 1266.1 | 1.31458e+08 | 9631.2  | 65.57 | 61.14 | 63.23 | 9.17276   | 0.0762742  | 0.32  | 0.02  | 0.16  | 1\n",
       "1941 | 1490.3 | 1.3258e+08  | 11240.8 | 66.27 | 61.59 | 63.8  | 9.3273    | 0.15454    | 0.7   | 0.45  | 0.57  | 1\n",
       "1942 | 1771.8 | 1.33567e+08 | 13265.3 | 67.17 | 62.26 | 64.59 | 9.49291   | 0.165603   | 0.9   | 0.67  | 0.79  | 1\n",
       "1943 | 2073.7 | 1.34133e+08 | 15460   | 66.9  | 61.9  | 64.3  | 9.64601   | 0.153106   | -0.27 | -0.36 | -0.29 | 1\n",
       "... (70 rows omitted)"
      ]
     },
     "execution_count": 9,
     "metadata": {},
     "output_type": "execute_result"
    }
   ],
   "source": [
    "TableUSA = Table.read_table(\"http://demog.berkeley.edu/~redwards/Courses/LS88/c09_usa.csv\")\n",
    "TableUSA"
   ]
  },
  {
   "cell_type": "markdown",
   "metadata": {},
   "source": [
    "Let's start with some visualizations. \n",
    "\n",
    "<font color=\"blue\">Create scatter plots of:\n",
    "<ol>\n",
    "<li>life expectancy at birth for both sexes, `e0b`, versus `year`\n",
    "\n",
    "<li>log real GDP per capita, `logrgdppc`, versus `year`\n",
    "\n",
    "<li>life expectancy at birth for both sexes, `e0b`, versus log real GDP per capita, `logrgdppc`\n",
    "\n",
    "\n",
    "</ol></font>"
   ]
  },
  {
   "cell_type": "code",
   "execution_count": 10,
   "metadata": {
    "collapsed": false,
    "scrolled": true
   },
   "outputs": [
    {
     "name": "stderr",
     "output_type": "stream",
     "text": [
      "/opt/conda/lib/python3.4/site-packages/matplotlib/collections.py:590: FutureWarning: elementwise comparison failed; returning scalar instead, but in the future will perform elementwise comparison\n",
      "  if self._edgecolors == str('face'):\n"
     ]
    },
    {
     "data": {
      "image/png": "[encoded data removed]",
      "text/plain": [
       "<matplotlib.figure.Figure at 0x7f6f59667e10>"
      ]
     },
     "metadata": {},
     "output_type": "display_data"
    }
   ],
   "source": [
    "TableUSA.scatter('year','e0b', fit_line=True)"
   ]
  },
  {
   "cell_type": "code",
   "execution_count": 11,
   "metadata": {
    "collapsed": false
   },
   "outputs": [
    {
     "name": "stderr",
     "output_type": "stream",
     "text": [
      "/opt/conda/lib/python3.4/site-packages/matplotlib/collections.py:590: FutureWarning: elementwise comparison failed; returning scalar instead, but in the future will perform elementwise comparison\n",
      "  if self._edgecolors == str('face'):\n"
     ]
    },
    {
     "data": {
      "image/png": "[encoded data removed]",
      "text/plain": [
       "<matplotlib.figure.Figure at 0x7f6e80a20940>"
      ]
     },
     "metadata": {},
     "output_type": "display_data"
    }
   ],
   "source": [
    "TableUSA.scatter('year','logrgdppc', fit_line=True)"
   ]
  },
  {
   "cell_type": "code",
   "execution_count": 12,
   "metadata": {
    "collapsed": false
   },
   "outputs": [
    {
     "name": "stderr",
     "output_type": "stream",
     "text": [
      "/opt/conda/lib/python3.4/site-packages/matplotlib/collections.py:590: FutureWarning: elementwise comparison failed; returning scalar instead, but in the future will perform elementwise comparison\n",
      "  if self._edgecolors == str('face'):\n"
     ]
    },
    {
     "data": {
      "image/png": "[encoded data removed]",
      "text/plain": [
       "<matplotlib.figure.Figure at 0x7f6e809a7a58>"
      ]
     },
     "metadata": {},
     "output_type": "display_data"
    }
   ],
   "source": [
    "TableUSA.scatter('logrgdppc','e0b', fit_line=True)"
   ]
  },
  {
   "cell_type": "markdown",
   "metadata": {},
   "source": [
    "<font color=\"blue\">What do you see here? What are the natural of the general time trends in these variables, life expectancy and real GDP per capita?  What is the relationship between life expectancy and real GDP per capita in these graphs?</font>"
   ]
  },
  {
   "cell_type": "markdown",
   "metadata": {},
   "source": []
  },
  {
   "cell_type": "markdown",
   "metadata": {},
   "source": [
    "Now consider what happens when we move from this model, which we just graphed,\n",
    "\n",
    "$$e0_t = \\alpha + \\beta \\ log \\ y_t + \\epsilon_t$$\n",
    "\n",
    "to a new model where we have $differenced$ the first model:\n",
    "\n",
    "$$e0_t = \\alpha + \\beta \\ log \\ y_t + \\epsilon_t$$\n",
    "$$e0_{t-1} = \\alpha + \\beta \\ log y_{t-1} + \\epsilon_{t-1}$$\n",
    "\n",
    "$$e0_t - e0_{t-1} = \\left[ \\alpha + \\beta \\ log y_t + \\epsilon_t\\right] - \\left[\\alpha + \\beta \\ log \\ y_{t-1} + \\epsilon_{t-1}\\right]$$\n",
    "\n",
    "$$e0(t) - e0_{t-1} = \\beta \\left(log \\ y(t)  - log y_{t-1} \\right) + \\epsilon_t - \\epsilon_{t-1}$$\n",
    "\n",
    "Finally, let's introduce $\\Delta$ as the differencing operator, and recognize that because $\\epsilon$ is a white-noise error with mean zero, then the difference of two epsilons is just another white-noise error with mean zero, let's call it $\\nu$:\n",
    "\n",
    "$$\\Delta e0(t) = \\beta \\Delta log \\ y(t) + \\nu_t$$\n",
    "\n",
    "What have we found? Our equation in levels implies an equation in differences with the same slope, $\\beta$. Do we in fact see the same slope $\\beta$ as we should?"
   ]
  },
  {
   "cell_type": "markdown",
   "metadata": {},
   "source": [
    "<font color=\"blue\">Create a scatter plot of `dlogrgdppc` against `de0b`.  Make super sure to include a trend line (`fit_line=True`)</font>"
   ]
  },
  {
   "cell_type": "code",
   "execution_count": 13,
   "metadata": {
    "collapsed": false
   },
   "outputs": [
    {
     "name": "stderr",
     "output_type": "stream",
     "text": [
      "/opt/conda/lib/python3.4/site-packages/matplotlib/collections.py:590: FutureWarning: elementwise comparison failed; returning scalar instead, but in the future will perform elementwise comparison\n",
      "  if self._edgecolors == str('face'):\n"
     ]
    },
    {
     "data": {
      "image/png": "[encoded data removed]",
      "text/plain": [
       "<matplotlib.figure.Figure at 0x7f6e80923470>"
      ]
     },
     "metadata": {},
     "output_type": "display_data"
    }
   ],
   "source": [
    "TableUSA.scatter('dlogrgdppc','de0b', fit_line=True)"
   ]
  },
  {
   "cell_type": "markdown",
   "metadata": {},
   "source": [
    "<font color=\"blue\">Describe what you see.  Discuss how it fits or does not fit with what you'd found earlier. Do you see the same $\\beta$ or a different one?  What could be going on?</font>"
   ]
  },
  {
   "cell_type": "markdown",
   "metadata": {},
   "source": []
  },
  {
   "cell_type": "markdown",
   "metadata": {},
   "source": [
    "Let's also run ordinary least squares here and talk about the results, to help with hypothesis testing. First, let's switch data structures so we can use pandas. Below, the `.to_df()` method generates a Pandas dataframe containing the same data as the table."
   ]
  },
  {
   "cell_type": "code",
   "execution_count": 14,
   "metadata": {
    "collapsed": false
   },
   "outputs": [
    {
     "data": {
      "text/plain": [
       "pandas.core.frame.DataFrame"
      ]
     },
     "execution_count": 14,
     "metadata": {},
     "output_type": "execute_result"
    }
   ],
   "source": [
    "USA = TableUSA.to_df()\n",
    "type(USA)"
   ]
  },
  {
   "cell_type": "code",
   "execution_count": 15,
   "metadata": {
    "collapsed": false
   },
   "outputs": [
    {
     "data": {
      "text/html": [
       "<table class=\"simpletable\">\n",
       "<caption>OLS Regression Results</caption>\n",
       "<tr>\n",
       "  <th>Dep. Variable:</th>           <td>e0b</td>       <th>  R-squared:         </th> <td>   0.965</td>\n",
       "</tr>\n",
       "<tr>\n",
       "  <th>Model:</th>                   <td>OLS</td>       <th>  Adj. R-squared:    </th> <td>   0.965</td>\n",
       "</tr>\n",
       "<tr>\n",
       "  <th>Method:</th>             <td>Least Squares</td>  <th>  F-statistic:       </th> <td>   2169.</td>\n",
       "</tr>\n",
       "<tr>\n",
       "  <th>Date:</th>             <td>Mon, 04 Apr 2016</td> <th>  Prob (F-statistic):</th> <td>1.10e-58</td>\n",
       "</tr>\n",
       "<tr>\n",
       "  <th>Time:</th>                 <td>02:16:45</td>     <th>  Log-Likelihood:    </th> <td> -108.06</td>\n",
       "</tr>\n",
       "<tr>\n",
       "  <th>No. Observations:</th>      <td>    80</td>      <th>  AIC:               </th> <td>   220.1</td>\n",
       "</tr>\n",
       "<tr>\n",
       "  <th>Df Residuals:</th>          <td>    78</td>      <th>  BIC:               </th> <td>   224.9</td>\n",
       "</tr>\n",
       "<tr>\n",
       "  <th>Df Model:</th>              <td>     1</td>      <th>                     </th>     <td> </td>   \n",
       "</tr>\n",
       "<tr>\n",
       "  <th>Covariance Type:</th>      <td>nonrobust</td>    <th>                     </th>     <td> </td>   \n",
       "</tr>\n",
       "</table>\n",
       "<table class=\"simpletable\">\n",
       "<tr>\n",
       "      <td></td>         <th>coef</th>     <th>std err</th>      <th>t</th>      <th>P>|t|</th> <th>[95.0% Conf. Int.]</th> \n",
       "</tr>\n",
       "<tr>\n",
       "  <th>ones</th>      <td>  -22.2893</td> <td>    2.021</td> <td>  -11.029</td> <td> 0.000</td> <td>  -26.313   -18.266</td>\n",
       "</tr>\n",
       "<tr>\n",
       "  <th>logrgdppc</th> <td>    9.3191</td> <td>    0.200</td> <td>   46.570</td> <td> 0.000</td> <td>    8.921     9.717</td>\n",
       "</tr>\n",
       "</table>\n",
       "<table class=\"simpletable\">\n",
       "<tr>\n",
       "  <th>Omnibus:</th>       <td>25.079</td> <th>  Durbin-Watson:     </th> <td>   0.326</td>\n",
       "</tr>\n",
       "<tr>\n",
       "  <th>Prob(Omnibus):</th> <td> 0.000</td> <th>  Jarque-Bera (JB):  </th> <td>  42.521</td>\n",
       "</tr>\n",
       "<tr>\n",
       "  <th>Skew:</th>          <td>-1.215</td> <th>  Prob(JB):          </th> <td>5.84e-10</td>\n",
       "</tr>\n",
       "<tr>\n",
       "  <th>Kurtosis:</th>      <td> 5.617</td> <th>  Cond. No.          </th> <td>    195.</td>\n",
       "</tr>\n",
       "</table>"
      ],
      "text/plain": [
       "<class 'statsmodels.iolib.summary.Summary'>\n",
       "\"\"\"\n",
       "                            OLS Regression Results                            \n",
       "==============================================================================\n",
       "Dep. Variable:                    e0b   R-squared:                       0.965\n",
       "Model:                            OLS   Adj. R-squared:                  0.965\n",
       "Method:                 Least Squares   F-statistic:                     2169.\n",
       "Date:                Mon, 04 Apr 2016   Prob (F-statistic):           1.10e-58\n",
       "Time:                        02:16:45   Log-Likelihood:                -108.06\n",
       "No. Observations:                  80   AIC:                             220.1\n",
       "Df Residuals:                      78   BIC:                             224.9\n",
       "Df Model:                           1                                         \n",
       "Covariance Type:            nonrobust                                         \n",
       "==============================================================================\n",
       "                 coef    std err          t      P>|t|      [95.0% Conf. Int.]\n",
       "------------------------------------------------------------------------------\n",
       "ones         -22.2893      2.021    -11.029      0.000       -26.313   -18.266\n",
       "logrgdppc      9.3191      0.200     46.570      0.000         8.921     9.717\n",
       "==============================================================================\n",
       "Omnibus:                       25.079   Durbin-Watson:                   0.326\n",
       "Prob(Omnibus):                  0.000   Jarque-Bera (JB):               42.521\n",
       "Skew:                          -1.215   Prob(JB):                     5.84e-10\n",
       "Kurtosis:                       5.617   Cond. No.                         195.\n",
       "==============================================================================\n",
       "\n",
       "Warnings:\n",
       "[1] Standard Errors assume that the covariance matrix of the errors is correctly specified.\n",
       "\"\"\""
      ]
     },
     "execution_count": 15,
     "metadata": {},
     "output_type": "execute_result"
    }
   ],
   "source": [
    "# Our x variable is log real GDP per capita\n",
    "x = USA[['ones','logrgdppc']]\n",
    "y = USA['e0b']\n",
    "multiple_regress = sm.OLS(y, x).fit()\n",
    "multiple_regress.summary()"
   ]
  },
  {
   "cell_type": "markdown",
   "metadata": {},
   "source": [
    "<font color = \"blue\">Discuss what you see. Is the R-squared high or low?  Is the $\\beta$ coefficient statistically significantly different from zero?</font>"
   ]
  },
  {
   "cell_type": "markdown",
   "metadata": {},
   "source": []
  },
  {
   "cell_type": "markdown",
   "metadata": {
    "collapsed": true
   },
   "source": [
    "<font color = \"blue\">Now run OLS on the change in life expectancy at birth, `de0b`, as a function of the change in log real GDP per capita, `dlogrgdppc`.  \n",
    "</font>\n",
    "\n",
    "(You can try leaving out the constant term, which theory suggests might be the right thing to do, by leaving out the `ones` vector, or you can leave it in. But you will get a different answer if you leave it out! I'd go ahead and leave it in.)"
   ]
  },
  {
   "cell_type": "code",
   "execution_count": 16,
   "metadata": {
    "collapsed": false
   },
   "outputs": [
    {
     "data": {
      "text/html": [
       "<table class=\"simpletable\">\n",
       "<caption>OLS Regression Results</caption>\n",
       "<tr>\n",
       "  <th>Dep. Variable:</th>          <td>de0b</td>       <th>  R-squared:         </th> <td>   0.050</td>\n",
       "</tr>\n",
       "<tr>\n",
       "  <th>Model:</th>                   <td>OLS</td>       <th>  Adj. R-squared:    </th> <td>   0.038</td>\n",
       "</tr>\n",
       "<tr>\n",
       "  <th>Method:</th>             <td>Least Squares</td>  <th>  F-statistic:       </th> <td>   4.123</td>\n",
       "</tr>\n",
       "<tr>\n",
       "  <th>Date:</th>             <td>Mon, 04 Apr 2016</td> <th>  Prob (F-statistic):</th>  <td>0.0457</td> \n",
       "</tr>\n",
       "<tr>\n",
       "  <th>Time:</th>                 <td>02:16:47</td>     <th>  Log-Likelihood:    </th> <td> -15.786</td>\n",
       "</tr>\n",
       "<tr>\n",
       "  <th>No. Observations:</th>      <td>    80</td>      <th>  AIC:               </th> <td>   35.57</td>\n",
       "</tr>\n",
       "<tr>\n",
       "  <th>Df Residuals:</th>          <td>    78</td>      <th>  BIC:               </th> <td>   40.34</td>\n",
       "</tr>\n",
       "<tr>\n",
       "  <th>Df Model:</th>              <td>     1</td>      <th>                     </th>     <td> </td>   \n",
       "</tr>\n",
       "<tr>\n",
       "  <th>Covariance Type:</th>      <td>nonrobust</td>    <th>                     </th>     <td> </td>   \n",
       "</tr>\n",
       "</table>\n",
       "<table class=\"simpletable\">\n",
       "<tr>\n",
       "       <td></td>         <th>coef</th>     <th>std err</th>      <th>t</th>      <th>P>|t|</th> <th>[95.0% Conf. Int.]</th> \n",
       "</tr>\n",
       "<tr>\n",
       "  <th>ones</th>       <td>    0.2668</td> <td>    0.039</td> <td>    6.887</td> <td> 0.000</td> <td>    0.190     0.344</td>\n",
       "</tr>\n",
       "<tr>\n",
       "  <th>dlogrgdppc</th> <td>   -1.5386</td> <td>    0.758</td> <td>   -2.030</td> <td> 0.046</td> <td>   -3.047    -0.030</td>\n",
       "</tr>\n",
       "</table>\n",
       "<table class=\"simpletable\">\n",
       "<tr>\n",
       "  <th>Omnibus:</th>       <td>10.150</td> <th>  Durbin-Watson:     </th> <td>   1.777</td>\n",
       "</tr>\n",
       "<tr>\n",
       "  <th>Prob(Omnibus):</th> <td> 0.006</td> <th>  Jarque-Bera (JB):  </th> <td>  12.448</td>\n",
       "</tr>\n",
       "<tr>\n",
       "  <th>Skew:</th>          <td> 0.592</td> <th>  Prob(JB):          </th> <td> 0.00198</td>\n",
       "</tr>\n",
       "<tr>\n",
       "  <th>Kurtosis:</th>      <td> 4.527</td> <th>  Cond. No.          </th> <td>    22.7</td>\n",
       "</tr>\n",
       "</table>"
      ],
      "text/plain": [
       "<class 'statsmodels.iolib.summary.Summary'>\n",
       "\"\"\"\n",
       "                            OLS Regression Results                            \n",
       "==============================================================================\n",
       "Dep. Variable:                   de0b   R-squared:                       0.050\n",
       "Model:                            OLS   Adj. R-squared:                  0.038\n",
       "Method:                 Least Squares   F-statistic:                     4.123\n",
       "Date:                Mon, 04 Apr 2016   Prob (F-statistic):             0.0457\n",
       "Time:                        02:16:47   Log-Likelihood:                -15.786\n",
       "No. Observations:                  80   AIC:                             35.57\n",
       "Df Residuals:                      78   BIC:                             40.34\n",
       "Df Model:                           1                                         \n",
       "Covariance Type:            nonrobust                                         \n",
       "==============================================================================\n",
       "                 coef    std err          t      P>|t|      [95.0% Conf. Int.]\n",
       "------------------------------------------------------------------------------\n",
       "ones           0.2668      0.039      6.887      0.000         0.190     0.344\n",
       "dlogrgdppc    -1.5386      0.758     -2.030      0.046        -3.047    -0.030\n",
       "==============================================================================\n",
       "Omnibus:                       10.150   Durbin-Watson:                   1.777\n",
       "Prob(Omnibus):                  0.006   Jarque-Bera (JB):               12.448\n",
       "Skew:                           0.592   Prob(JB):                      0.00198\n",
       "Kurtosis:                       4.527   Cond. No.                         22.7\n",
       "==============================================================================\n",
       "\n",
       "Warnings:\n",
       "[1] Standard Errors assume that the covariance matrix of the errors is correctly specified.\n",
       "\"\"\""
      ]
     },
     "execution_count": 16,
     "metadata": {},
     "output_type": "execute_result"
    }
   ],
   "source": [
    "# Our x variable is log real GDP per capita\n",
    "dx = USA[['ones','dlogrgdppc']]\n",
    "dy = USA['de0b']\n",
    "multiple_regress = sm.OLS(dy, dx).fit()\n",
    "multiple_regress.summary()"
   ]
  },
  {
   "cell_type": "markdown",
   "metadata": {},
   "source": [
    "<font color = \"blue\">Discuss what you see. Is the R-squared high or low?  Is the $\\beta$ coefficient statistically significantly different from zero?</font>"
   ]
  },
  {
   "cell_type": "markdown",
   "metadata": {},
   "source": []
  },
  {
   "cell_type": "markdown",
   "metadata": {},
   "source": [
    "<font color = \"blue\">Write about what you have found. What makes sense to you? What doesn't? What is important in regression output, what isn't?</font>"
   ]
  },
  {
   "cell_type": "markdown",
   "metadata": {},
   "source": []
  },
  {
   "cell_type": "markdown",
   "metadata": {},
   "source": [
    "<h2>Are different periods different?</h2>\n",
    "\n",
    "Consider Sweden, which has a very long history of good records, with life expectancy and GDP statistics available back to 1820. Should we expect to see different results in that era? Let's look at Swedish data from 1821 to 1913."
   ]
  },
  {
   "cell_type": "code",
   "execution_count": 18,
   "metadata": {
    "collapsed": false
   },
   "outputs": [
    {
     "data": {
      "text/html": [
       "<table border=\"1\" class=\"dataframe\">\n",
       "    <thead>\n",
       "        <tr>\n",
       "            <th>year</th> <th>rgdp</th> <th>pop</th> <th>rgdppc</th> <th>e0f</th> <th>e0m</th> <th>e0b</th> <th>logrgdppc</th> <th>dlogrgdppc</th> <th>de0f</th> <th>de0m</th> <th>de0b</th> <th>ones</th>\n",
       "        </tr>\n",
       "    </thead>\n",
       "    <tbody>\n",
       "        <tr>\n",
       "            <td>1934</td> <td>862.2 </td> <td>1.25996e+08</td> <td>6843.1 </td> <td>62.34</td> <td>58.34</td> <td>60.23</td> <td>8.831    </td> <td>0.0999468 </td> <td>-0.44</td> <td>-0.83</td> <td>-0.65</td> <td>1   </td>\n",
       "        </tr>\n",
       "    </tbody>\n",
       "        <tr>\n",
       "            <td>1935</td> <td>939   </td> <td>1.26834e+08</td> <td>7403.37</td> <td>63.04</td> <td>58.96</td> <td>60.89</td> <td>8.90969  </td> <td>0.0786949 </td> <td>0.7  </td> <td>0.62 </td> <td>0.66 </td> <td>1   </td>\n",
       "        </tr>\n",
       "    </tbody>\n",
       "        <tr>\n",
       "            <td>1936</td> <td>1060.5</td> <td>1.27682e+08</td> <td>8305.77</td> <td>62.6 </td> <td>58.35</td> <td>60.35</td> <td>9.02471  </td> <td>0.115015  </td> <td>-0.44</td> <td>-0.61</td> <td>-0.54</td> <td>1   </td>\n",
       "        </tr>\n",
       "    </tbody>\n",
       "        <tr>\n",
       "            <td>1937</td> <td>1114.6</td> <td>1.28467e+08</td> <td>8676.18</td> <td>63.37</td> <td>59   </td> <td>61.05</td> <td>9.06834  </td> <td>0.0436312 </td> <td>0.77 </td> <td>0.65 </td> <td>0.7  </td> <td>1   </td>\n",
       "        </tr>\n",
       "    </tbody>\n",
       "        <tr>\n",
       "            <td>1938</td> <td>1077.7</td> <td>1.29355e+08</td> <td>8331.32</td> <td>64.54</td> <td>60.45</td> <td>62.39</td> <td>9.02778  </td> <td>-0.0405601</td> <td>1.17 </td> <td>1.45 </td> <td>1.34 </td> <td>1   </td>\n",
       "        </tr>\n",
       "    </tbody>\n",
       "        <tr>\n",
       "            <td>1939</td> <td>1163.6</td> <td>1.30391e+08</td> <td>8923.9 </td> <td>65.25</td> <td>61.12</td> <td>63.07</td> <td>9.09649  </td> <td>0.0687119 </td> <td>0.71 </td> <td>0.67 </td> <td>0.68 </td> <td>1   </td>\n",
       "        </tr>\n",
       "    </tbody>\n",
       "        <tr>\n",
       "            <td>1940</td> <td>1266.1</td> <td>1.31458e+08</td> <td>9631.2 </td> <td>65.57</td> <td>61.14</td> <td>63.23</td> <td>9.17276  </td> <td>0.0762742 </td> <td>0.32 </td> <td>0.02 </td> <td>0.16 </td> <td>1   </td>\n",
       "        </tr>\n",
       "    </tbody>\n",
       "        <tr>\n",
       "            <td>1941</td> <td>1490.3</td> <td>1.3258e+08 </td> <td>11240.8</td> <td>66.27</td> <td>61.59</td> <td>63.8 </td> <td>9.3273   </td> <td>0.15454   </td> <td>0.7  </td> <td>0.45 </td> <td>0.57 </td> <td>1   </td>\n",
       "        </tr>\n",
       "    </tbody>\n",
       "        <tr>\n",
       "            <td>1942</td> <td>1771.8</td> <td>1.33567e+08</td> <td>13265.3</td> <td>67.17</td> <td>62.26</td> <td>64.59</td> <td>9.49291  </td> <td>0.165603  </td> <td>0.9  </td> <td>0.67 </td> <td>0.79 </td> <td>1   </td>\n",
       "        </tr>\n",
       "    </tbody>\n",
       "        <tr>\n",
       "            <td>1943</td> <td>2073.7</td> <td>1.34133e+08</td> <td>15460  </td> <td>66.9 </td> <td>61.9 </td> <td>64.3 </td> <td>9.64601  </td> <td>0.153106  </td> <td>-0.27</td> <td>-0.36</td> <td>-0.29</td> <td>1   </td>\n",
       "        </tr>\n",
       "    </tbody>\n",
       "</table>\n",
       "<p>... (70 rows omitted)</p"
      ],
      "text/plain": [
       "year | rgdp   | pop         | rgdppc  | e0f   | e0m   | e0b   | logrgdppc | dlogrgdppc | de0f  | de0m  | de0b  | ones\n",
       "1934 | 862.2  | 1.25996e+08 | 6843.1  | 62.34 | 58.34 | 60.23 | 8.831     | 0.0999468  | -0.44 | -0.83 | -0.65 | 1\n",
       "1935 | 939    | 1.26834e+08 | 7403.37 | 63.04 | 58.96 | 60.89 | 8.90969   | 0.0786949  | 0.7   | 0.62  | 0.66  | 1\n",
       "1936 | 1060.5 | 1.27682e+08 | 8305.77 | 62.6  | 58.35 | 60.35 | 9.02471   | 0.115015   | -0.44 | -0.61 | -0.54 | 1\n",
       "1937 | 1114.6 | 1.28467e+08 | 8676.18 | 63.37 | 59    | 61.05 | 9.06834   | 0.0436312  | 0.77  | 0.65  | 0.7   | 1\n",
       "1938 | 1077.7 | 1.29355e+08 | 8331.32 | 64.54 | 60.45 | 62.39 | 9.02778   | -0.0405601 | 1.17  | 1.45  | 1.34  | 1\n",
       "1939 | 1163.6 | 1.30391e+08 | 8923.9  | 65.25 | 61.12 | 63.07 | 9.09649   | 0.0687119  | 0.71  | 0.67  | 0.68  | 1\n",
       "1940 | 1266.1 | 1.31458e+08 | 9631.2  | 65.57 | 61.14 | 63.23 | 9.17276   | 0.0762742  | 0.32  | 0.02  | 0.16  | 1\n",
       "1941 | 1490.3 | 1.3258e+08  | 11240.8 | 66.27 | 61.59 | 63.8  | 9.3273    | 0.15454    | 0.7   | 0.45  | 0.57  | 1\n",
       "1942 | 1771.8 | 1.33567e+08 | 13265.3 | 67.17 | 62.26 | 64.59 | 9.49291   | 0.165603   | 0.9   | 0.67  | 0.79  | 1\n",
       "1943 | 2073.7 | 1.34133e+08 | 15460   | 66.9  | 61.9  | 64.3  | 9.64601   | 0.153106   | -0.27 | -0.36 | -0.29 | 1\n",
       "... (70 rows omitted)"
      ]
     },
     "execution_count": 18,
     "metadata": {},
     "output_type": "execute_result"
    }
   ],
   "source": [
    "TableSWE = Table.read_table(\"http://demog.berkeley.edu/~redwards/Courses/LS88/c09_sweden1913.csv\")\n",
    "TableUSA"
   ]
  },
  {
   "cell_type": "code",
   "execution_count": 19,
   "metadata": {
    "collapsed": false
   },
   "outputs": [
    {
     "data": {
      "text/plain": [
       "pandas.core.frame.DataFrame"
      ]
     },
     "execution_count": 19,
     "metadata": {},
     "output_type": "execute_result"
    }
   ],
   "source": [
    "SWE = TableSWE.to_df()\n",
    "type(USA)"
   ]
  },
  {
   "cell_type": "markdown",
   "metadata": {},
   "source": [
    "<font color=\"blue\">Feel free to do other things, like plot the data, but my suggestion is to cut to the chase and run OLS.</font>"
   ]
  },
  {
   "cell_type": "markdown",
   "metadata": {},
   "source": [
    "<font color=\"blue\">Run OLS on the levels of `e0b` as a linear function of `logrgdppc`</font>"
   ]
  },
  {
   "cell_type": "code",
   "execution_count": 20,
   "metadata": {
    "collapsed": false
   },
   "outputs": [
    {
     "data": {
      "text/html": [
       "<table class=\"simpletable\">\n",
       "<caption>OLS Regression Results</caption>\n",
       "<tr>\n",
       "  <th>Dep. Variable:</th>           <td>e0b</td>       <th>  R-squared:         </th> <td>   0.841</td>\n",
       "</tr>\n",
       "<tr>\n",
       "  <th>Model:</th>                   <td>OLS</td>       <th>  Adj. R-squared:    </th> <td>   0.839</td>\n",
       "</tr>\n",
       "<tr>\n",
       "  <th>Method:</th>             <td>Least Squares</td>  <th>  F-statistic:       </th> <td>   480.1</td>\n",
       "</tr>\n",
       "<tr>\n",
       "  <th>Date:</th>             <td>Mon, 04 Apr 2016</td> <th>  Prob (F-statistic):</th> <td>4.63e-38</td>\n",
       "</tr>\n",
       "<tr>\n",
       "  <th>Time:</th>                 <td>02:17:33</td>     <th>  Log-Likelihood:    </th> <td> -207.55</td>\n",
       "</tr>\n",
       "<tr>\n",
       "  <th>No. Observations:</th>      <td>    93</td>      <th>  AIC:               </th> <td>   419.1</td>\n",
       "</tr>\n",
       "<tr>\n",
       "  <th>Df Residuals:</th>          <td>    91</td>      <th>  BIC:               </th> <td>   424.2</td>\n",
       "</tr>\n",
       "<tr>\n",
       "  <th>Df Model:</th>              <td>     1</td>      <th>                     </th>     <td> </td>   \n",
       "</tr>\n",
       "<tr>\n",
       "  <th>Covariance Type:</th>      <td>nonrobust</td>    <th>                     </th>     <td> </td>   \n",
       "</tr>\n",
       "</table>\n",
       "<table class=\"simpletable\">\n",
       "<tr>\n",
       "      <td></td>         <th>coef</th>     <th>std err</th>      <th>t</th>      <th>P>|t|</th> <th>[95.0% Conf. Int.]</th> \n",
       "</tr>\n",
       "<tr>\n",
       "  <th>ones</th>      <td>  -51.2530</td> <td>    4.490</td> <td>  -11.414</td> <td> 0.000</td> <td>  -60.173   -42.333</td>\n",
       "</tr>\n",
       "<tr>\n",
       "  <th>logrgdppc</th> <td>   13.6370</td> <td>    0.622</td> <td>   21.910</td> <td> 0.000</td> <td>   12.401    14.873</td>\n",
       "</tr>\n",
       "</table>\n",
       "<table class=\"simpletable\">\n",
       "<tr>\n",
       "  <th>Omnibus:</th>       <td>15.739</td> <th>  Durbin-Watson:     </th> <td>   1.225</td>\n",
       "</tr>\n",
       "<tr>\n",
       "  <th>Prob(Omnibus):</th> <td> 0.000</td> <th>  Jarque-Bera (JB):  </th> <td>  24.120</td>\n",
       "</tr>\n",
       "<tr>\n",
       "  <th>Skew:</th>          <td>-0.729</td> <th>  Prob(JB):          </th> <td>5.79e-06</td>\n",
       "</tr>\n",
       "<tr>\n",
       "  <th>Kurtosis:</th>      <td> 5.025</td> <th>  Cond. No.          </th> <td>    140.</td>\n",
       "</tr>\n",
       "</table>"
      ],
      "text/plain": [
       "<class 'statsmodels.iolib.summary.Summary'>\n",
       "\"\"\"\n",
       "                            OLS Regression Results                            \n",
       "==============================================================================\n",
       "Dep. Variable:                    e0b   R-squared:                       0.841\n",
       "Model:                            OLS   Adj. R-squared:                  0.839\n",
       "Method:                 Least Squares   F-statistic:                     480.1\n",
       "Date:                Mon, 04 Apr 2016   Prob (F-statistic):           4.63e-38\n",
       "Time:                        02:17:33   Log-Likelihood:                -207.55\n",
       "No. Observations:                  93   AIC:                             419.1\n",
       "Df Residuals:                      91   BIC:                             424.2\n",
       "Df Model:                           1                                         \n",
       "Covariance Type:            nonrobust                                         \n",
       "==============================================================================\n",
       "                 coef    std err          t      P>|t|      [95.0% Conf. Int.]\n",
       "------------------------------------------------------------------------------\n",
       "ones         -51.2530      4.490    -11.414      0.000       -60.173   -42.333\n",
       "logrgdppc     13.6370      0.622     21.910      0.000        12.401    14.873\n",
       "==============================================================================\n",
       "Omnibus:                       15.739   Durbin-Watson:                   1.225\n",
       "Prob(Omnibus):                  0.000   Jarque-Bera (JB):               24.120\n",
       "Skew:                          -0.729   Prob(JB):                     5.79e-06\n",
       "Kurtosis:                       5.025   Cond. No.                         140.\n",
       "==============================================================================\n",
       "\n",
       "Warnings:\n",
       "[1] Standard Errors assume that the covariance matrix of the errors is correctly specified.\n",
       "\"\"\""
      ]
     },
     "execution_count": 20,
     "metadata": {},
     "output_type": "execute_result"
    }
   ],
   "source": [
    "# Our x variable is log real GDP per capita\n",
    "xswe = SWE[['ones','logrgdppc']]\n",
    "yswe = SWE['e0b']\n",
    "multiple_regress = sm.OLS(yswe, xswe).fit()\n",
    "multiple_regress.summary()"
   ]
  },
  {
   "cell_type": "markdown",
   "metadata": {},
   "source": [
    "<font color=\"blue\">Now run OLS on the differences, `de0b` as a linear function of `dlogrgdppc`</font>"
   ]
  },
  {
   "cell_type": "code",
   "execution_count": 21,
   "metadata": {
    "collapsed": false
   },
   "outputs": [
    {
     "data": {
      "text/html": [
       "<table class=\"simpletable\">\n",
       "<caption>OLS Regression Results</caption>\n",
       "<tr>\n",
       "  <th>Dep. Variable:</th>          <td>de0b</td>       <th>  R-squared:         </th> <td>   0.047</td>\n",
       "</tr>\n",
       "<tr>\n",
       "  <th>Model:</th>                   <td>OLS</td>       <th>  Adj. R-squared:    </th> <td>   0.036</td>\n",
       "</tr>\n",
       "<tr>\n",
       "  <th>Method:</th>             <td>Least Squares</td>  <th>  F-statistic:       </th> <td>   4.475</td>\n",
       "</tr>\n",
       "<tr>\n",
       "  <th>Date:</th>             <td>Mon, 04 Apr 2016</td> <th>  Prob (F-statistic):</th>  <td>0.0371</td> \n",
       "</tr>\n",
       "<tr>\n",
       "  <th>Time:</th>                 <td>02:17:34</td>     <th>  Log-Likelihood:    </th> <td> -217.53</td>\n",
       "</tr>\n",
       "<tr>\n",
       "  <th>No. Observations:</th>      <td>    93</td>      <th>  AIC:               </th> <td>   439.1</td>\n",
       "</tr>\n",
       "<tr>\n",
       "  <th>Df Residuals:</th>          <td>    91</td>      <th>  BIC:               </th> <td>   444.1</td>\n",
       "</tr>\n",
       "<tr>\n",
       "  <th>Df Model:</th>              <td>     1</td>      <th>                     </th>     <td> </td>   \n",
       "</tr>\n",
       "<tr>\n",
       "  <th>Covariance Type:</th>      <td>nonrobust</td>    <th>                     </th>     <td> </td>   \n",
       "</tr>\n",
       "</table>\n",
       "<table class=\"simpletable\">\n",
       "<tr>\n",
       "       <td></td>         <th>coef</th>     <th>std err</th>      <th>t</th>      <th>P>|t|</th> <th>[95.0% Conf. Int.]</th> \n",
       "</tr>\n",
       "<tr>\n",
       "  <th>ones</th>       <td>   -0.0254</td> <td>    0.284</td> <td>   -0.090</td> <td> 0.929</td> <td>   -0.589     0.538</td>\n",
       "</tr>\n",
       "<tr>\n",
       "  <th>dlogrgdppc</th> <td>   36.2394</td> <td>   17.131</td> <td>    2.115</td> <td> 0.037</td> <td>    2.210    70.269</td>\n",
       "</tr>\n",
       "</table>\n",
       "<table class=\"simpletable\">\n",
       "<tr>\n",
       "  <th>Omnibus:</th>       <td> 7.561</td> <th>  Durbin-Watson:     </th> <td>   2.468</td>\n",
       "</tr>\n",
       "<tr>\n",
       "  <th>Prob(Omnibus):</th> <td> 0.023</td> <th>  Jarque-Bera (JB):  </th> <td>  13.330</td>\n",
       "</tr>\n",
       "<tr>\n",
       "  <th>Skew:</th>          <td> 0.180</td> <th>  Prob(JB):          </th> <td> 0.00127</td>\n",
       "</tr>\n",
       "<tr>\n",
       "  <th>Kurtosis:</th>      <td> 4.820</td> <th>  Cond. No.          </th> <td>    65.1</td>\n",
       "</tr>\n",
       "</table>"
      ],
      "text/plain": [
       "<class 'statsmodels.iolib.summary.Summary'>\n",
       "\"\"\"\n",
       "                            OLS Regression Results                            \n",
       "==============================================================================\n",
       "Dep. Variable:                   de0b   R-squared:                       0.047\n",
       "Model:                            OLS   Adj. R-squared:                  0.036\n",
       "Method:                 Least Squares   F-statistic:                     4.475\n",
       "Date:                Mon, 04 Apr 2016   Prob (F-statistic):             0.0371\n",
       "Time:                        02:17:34   Log-Likelihood:                -217.53\n",
       "No. Observations:                  93   AIC:                             439.1\n",
       "Df Residuals:                      91   BIC:                             444.1\n",
       "Df Model:                           1                                         \n",
       "Covariance Type:            nonrobust                                         \n",
       "==============================================================================\n",
       "                 coef    std err          t      P>|t|      [95.0% Conf. Int.]\n",
       "------------------------------------------------------------------------------\n",
       "ones          -0.0254      0.284     -0.090      0.929        -0.589     0.538\n",
       "dlogrgdppc    36.2394     17.131      2.115      0.037         2.210    70.269\n",
       "==============================================================================\n",
       "Omnibus:                        7.561   Durbin-Watson:                   2.468\n",
       "Prob(Omnibus):                  0.023   Jarque-Bera (JB):               13.330\n",
       "Skew:                           0.180   Prob(JB):                      0.00127\n",
       "Kurtosis:                       4.820   Cond. No.                         65.1\n",
       "==============================================================================\n",
       "\n",
       "Warnings:\n",
       "[1] Standard Errors assume that the covariance matrix of the errors is correctly specified.\n",
       "\"\"\""
      ]
     },
     "execution_count": 21,
     "metadata": {},
     "output_type": "execute_result"
    }
   ],
   "source": [
    "# Our x variable is log real GDP per capita\n",
    "dxswe = SWE[['ones','dlogrgdppc']]\n",
    "dyswe = SWE['de0b']\n",
    "multiple_regress = sm.OLS(dyswe, dxswe).fit()\n",
    "multiple_regress.summary()"
   ]
  },
  {
   "cell_type": "markdown",
   "metadata": {},
   "source": [
    "<font color = \"blue\">Write about what you have found. What makes sense to you? What doesn't? What is the same in Sweden 1821-1913 as it was in the modern U.S.?  What is different?</font>"
   ]
  },
  {
   "cell_type": "markdown",
   "metadata": {},
   "source": []
  },
  {
   "cell_type": "markdown",
   "metadata": {},
   "source": []
  },
  {
   "cell_type": "markdown",
   "metadata": {},
   "source": []
  }
 ],
 "metadata": {
  "kernelspec": {
   "display_name": "Python 3",
   "language": "python",
   "name": "python3"
  },
  "language_info": {
   "codemirror_mode": {
    "name": "ipython",
    "version": 3
   },
   "file_extension": ".py",
   "mimetype": "text/x-python",
   "name": "python",
   "nbconvert_exporter": "python",
   "pygments_lexer": "ipython3",
   "version": "3.4.4"
  }
 },
 "nbformat": 4,
 "nbformat_minor": 0
}
