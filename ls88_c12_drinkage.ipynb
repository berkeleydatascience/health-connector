{
 "cells": [
  {
   "cell_type": "code",
   "execution_count": 2,
   "metadata": {
    "collapsed": false
   },
   "outputs": [
    {
     "data": {
      "text/plain": [
       "'0.5.19'"
      ]
     },
     "execution_count": 2,
     "metadata": {},
     "output_type": "execute_result"
    }
   ],
   "source": [
    "# HIDDEN\n",
    "# This useful nonsense should just go at the top of your notebook.\n",
    "from datascience import *\n",
    "%matplotlib inline\n",
    "import matplotlib.pyplot as plots\n",
    "import numpy as np\n",
    "plots.style.use('fivethirtyeight')\n",
    "# datascience version number of last run of this notebook\n",
    "version.__version__"
   ]
  },
  {
   "cell_type": "markdown",
   "metadata": {},
   "source": [
    "<h1>Class 12: The minimum legal drinking age, mortality, and regression discontinuity</h1>\n",
    "\n",
    "\n",
    "<img src=\"https://s-media-cache-ak0.pinimg.com/236x/67/69/94/676994d6db963da8583b06cd5592724d.jpg\" align=right valign=top width=160> \n",
    "\n",
    "What is the effect of the minimum legal drinking age (MLDA) of 21 on outcomes?  \n",
    "\n",
    "*Drinking is bad, m'kay?*\n",
    "\n",
    "But on the other hand, maybe the MLDA isn't a binding constraint. Maybe young people find a way to obtain alcohol while underage, and maybe all the MLDA accomplishes is an unnecessary restriction of liberty.\n",
    "\n",
    "It's more than a little challenging to figure this out, because drinking when underage, $X$, and other outcomes like reckless driving, $Y$, are probably both caused by a taste for risk-taking, $Z$.  The problem is that we usually don't observe $Z$, and thus if we try to model reckless driving as a function of underage drinking,\n",
    "\n",
    "$$Y_i = \\alpha + \\beta X_i + \\epsilon_i$$\n",
    "\n",
    "then we are likely to find that our estimate $\\hat{\\beta}$ will be subject to *omitted variable bias* or worse, because taste for risk $Z$ is not measured.\n",
    "\n",
    "Another way of phrasing this problem is that we know $Z$ varies systematically across control and treatment groups in this comparison.  In other words, the group that is \"treated\" by drinking likely has a higher taste for risk-taking than the \"control group\" that does not drink."
   ]
  },
  {
   "cell_type": "markdown",
   "metadata": {},
   "source": [
    "There are several statistical methods to approach this kind of problem, which is prevalent in social science.\n",
    "\n",
    "One method that we haven't seen yet in L&S 88-1 is the method of **regression discontinuity**.\n",
    "\n",
    "In this approach, the researcher looks for a relationship between a $y$ and an $x$ that (A) reveals a treatment above or below a threshold level of $x$, and (B) ought otherwise to be **smooth** except for this treatment. \n",
    "\n",
    "Here is an <a href=\"http://blogs.worldbank.org/impactevaluations/regression-discontinuity-porn\"> example from a blog page at the World Bank</a>. As the blog states, the example is drawn from \"Mbiti & Lucas (2013) [who] test the impact of secondary school quality on student achievement in Kenya, using the cut-off on the primary exit exam required to get into better secondary schools.\"  As you can see, passing the cutoff on the exam ($x$) produced a large discontinuous jump in the secondary school graduation rate ($y$).\n",
    "\n",
    "<img src=\"http://blogs.worldbank.org/impactevaluations/files/impactevaluations/mbiti%20kenya%20rd.png\n",
    "\" align=center valign=top width=400> \n",
    "\n",
    "There are a number of ways in which this might appear, but the critical thing is looking for a *discontinuous jump* at the treatment."
   ]
  },
  {
   "cell_type": "markdown",
   "metadata": {},
   "source": [
    "As we have done recently, let's use the very helpful <a href=\"http://statsmodels.sourceforge.net/\">Statsmodels</a> \n",
    "module and some <a href=\"http://pandas.pydata.org/\">Pandas</a> functions to run a multivariate regression. "
   ]
  },
  {
   "cell_type": "code",
   "execution_count": 3,
   "metadata": {
    "collapsed": true
   },
   "outputs": [],
   "source": [
    "import statsmodels.api as sm\n",
    "import pandas as pd"
   ]
  },
  {
   "cell_type": "markdown",
   "metadata": {},
   "source": [
    "Here is the dataset, with a 0/1 indicator variable for being over 21 years of age (equal to or over 21). \n",
    "\n",
    "The age variable is a non-integer because of weightings of person-years at particular months of age. It is close to year plus month.  The other variables are the mortality rates per 100,000 for specific causes of death.  \n",
    "\n",
    "All data are provided by Carpenter and Dobkin (*Journal of Economic Perspectives*, 2011)."
   ]
  },
  {
   "cell_type": "code",
   "execution_count": 4,
   "metadata": {
    "collapsed": false
   },
   "outputs": [
    {
     "data": {
      "text/html": [
       "<table border=\"1\" class=\"dataframe\">\n",
       "    <thead>\n",
       "        <tr>\n",
       "            <th>age</th> <th>age21</th> <th>over21</th> <th>allmort</th> <th>internal</th> <th>external</th> <th>alcohol</th> <th>homicide</th> <th>suicide</th> <th>mva</th> <th>drugs</th> <th>otherexternal</th> <th>ones</th>\n",
       "        </tr>\n",
       "    </thead>\n",
       "    <tbody>\n",
       "        <tr>\n",
       "            <td>19.0685</td> <td>-2    </td> <td>0     </td> <td>92.8254</td> <td>16.6176 </td> <td>76.2078 </td> <td>0.751927</td> <td>16.3168 </td> <td>11.2037</td> <td>35.8293</td> <td>3.75964</td> <td>8.53437      </td> <td>1   </td>\n",
       "        </tr>\n",
       "    </tbody>\n",
       "        <tr>\n",
       "            <td>19.1507</td> <td>-1.917</td> <td>0     </td> <td>95.1007</td> <td>18.3277 </td> <td>76.7731 </td> <td>0.827945</td> <td>16.86   </td> <td>12.1934</td> <td>35.6393</td> <td>3.08598</td> <td>8.65579      </td> <td>1   </td>\n",
       "        </tr>\n",
       "    </tbody>\n",
       "        <tr>\n",
       "            <td>19.2329</td> <td>-1.833</td> <td>0     </td> <td>92.1443</td> <td>18.9111 </td> <td>73.2332 </td> <td>0.979457</td> <td>15.2193 </td> <td>11.7158</td> <td>34.2056</td> <td>3.08906</td> <td>8.51374      </td> <td>1   </td>\n",
       "        </tr>\n",
       "    </tbody>\n",
       "        <tr>\n",
       "            <td>19.3151</td> <td>-1.75 </td> <td>0     </td> <td>88.4278</td> <td>16.1018 </td> <td>72.326  </td> <td>1.16898 </td> <td>16.7428 </td> <td>11.275 </td> <td>32.279 </td> <td>2.97902</td> <td>8.25828      </td> <td>1   </td>\n",
       "        </tr>\n",
       "    </tbody>\n",
       "        <tr>\n",
       "            <td>19.3973</td> <td>-1.667</td> <td>0     </td> <td>88.7049</td> <td>17.3635 </td> <td>71.3414 </td> <td>1.17015 </td> <td>14.9477 </td> <td>10.9843</td> <td>32.651 </td> <td>3.39721</td> <td>8.41753      </td> <td>1   </td>\n",
       "        </tr>\n",
       "    </tbody>\n",
       "        <tr>\n",
       "            <td>19.4795</td> <td>-1.583</td> <td>0     </td> <td>90.1918</td> <td>17.8721 </td> <td>72.3197 </td> <td>1.32246 </td> <td>15.6428 </td> <td>12.1666</td> <td>32.7214</td> <td>3.06055</td> <td>7.97255      </td> <td>1   </td>\n",
       "        </tr>\n",
       "    </tbody>\n",
       "        <tr>\n",
       "            <td>19.5616</td> <td>-1.5  </td> <td>0     </td> <td>96.2203</td> <td>16.4149 </td> <td>79.8054 </td> <td>1.09685 </td> <td>16.2637 </td> <td>12.4058</td> <td>36.3852</td> <td>3.63096</td> <td>10.2877      </td> <td>1   </td>\n",
       "        </tr>\n",
       "    </tbody>\n",
       "        <tr>\n",
       "            <td>19.6438</td> <td>-1.417</td> <td>0     </td> <td>89.6156</td> <td>15.9771 </td> <td>73.6385 </td> <td>1.28725 </td> <td>15.8256 </td> <td>10.9795</td> <td>34.1879</td> <td>3.29385</td> <td>8.67003      </td> <td>1   </td>\n",
       "        </tr>\n",
       "    </tbody>\n",
       "        <tr>\n",
       "            <td>19.726 </td> <td>-1.333</td> <td>0     </td> <td>93.3817</td> <td>17.4333 </td> <td>75.9484 </td> <td>1.32644 </td> <td>16.789  </td> <td>11.9001</td> <td>31.9105</td> <td>3.90354</td> <td>10.7632      </td> <td>1   </td>\n",
       "        </tr>\n",
       "    </tbody>\n",
       "        <tr>\n",
       "            <td>19.8082</td> <td>-1.25 </td> <td>0     </td> <td>90.858 </td> <td>18.2854 </td> <td>72.5726 </td> <td>0.986349</td> <td>16.6162 </td> <td>11.5706</td> <td>30.5768</td> <td>3.5281 </td> <td>9.86349      </td> <td>1   </td>\n",
       "        </tr>\n",
       "    </tbody>\n",
       "</table>\n",
       "<p>... (38 rows omitted)</p"
      ],
      "text/plain": [
       "age     | age21  | over21 | allmort | internal | external | alcohol  | homicide | suicide | mva     | drugs   | otherexternal | ones\n",
       "19.0685 | -2     | 0      | 92.8254 | 16.6176  | 76.2078  | 0.751927 | 16.3168  | 11.2037 | 35.8293 | 3.75964 | 8.53437       | 1\n",
       "19.1507 | -1.917 | 0      | 95.1007 | 18.3277  | 76.7731  | 0.827945 | 16.86    | 12.1934 | 35.6393 | 3.08598 | 8.65579       | 1\n",
       "19.2329 | -1.833 | 0      | 92.1443 | 18.9111  | 73.2332  | 0.979457 | 15.2193  | 11.7158 | 34.2056 | 3.08906 | 8.51374       | 1\n",
       "19.3151 | -1.75  | 0      | 88.4278 | 16.1018  | 72.326   | 1.16898  | 16.7428  | 11.275  | 32.279  | 2.97902 | 8.25828       | 1\n",
       "19.3973 | -1.667 | 0      | 88.7049 | 17.3635  | 71.3414  | 1.17015  | 14.9477  | 10.9843 | 32.651  | 3.39721 | 8.41753       | 1\n",
       "19.4795 | -1.583 | 0      | 90.1918 | 17.8721  | 72.3197  | 1.32246  | 15.6428  | 12.1666 | 32.7214 | 3.06055 | 7.97255       | 1\n",
       "19.5616 | -1.5   | 0      | 96.2203 | 16.4149  | 79.8054  | 1.09685  | 16.2637  | 12.4058 | 36.3852 | 3.63096 | 10.2877       | 1\n",
       "19.6438 | -1.417 | 0      | 89.6156 | 15.9771  | 73.6385  | 1.28725  | 15.8256  | 10.9795 | 34.1879 | 3.29385 | 8.67003       | 1\n",
       "19.726  | -1.333 | 0      | 93.3817 | 17.4333  | 75.9484  | 1.32644  | 16.789   | 11.9001 | 31.9105 | 3.90354 | 10.7632       | 1\n",
       "19.8082 | -1.25  | 0      | 90.858  | 18.2854  | 72.5726  | 0.986349 | 16.6162  | 11.5706 | 30.5768 | 3.5281  | 9.86349       | 1\n",
       "... (38 rows omitted)"
      ]
     },
     "execution_count": 4,
     "metadata": {},
     "output_type": "execute_result"
    }
   ],
   "source": [
    "Tabledrinkage = Table.read_table('http://demog.berkeley.edu/~redwards/Courses/LS88/c12_drinkage.csv')\n",
    "Tabledrinkage"
   ]
  },
  {
   "cell_type": "markdown",
   "metadata": {},
   "source": [
    "<h2>Setup</h2>\n",
    "\n",
    "Mortality rates typically rise with age, although they may also be flat or declining with age over certain age ranges.  Generally, one might want to fit the *log* of the mortality rate to age, at least at older ages when mortality tends to rise exponentially.  At young ages, however, mortality rates tend to be either constant, falling, or only gently rising, so modeling the mortality rate *m* as a linear function of age *a* is probably just fine.\n",
    "\n",
    "The easiest way to model a regression discontinuity is by specifying a jump in the $y$-intercept in a linear regression equation.  Here is what that would look like in a linear model of the mortality rate $m$ by age $a$:\n",
    "\n",
    "$$ m_i = \\alpha + \\beta \\ a_i + \\gamma \\ over21_i + \\epsilon_i\n",
    "$$\n",
    "\n",
    "where $over21_i$ is an indicator variable of being over 21 years old, our treatment threshold.  Thus $\\gamma$ adds to the constant term $\\alpha$ for the treated people aged 21 and older, while the slope $\\beta$ remains unchanged between treatment and control."
   ]
  },
  {
   "cell_type": "markdown",
   "metadata": {},
   "source": [
    "Now let's run OLS after we switch data types:"
   ]
  },
  {
   "cell_type": "code",
   "execution_count": 5,
   "metadata": {
    "collapsed": false
   },
   "outputs": [
    {
     "data": {
      "text/plain": [
       "pandas.core.frame.DataFrame"
      ]
     },
     "execution_count": 5,
     "metadata": {},
     "output_type": "execute_result"
    }
   ],
   "source": [
    "drinkage = Tabledrinkage.to_df()\n",
    "type(drinkage)"
   ]
  },
  {
   "cell_type": "markdown",
   "metadata": {},
   "source": [
    "Let's first examine how all mortality (`allmort`) may or may not jump discretely at age 21. "
   ]
  },
  {
   "cell_type": "code",
   "execution_count": 6,
   "metadata": {
    "collapsed": false
   },
   "outputs": [
    {
     "data": {
      "image/png": "[encoded data removed]",
      "text/plain": [
       "<matplotlib.figure.Figure at 0x7fbb2e791e10>"
      ]
     },
     "metadata": {},
     "output_type": "display_data"
    }
   ],
   "source": [
    "Tabledrinkage.scatter('age','allmort')"
   ]
  },
  {
   "cell_type": "markdown",
   "metadata": {},
   "source": [
    "<font color=\"blue\">Does your eye see a discontinuous jump at 21 in this graph?</font>"
   ]
  },
  {
   "cell_type": "markdown",
   "metadata": {},
   "source": []
  },
  {
   "cell_type": "markdown",
   "metadata": {},
   "source": [
    "Now let's run OLS with our $over21$ dummy variable, and let's see whether it's statistically significant.  If it is, then there's a discontinuity."
   ]
  },
  {
   "cell_type": "code",
   "execution_count": 7,
   "metadata": {
    "collapsed": false,
    "scrolled": false
   },
   "outputs": [],
   "source": [
    "x = drinkage[['ones','age','over21']]\n",
    "y = drinkage['allmort']\n",
    "#multiple_regress = sm.OLS(y, x).fit()\n",
    "#multiple_regress.summary()"
   ]
  },
  {
   "cell_type": "markdown",
   "metadata": {},
   "source": [
    "<font color=\"blue\">What did you find? What does it mean?</font>"
   ]
  },
  {
   "cell_type": "markdown",
   "metadata": {},
   "source": []
  },
  {
   "cell_type": "markdown",
   "metadata": {},
   "source": [
    "Now let's examine internal-cause mortality."
   ]
  },
  {
   "cell_type": "code",
   "execution_count": 20,
   "metadata": {
    "collapsed": false
   },
   "outputs": [
    {
     "data": {
      "image/png": "[encoded data removed]",
      "text/plain": [
       "<matplotlib.figure.Figure at 0x7f1be2782c18>"
      ]
     },
     "metadata": {},
     "output_type": "display_data"
    }
   ],
   "source": [
    "Tabledrinkage.scatter('age','internal')"
   ]
  },
  {
   "cell_type": "markdown",
   "metadata": {},
   "source": [
    "<font color=\"blue\">Does your eye see a discontinuous jump at 21 in this graph?</font>"
   ]
  },
  {
   "cell_type": "markdown",
   "metadata": {},
   "source": []
  },
  {
   "cell_type": "markdown",
   "metadata": {},
   "source": [
    "As before, let's run OLS with the dummy variable and see what we find."
   ]
  },
  {
   "cell_type": "code",
   "execution_count": 8,
   "metadata": {
    "collapsed": false
   },
   "outputs": [],
   "source": [
    "#x = drinkage[['ones','age','over21']]\n",
    "#y = ...\n",
    "#multiple_regress = sm.OLS(y, x).fit()\n",
    "#multiple_regress.summary()"
   ]
  },
  {
   "cell_type": "markdown",
   "metadata": {},
   "source": [
    "<font color=\"blue\">Comment on what you see. Does this make sense? Does it contradict your earlier findings?</font>"
   ]
  },
  {
   "cell_type": "markdown",
   "metadata": {},
   "source": []
  },
  {
   "cell_type": "markdown",
   "metadata": {},
   "source": [
    "Finally, let's look at motor vehicle accidents."
   ]
  },
  {
   "cell_type": "code",
   "execution_count": 23,
   "metadata": {
    "collapsed": false
   },
   "outputs": [
    {
     "data": {
      "image/png": "[encoded data removed]",
      "text/plain": [
       "<matplotlib.figure.Figure at 0x7f1be2663208>"
      ]
     },
     "metadata": {},
     "output_type": "display_data"
    }
   ],
   "source": [
    "Tabledrinkage.scatter('age','mva')"
   ]
  },
  {
   "cell_type": "markdown",
   "metadata": {},
   "source": [
    "<font color=\"blue\">Does your eye see a discontinuous jump at 21 in this graph?</font>"
   ]
  },
  {
   "cell_type": "markdown",
   "metadata": {},
   "source": []
  },
  {
   "cell_type": "code",
   "execution_count": 9,
   "metadata": {
    "collapsed": false
   },
   "outputs": [],
   "source": [
    "#x = drinkage[['ones','age','over21']]\n",
    "#y = ...\n",
    "#multiple_regress = sm.OLS(y, x).fit()\n",
    "#multiple_regress.summary()"
   ]
  },
  {
   "cell_type": "markdown",
   "metadata": {},
   "source": [
    "<font color=\"blue\">Comment on what you see. Does this make sense? Does it contradict your earlier findings?</font>"
   ]
  },
  {
   "cell_type": "markdown",
   "metadata": {},
   "source": []
  },
  {
   "cell_type": "markdown",
   "metadata": {},
   "source": []
  }
 ],
 "metadata": {
  "kernelspec": {
   "display_name": "Python 3",
   "language": "python",
   "name": "python3"
  },
  "language_info": {
   "codemirror_mode": {
    "name": "ipython",
    "version": 3
   },
   "file_extension": ".py",
   "mimetype": "text/x-python",
   "name": "python",
   "nbconvert_exporter": "python",
   "pygments_lexer": "ipython3",
   "version": "3.4.4"
  }
 },
 "nbformat": 4,
 "nbformat_minor": 0
}
