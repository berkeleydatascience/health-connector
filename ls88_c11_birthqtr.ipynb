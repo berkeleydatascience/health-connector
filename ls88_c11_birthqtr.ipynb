{
 "cells": [
  {
   "cell_type": "code",
   "execution_count": 1,
   "metadata": {
    "collapsed": false
   },
   "outputs": [
    {
     "data": {
      "text/plain": [
       "'0.5.19'"
      ]
     },
     "execution_count": 1,
     "metadata": {},
     "output_type": "execute_result"
    }
   ],
   "source": [
    "# HIDDEN\n",
    "# This useful nonsense should just go at the top of your notebook.\n",
    "from datascience import *\n",
    "%matplotlib inline\n",
    "import matplotlib.pyplot as plots\n",
    "import numpy as np\n",
    "plots.style.use('fivethirtyeight')\n",
    "# datascience version number of last run of this notebook\n",
    "version.__version__"
   ]
  },
  {
   "cell_type": "markdown",
   "metadata": {},
   "source": [
    "<h1>Class 11: Quarter of birth and maternal characteristics</h1>\n",
    "\n",
    "A tradition in the applied economics literature of the past several decades has been to look at an individual's outcomes across different quarters of birth. The most basic idea is that because most state laws require compulsory schooling until a particular age in years, whether it's 16, 17, or 18, teens who were born during the winter typically are of dropout age while children born during the summer or early fall were not. If children born at different times of the year were in fact otherwise identical or indistinguishable from one another, then compulsory schooling laws might force some children to have more education than others, and social scientists might be able to learn something by comparing those two groups.\n",
    "\n",
    "Buckles and Hungerman (2013) looked at maternal characteristics and found that they varied over the year as well, which calls into some question the canonical findings that children born during the winter are different because their own educational attainment can be less than that of children born during the summer.\n",
    "\n",
    "Let's look at a subset of the data that Buckles and Hungerman mustered in support of their argument. In particular, let's look at Census records from the 1960, 1970, and 1980 Censuses.  In each case, these subsamples are of mothers with coresident children 17 or under, and each record contains the mother's characteristics alongside the birth quarter and year of the child.\n",
    "\n",
    "Let's run this model repeatedly with ordinary least squares (OLS):\n",
    "\n",
    "$$ Y_i = \\alpha \n",
    "+ \\beta_2 bq2_i\n",
    "+ \\beta_3 bq3_i\n",
    "+ \\beta_4 bq4_i\n",
    "+ \\gamma \\tilde{by}_i\n",
    "+\\epsilon_i \n",
    "$$\n",
    "\n",
    "where $Y_i$ is a characteristic of the mother, the $bq$ variables are 0/1 indicators of the child's birth quarter, and the $by$ variable is a linear measure of the child's birth year.\n",
    "\n",
    "I have subtracted the average birth year in the sample from $by$ to produce the measure $\\tilde{by}$ that appears in the equation.  I did this so that the constant term $\\alpha$ would report to us a recognizable average $Y$ rather than a function of it and $\\gamma$ times the birth year.\n",
    "\n",
    "Notice also that I have <b>omitted</b> *bq1* from the equation. When you have indicator variables that together cover 100% of the sample, you either must drop one and thus designate it as the \"default\" category that receives just the constant term, or you must omit the constant term. Buckles and Hungerman choose to omit *bq1*, so let's do the same here.\n",
    "\n",
    "(Why is this? Imagine if it weren't the case. Then to whom is the constant term $\\alpha$ applicable? Everyone? Then everyone gets $\\alpha$ plus their $\\beta$. But what would prevent us from subtracting a tiny number from each $\\beta$ and adding it to $\\alpha$? Or doing that, and then doing it again? Nothing would, and that produces an indeterminacy that isn't good. We must drop one of the indicators or the constant term, which pins down the estimates and gets us out of indeterminacy.)\n",
    "\n",
    "Omitting *bq1* gives us a very convenient set of hypothesis tests:  the $\\beta$'s are the additional bits that mothers of children NOT born in the first quarter get. Our hypothesis is that these are all zero:  $\\beta_2 = \\beta_3 = \\beta_4 = 0$. We will find in many cases that we can reject the null; in fact, there are differences in mother's characteristics by quarter of birth."
   ]
  },
  {
   "cell_type": "markdown",
   "metadata": {},
   "source": [
    "As we have done recently, let's use the very helpful <a href=\"http://statsmodels.sourceforge.net/\">Statsmodels</a> \n",
    "module and some <a href=\"http://pandas.pydata.org/\">Pandas</a> functions to run a multivariate regression. "
   ]
  },
  {
   "cell_type": "code",
   "execution_count": 2,
   "metadata": {
    "collapsed": true
   },
   "outputs": [],
   "source": [
    "import statsmodels.api as sm\n",
    "import pandas as pd"
   ]
  },
  {
   "cell_type": "markdown",
   "metadata": {},
   "source": [
    "Here is an extract of the 1960 Census:"
   ]
  },
  {
   "cell_type": "code",
   "execution_count": 3,
   "metadata": {
    "collapsed": false
   },
   "outputs": [
    {
     "data": {
      "text/html": [
       "<table border=\"1\" class=\"dataframe\">\n",
       "    <thead>\n",
       "        <tr>\n",
       "            <th>sex</th> <th>birthyr</th> <th>birthyr0</th> <th>birthqtr</th> <th>birthq1</th> <th>birthq2</th> <th>birthq3</th> <th>birthq4</th> <th>ones</th> <th>white</th> <th>momed</th> <th>momhs</th> <th>momage</th> <th>mommarried</th> <th>poor</th>\n",
       "        </tr>\n",
       "    </thead>\n",
       "    <tbody>\n",
       "        <tr>\n",
       "            <td>Male  </td> <td>1943   </td> <td>-9      </td> <td>2       </td> <td>0      </td> <td>1      </td> <td>0      </td> <td>0      </td> <td>1   </td> <td>1    </td> <td>14   </td> <td>1    </td> <td>21    </td> <td>1         </td> <td>0   </td>\n",
       "        </tr>\n",
       "    </tbody>\n",
       "        <tr>\n",
       "            <td>Male  </td> <td>1943   </td> <td>-9      </td> <td>2       </td> <td>0      </td> <td>1      </td> <td>0      </td> <td>0      </td> <td>1   </td> <td>1    </td> <td>9    </td> <td>0    </td> <td>25    </td> <td>1         </td> <td>1   </td>\n",
       "        </tr>\n",
       "    </tbody>\n",
       "        <tr>\n",
       "            <td>Female</td> <td>1943   </td> <td>-9      </td> <td>2       </td> <td>0      </td> <td>1      </td> <td>0      </td> <td>0      </td> <td>1   </td> <td>1    </td> <td>12   </td> <td>1    </td> <td>23    </td> <td>1         </td> <td>0   </td>\n",
       "        </tr>\n",
       "    </tbody>\n",
       "        <tr>\n",
       "            <td>Female</td> <td>1943   </td> <td>-9      </td> <td>2       </td> <td>0      </td> <td>1      </td> <td>0      </td> <td>0      </td> <td>1   </td> <td>1    </td> <td>12   </td> <td>1    </td> <td>26    </td> <td>1         </td> <td>0   </td>\n",
       "        </tr>\n",
       "    </tbody>\n",
       "        <tr>\n",
       "            <td>Male  </td> <td>1943   </td> <td>-9      </td> <td>2       </td> <td>0      </td> <td>1      </td> <td>0      </td> <td>0      </td> <td>1   </td> <td>1    </td> <td>6    </td> <td>0    </td> <td>25    </td> <td>1         </td> <td>1   </td>\n",
       "        </tr>\n",
       "    </tbody>\n",
       "        <tr>\n",
       "            <td>Female</td> <td>1943   </td> <td>-9      </td> <td>2       </td> <td>0      </td> <td>1      </td> <td>0      </td> <td>0      </td> <td>1   </td> <td>1    </td> <td>12   </td> <td>1    </td> <td>27    </td> <td>1         </td> <td>0   </td>\n",
       "        </tr>\n",
       "    </tbody>\n",
       "        <tr>\n",
       "            <td>Male  </td> <td>1943   </td> <td>-9      </td> <td>2       </td> <td>0      </td> <td>1      </td> <td>0      </td> <td>0      </td> <td>1   </td> <td>1    </td> <td>12   </td> <td>1    </td> <td>23    </td> <td>1         </td> <td>0   </td>\n",
       "        </tr>\n",
       "    </tbody>\n",
       "        <tr>\n",
       "            <td>Male  </td> <td>1943   </td> <td>-9      </td> <td>2       </td> <td>0      </td> <td>1      </td> <td>0      </td> <td>0      </td> <td>1   </td> <td>1    </td> <td>10   </td> <td>0    </td> <td>22    </td> <td>1         </td> <td>0   </td>\n",
       "        </tr>\n",
       "    </tbody>\n",
       "        <tr>\n",
       "            <td>Male  </td> <td>1943   </td> <td>-9      </td> <td>2       </td> <td>0      </td> <td>1      </td> <td>0      </td> <td>0      </td> <td>1   </td> <td>1    </td> <td>12   </td> <td>1    </td> <td>32    </td> <td>1         </td> <td>0   </td>\n",
       "        </tr>\n",
       "    </tbody>\n",
       "        <tr>\n",
       "            <td>Male  </td> <td>1943   </td> <td>-9      </td> <td>2       </td> <td>0      </td> <td>1      </td> <td>0      </td> <td>0      </td> <td>1   </td> <td>1    </td> <td>9    </td> <td>0    </td> <td>18    </td> <td>1         </td> <td>0   </td>\n",
       "        </tr>\n",
       "    </tbody>\n",
       "</table>\n",
       "<p>... (578723 rows omitted)</p"
      ],
      "text/plain": [
       "sex    | birthyr | birthyr0 | birthqtr | birthq1 | birthq2 | birthq3 | birthq4 | ones | white | momed | momhs | momage | mommarried | poor\n",
       "Male   | 1943    | -9       | 2        | 0       | 1       | 0       | 0       | 1    | 1     | 14    | 1     | 21     | 1          | 0\n",
       "Male   | 1943    | -9       | 2        | 0       | 1       | 0       | 0       | 1    | 1     | 9     | 0     | 25     | 1          | 1\n",
       "Female | 1943    | -9       | 2        | 0       | 1       | 0       | 0       | 1    | 1     | 12    | 1     | 23     | 1          | 0\n",
       "Female | 1943    | -9       | 2        | 0       | 1       | 0       | 0       | 1    | 1     | 12    | 1     | 26     | 1          | 0\n",
       "Male   | 1943    | -9       | 2        | 0       | 1       | 0       | 0       | 1    | 1     | 6     | 0     | 25     | 1          | 1\n",
       "Female | 1943    | -9       | 2        | 0       | 1       | 0       | 0       | 1    | 1     | 12    | 1     | 27     | 1          | 0\n",
       "Male   | 1943    | -9       | 2        | 0       | 1       | 0       | 0       | 1    | 1     | 12    | 1     | 23     | 1          | 0\n",
       "Male   | 1943    | -9       | 2        | 0       | 1       | 0       | 0       | 1    | 1     | 10    | 0     | 22     | 1          | 0\n",
       "Male   | 1943    | -9       | 2        | 0       | 1       | 0       | 0       | 1    | 1     | 12    | 1     | 32     | 1          | 0\n",
       "Male   | 1943    | -9       | 2        | 0       | 1       | 0       | 0       | 1    | 1     | 9     | 0     | 18     | 1          | 0\n",
       "... (578723 rows omitted)"
      ]
     },
     "execution_count": 3,
     "metadata": {},
     "output_type": "execute_result"
    }
   ],
   "source": [
    "Tablec1960 = Table.read_table('http://demog.berkeley.edu/~redwards/Courses/LS88/c11_b1960.csv')\n",
    "Tablec1960"
   ]
  },
  {
   "cell_type": "markdown",
   "metadata": {},
   "source": [
    "Now let's run OLS after we switch data types:"
   ]
  },
  {
   "cell_type": "code",
   "execution_count": 5,
   "metadata": {
    "collapsed": false
   },
   "outputs": [
    {
     "data": {
      "text/plain": [
       "pandas.core.frame.DataFrame"
      ]
     },
     "execution_count": 5,
     "metadata": {},
     "output_type": "execute_result"
    }
   ],
   "source": [
    "c1960 = Tablec1960.to_df()\n",
    "type(c1960)"
   ]
  },
  {
   "cell_type": "markdown",
   "metadata": {},
   "source": [
    "First let's model the probability that the mother is white."
   ]
  },
  {
   "cell_type": "code",
   "execution_count": 6,
   "metadata": {
    "collapsed": false,
    "scrolled": false
   },
   "outputs": [],
   "source": [
    "x60 = c1960[['ones','birthq2','birthq3','birthq4','birthyr0']]\n",
    "y60 = ...\n",
    "#multiple_regress = sm.OLS(y60, x60).fit()\n",
    "#multiple_regress.summary()"
   ]
  },
  {
   "cell_type": "markdown",
   "metadata": {},
   "source": [
    "<font color=\"blue\">What is the average percent white among all the mothers in the sample?</font>"
   ]
  },
  {
   "cell_type": "markdown",
   "metadata": {},
   "source": []
  },
  {
   "cell_type": "markdown",
   "metadata": {},
   "source": [
    "<font color=\"blue\">Do you see any *seasonality* in percent white?</font>"
   ]
  },
  {
   "cell_type": "markdown",
   "metadata": {},
   "source": []
  },
  {
   "cell_type": "markdown",
   "metadata": {},
   "source": [
    "Now let's run OLS with the same x-variables but a different y-variable: `momed` which is mother's education in years."
   ]
  },
  {
   "cell_type": "code",
   "execution_count": 7,
   "metadata": {
    "collapsed": false
   },
   "outputs": [],
   "source": [
    "#x = c1960[['ones','birthq2','birthq3','birthq4','birthyr0']]\n",
    "y60 = ...\n",
    "#multiple_regress = sm.OLS(y60, x60).fit()\n",
    "#multiple_regress.summary()"
   ]
  },
  {
   "cell_type": "markdown",
   "metadata": {},
   "source": [
    "<font color=\"blue\">What is the average level of education among all the mothers in the sample?</font>"
   ]
  },
  {
   "cell_type": "markdown",
   "metadata": {},
   "source": []
  },
  {
   "cell_type": "markdown",
   "metadata": {},
   "source": [
    "<font color=\"blue\">Do you see any seasonality in the number of years of education?</font>"
   ]
  },
  {
   "cell_type": "markdown",
   "metadata": {},
   "source": []
  },
  {
   "cell_type": "markdown",
   "metadata": {},
   "source": [
    "Let's also have a look at mother's age.  "
   ]
  },
  {
   "cell_type": "code",
   "execution_count": 8,
   "metadata": {
    "collapsed": false
   },
   "outputs": [],
   "source": [
    "#x = c1960[['ones','birthq2','birthq3','birthq4','birthyr0']]\n",
    "y60 = ...\n",
    "#multiple_regress = sm.OLS(y60, x60).fit()\n",
    "#multiple_regress.summary()"
   ]
  },
  {
   "cell_type": "markdown",
   "metadata": {},
   "source": [
    "<font color=\"blue\">What is the average age among all the mothers in the sample?</font>"
   ]
  },
  {
   "cell_type": "markdown",
   "metadata": {},
   "source": []
  },
  {
   "cell_type": "markdown",
   "metadata": {},
   "source": [
    "<font color=\"blue\">Is there any seasonality in mother's age? In which quarter are moms the youngest?</font>"
   ]
  },
  {
   "cell_type": "markdown",
   "metadata": {},
   "source": []
  },
  {
   "cell_type": "markdown",
   "metadata": {},
   "source": [
    "Finally, let's look at living in an impoverished household: the variable `poor`"
   ]
  },
  {
   "cell_type": "code",
   "execution_count": 9,
   "metadata": {
    "collapsed": false
   },
   "outputs": [],
   "source": [
    "#x = c1960[['ones','birthq2','birthq3','birthq4','birthyr0']]\n",
    "y60 = ...\n",
    "#multiple_regress = sm.OLS(y60, x60).fit()\n",
    "#multiple_regress.summary()"
   ]
  },
  {
   "cell_type": "markdown",
   "metadata": {},
   "source": [
    "<font color=\"blue\">What is the average poverty rate among all the mothers in the sample?</font>"
   ]
  },
  {
   "cell_type": "markdown",
   "metadata": {},
   "source": []
  },
  {
   "cell_type": "markdown",
   "metadata": {},
   "source": [
    "<font color=\"blue\">Is there any seasonality in births into poverty?</font>"
   ]
  },
  {
   "cell_type": "markdown",
   "metadata": {},
   "source": []
  },
  {
   "cell_type": "markdown",
   "metadata": {},
   "source": [
    "<h2>Patterns in 1980</h2>\n",
    "\n",
    "For kicks, let's now look at the \"same\" data from the 1980 Census. Here's the dataset:"
   ]
  },
  {
   "cell_type": "code",
   "execution_count": null,
   "metadata": {
    "collapsed": false
   },
   "outputs": [],
   "source": [
    "Tablec1980 = Table.read_table('http://demog.berkeley.edu/~redwards/Courses/LS88/c11_b1980.csv')\n",
    "Tablec1980"
   ]
  },
  {
   "cell_type": "code",
   "execution_count": null,
   "metadata": {
    "collapsed": false
   },
   "outputs": [],
   "source": [
    "c1980 = Tablec1980.to_df()\n",
    "type(c1980)"
   ]
  },
  {
   "cell_type": "markdown",
   "metadata": {
    "collapsed": true
   },
   "source": [
    "Let's look at the same Y-variables and models that we examined using 1960 data, in order to see how the relationships have changed, if at all."
   ]
  },
  {
   "cell_type": "code",
   "execution_count": 14,
   "metadata": {
    "collapsed": false
   },
   "outputs": [
    {
     "ename": "NameError",
     "evalue": "name 'c1980' is not defined",
     "output_type": "error",
     "traceback": [
      "\u001b[1;31m---------------------------------------------------------------------------\u001b[0m",
      "\u001b[1;31mNameError\u001b[0m                                 Traceback (most recent call last)",
      "\u001b[1;32m<ipython-input-14-acd08ce01fc1>\u001b[0m in \u001b[0;36m<module>\u001b[1;34m()\u001b[0m\n\u001b[1;32m----> 1\u001b[1;33m \u001b[0mx80\u001b[0m \u001b[1;33m=\u001b[0m \u001b[0mc1980\u001b[0m\u001b[1;33m[\u001b[0m\u001b[1;33m[\u001b[0m\u001b[1;34m'ones'\u001b[0m\u001b[1;33m,\u001b[0m\u001b[1;34m'birthq2'\u001b[0m\u001b[1;33m,\u001b[0m\u001b[1;34m'birthq3'\u001b[0m\u001b[1;33m,\u001b[0m\u001b[1;34m'birthq4'\u001b[0m\u001b[1;33m,\u001b[0m\u001b[1;34m'birthyr0'\u001b[0m\u001b[1;33m]\u001b[0m\u001b[1;33m]\u001b[0m\u001b[1;33m\u001b[0m\u001b[0m\n\u001b[0m\u001b[0;32m      2\u001b[0m \u001b[0my80\u001b[0m \u001b[1;33m=\u001b[0m \u001b[1;33m...\u001b[0m\u001b[1;33m\u001b[0m\u001b[0m\n\u001b[0;32m      3\u001b[0m \u001b[1;31m#multiple_regress = sm.OLS(y80, x80).fit()\u001b[0m\u001b[1;33m\u001b[0m\u001b[1;33m\u001b[0m\u001b[0m\n\u001b[0;32m      4\u001b[0m \u001b[1;31m#multiple_regress.summary()\u001b[0m\u001b[1;33m\u001b[0m\u001b[1;33m\u001b[0m\u001b[0m\n",
      "\u001b[1;31mNameError\u001b[0m: name 'c1980' is not defined"
     ]
    }
   ],
   "source": [
    "x80 = c1980[['ones','birthq2','birthq3','birthq4','birthyr0']]\n",
    "y80 = ...\n",
    "#multiple_regress = sm.OLS(y80, x80).fit()\n",
    "#multiple_regress.summary()"
   ]
  },
  {
   "cell_type": "markdown",
   "metadata": {},
   "source": [
    "<font color=\"blue\">What is the average percent white among all the mothers in the sample? Do you see any seasonality in percent white? Compare and contrast with the 1960 data.</font>"
   ]
  },
  {
   "cell_type": "markdown",
   "metadata": {},
   "source": []
  },
  {
   "cell_type": "markdown",
   "metadata": {},
   "source": [
    "Like before, let's examine patterns in mother's education."
   ]
  },
  {
   "cell_type": "code",
   "execution_count": 13,
   "metadata": {
    "collapsed": false
   },
   "outputs": [],
   "source": [
    "#x80 = c1980[['ones','birthq2','birthq3','birthq4','birthyr0']]\n",
    "y80 = ...\n",
    "#multiple_regress = sm.OLS(y80, x80).fit()\n",
    "#multiple_regress.summary()"
   ]
  },
  {
   "cell_type": "markdown",
   "metadata": {},
   "source": [
    "<font color=\"blue\">What is the average level of education among all the mothers in the sample?  Do you see seasonality here?  Compare/contrast with 1960.</font>"
   ]
  },
  {
   "cell_type": "markdown",
   "metadata": {},
   "source": []
  },
  {
   "cell_type": "markdown",
   "metadata": {},
   "source": [
    "And let's look at mother's age again too."
   ]
  },
  {
   "cell_type": "code",
   "execution_count": 12,
   "metadata": {
    "collapsed": false
   },
   "outputs": [],
   "source": [
    "#x80 = c1980[['ones','birthq2','birthq3','birthq4','birthyr0']]\n",
    "y80 = ...\n",
    "#multiple_regress = sm.OLS(y80, x80).fit()\n",
    "#multiple_regress.summary()"
   ]
  },
  {
   "cell_type": "markdown",
   "metadata": {},
   "source": [
    "<font color=\"blue\">What is the average age among all the mothers in the sample? Is there seasonality here? Compare/contrast to 1960.</font>"
   ]
  },
  {
   "cell_type": "markdown",
   "metadata": {},
   "source": []
  },
  {
   "cell_type": "markdown",
   "metadata": {},
   "source": [
    "Finally, a second look at poverty:"
   ]
  },
  {
   "cell_type": "code",
   "execution_count": 11,
   "metadata": {
    "collapsed": false
   },
   "outputs": [],
   "source": [
    "#x80 = c1980[['ones','birthq2','birthq3','birthq4','birthyr0']]\n",
    "y80 = ...\n",
    "#multiple_regress = sm.OLS(y80, x80).fit()\n",
    "#multiple_regress.summary()"
   ]
  },
  {
   "cell_type": "markdown",
   "metadata": {},
   "source": [
    "<font color=\"blue\">What is the average poverty rate among all the mothers in the sample? Is there seasonality here? Compare/contrast to 1960.</font>"
   ]
  },
  {
   "cell_type": "markdown",
   "metadata": {},
   "source": []
  }
 ],
 "metadata": {
  "kernelspec": {
   "display_name": "Python 3",
   "language": "python",
   "name": "python3"
  },
  "language_info": {
   "codemirror_mode": {
    "name": "ipython",
    "version": 3
   },
   "file_extension": ".py",
   "mimetype": "text/x-python",
   "name": "python",
   "nbconvert_exporter": "python",
   "pygments_lexer": "ipython3",
   "version": "3.4.4"
  }
 },
 "nbformat": 4,
 "nbformat_minor": 0
}
