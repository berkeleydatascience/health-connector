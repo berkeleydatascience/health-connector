{
 "cells": [
  {
   "cell_type": "code",
   "execution_count": 1,
   "metadata": {
    "collapsed": false
   },
   "outputs": [
    {
     "data": {
      "text/plain": [
       "'0.5.19'"
      ]
     },
     "execution_count": 1,
     "metadata": {},
     "output_type": "execute_result"
    }
   ],
   "source": [
    "# HIDDEN\n",
    "# This useful nonsense should just go at the top of your notebook.\n",
    "from datascience import *\n",
    "%matplotlib inline\n",
    "import matplotlib.pyplot as plots\n",
    "import numpy as np\n",
    "plots.style.use('fivethirtyeight')\n",
    "# datascience version number of last run of this notebook\n",
    "version.__version__"
   ]
  },
  {
   "cell_type": "markdown",
   "metadata": {},
   "source": [
    "<h1>Class 11: Quarter of birth and maternal characteristics</h1>\n",
    "\n",
    "A tradition in the applied economics literature of the past several decades has been to look at an individual's outcomes across different quarters of birth. The most basic idea is that because most state laws require compulsory schooling until a particular age in years, whether it's 16, 17, or 18, teens who were born during the winter typically are of dropout age while children born during the summer or early fall were not. If children born at different times of the year were in fact otherwise identical or indistinguishable from one another, then compulsory schooling laws might force some children to have more education than others, and social scientists might be able to learn something by comparing those two groups.\n",
    "\n",
    "Buckles and Hungerman (2013) looked at maternal characteristics and found that they varied over the year as well, which calls into some question the canonical findings that children born during the winter are different because their own educational attainment can be less than that of children born during the summer.\n",
    "\n",
    "Let's look at a subset of the data that Buckles and Hungerman mustered in support of their argument. In particular, let's look at Census records from the 1960, 1970, and 1980 Censuses.  In each case, these subsamples are of mothers with coresident children 17 or under, and each record contains the mother's characteristics alongside the birth quarter and year of the child.\n",
    "\n",
    "Let's run this model repeatedly with ordinary least squares (OLS):\n",
    "\n",
    "$$ Y_i = \\alpha \n",
    "+ \\beta_2 bq2_i\n",
    "+ \\beta_3 bq3_i\n",
    "+ \\beta_4 bq4_i\n",
    "+ \\gamma \\tilde{by}_i\n",
    "+\\epsilon_i \n",
    "$$\n",
    "\n",
    "where $Y_i$ is a characteristic of the mother, the $bq$ variables are 0/1 indicators of the child's birth quarter, and the $by$ variable is a linear measure of the child's birth year.\n",
    "\n",
    "I have subtracted the average birth year in the sample from $by$ to produce the measure $\\tilde{by}$ that appears in the equation.  I did this so that the constant term $\\alpha$ would report to us a recognizable average $Y$ rather than a function of it and $\\gamma$ times the birth year.\n",
    "\n",
    "Notice also that I have <b>omitted</b> *bq1* from the equation. When you have indicator variables that together cover 100% of the sample, you either must drop one and thus designate it as the \"default\" category that receives just the constant term, or you must omit the constant term. Buckles and Hungerman choose to omit *bq1*, so let's do the same here.\n",
    "\n",
    "(Why is this? Imagine if it weren't the case. Then to whom is the constant term $\\alpha$ applicable? Everyone? Then everyone gets $\\alpha$ plus their $\\beta$. But what would prevent us from subtracting a tiny number from each $\\beta$ and adding it to $\\alpha$? Or doing that, and then doing it again? Nothing would, and that produces an indeterminacy that isn't good. We must drop one of the indicators or the constant term, which pins down the estimates and gets us out of indeterminacy.)\n",
    "\n",
    "Omitting *bq1* gives us a very convenient set of hypothesis tests:  the $\\beta$'s are the additional bits that mothers of children NOT born in the first quarter get. Our hypothesis is that these are all zero:  $\\beta_2 = \\beta_3 = \\beta_4 = 0$. We will find in many cases that we can reject the null; in fact, there are differences in mother's characteristics by quarter of birth."
   ]
  },
  {
   "cell_type": "markdown",
   "metadata": {},
   "source": [
    "As we have done recently, let's use the very helpful <a href=\"http://statsmodels.sourceforge.net/\">Statsmodels</a> \n",
    "module and some <a href=\"http://pandas.pydata.org/\">Pandas</a> functions to run a multivariate regression. "
   ]
  },
  {
   "cell_type": "code",
   "execution_count": 2,
   "metadata": {
    "collapsed": true
   },
   "outputs": [],
   "source": [
    "import statsmodels.api as sm\n",
    "import pandas as pd"
   ]
  },
  {
   "cell_type": "markdown",
   "metadata": {},
   "source": [
    "Here is an extract of the 1960 Census:"
   ]
  },
  {
   "cell_type": "code",
   "execution_count": 30,
   "metadata": {
    "collapsed": false
   },
   "outputs": [
    {
     "data": {
      "text/html": [
       "<table border=\"1\" class=\"dataframe\">\n",
       "    <thead>\n",
       "        <tr>\n",
       "            <th>sex</th> <th>birthyr</th> <th>birthyr0</th> <th>birthqtr</th> <th>birthq1</th> <th>birthq2</th> <th>birthq3</th> <th>birthq4</th> <th>ones</th> <th>white</th> <th>momed</th> <th>momhs</th> <th>momage</th> <th>mommarried</th> <th>poor</th>\n",
       "        </tr>\n",
       "    </thead>\n",
       "    <tbody>\n",
       "        <tr>\n",
       "            <td>Male  </td> <td>1943   </td> <td>-9      </td> <td>2       </td> <td>0      </td> <td>1      </td> <td>0      </td> <td>0      </td> <td>1   </td> <td>1    </td> <td>14   </td> <td>1    </td> <td>21    </td> <td>1         </td> <td>0   </td>\n",
       "        </tr>\n",
       "    </tbody>\n",
       "        <tr>\n",
       "            <td>Male  </td> <td>1943   </td> <td>-9      </td> <td>2       </td> <td>0      </td> <td>1      </td> <td>0      </td> <td>0      </td> <td>1   </td> <td>1    </td> <td>9    </td> <td>0    </td> <td>25    </td> <td>1         </td> <td>1   </td>\n",
       "        </tr>\n",
       "    </tbody>\n",
       "        <tr>\n",
       "            <td>Female</td> <td>1943   </td> <td>-9      </td> <td>2       </td> <td>0      </td> <td>1      </td> <td>0      </td> <td>0      </td> <td>1   </td> <td>1    </td> <td>12   </td> <td>1    </td> <td>23    </td> <td>1         </td> <td>0   </td>\n",
       "        </tr>\n",
       "    </tbody>\n",
       "        <tr>\n",
       "            <td>Female</td> <td>1943   </td> <td>-9      </td> <td>2       </td> <td>0      </td> <td>1      </td> <td>0      </td> <td>0      </td> <td>1   </td> <td>1    </td> <td>12   </td> <td>1    </td> <td>26    </td> <td>1         </td> <td>0   </td>\n",
       "        </tr>\n",
       "    </tbody>\n",
       "        <tr>\n",
       "            <td>Male  </td> <td>1943   </td> <td>-9      </td> <td>2       </td> <td>0      </td> <td>1      </td> <td>0      </td> <td>0      </td> <td>1   </td> <td>1    </td> <td>6    </td> <td>0    </td> <td>25    </td> <td>1         </td> <td>1   </td>\n",
       "        </tr>\n",
       "    </tbody>\n",
       "        <tr>\n",
       "            <td>Female</td> <td>1943   </td> <td>-9      </td> <td>2       </td> <td>0      </td> <td>1      </td> <td>0      </td> <td>0      </td> <td>1   </td> <td>1    </td> <td>12   </td> <td>1    </td> <td>27    </td> <td>1         </td> <td>0   </td>\n",
       "        </tr>\n",
       "    </tbody>\n",
       "        <tr>\n",
       "            <td>Male  </td> <td>1943   </td> <td>-9      </td> <td>2       </td> <td>0      </td> <td>1      </td> <td>0      </td> <td>0      </td> <td>1   </td> <td>1    </td> <td>12   </td> <td>1    </td> <td>23    </td> <td>1         </td> <td>0   </td>\n",
       "        </tr>\n",
       "    </tbody>\n",
       "        <tr>\n",
       "            <td>Male  </td> <td>1943   </td> <td>-9      </td> <td>2       </td> <td>0      </td> <td>1      </td> <td>0      </td> <td>0      </td> <td>1   </td> <td>1    </td> <td>10   </td> <td>0    </td> <td>22    </td> <td>1         </td> <td>0   </td>\n",
       "        </tr>\n",
       "    </tbody>\n",
       "        <tr>\n",
       "            <td>Male  </td> <td>1943   </td> <td>-9      </td> <td>2       </td> <td>0      </td> <td>1      </td> <td>0      </td> <td>0      </td> <td>1   </td> <td>1    </td> <td>12   </td> <td>1    </td> <td>32    </td> <td>1         </td> <td>0   </td>\n",
       "        </tr>\n",
       "    </tbody>\n",
       "        <tr>\n",
       "            <td>Male  </td> <td>1943   </td> <td>-9      </td> <td>2       </td> <td>0      </td> <td>1      </td> <td>0      </td> <td>0      </td> <td>1   </td> <td>1    </td> <td>9    </td> <td>0    </td> <td>18    </td> <td>1         </td> <td>0   </td>\n",
       "        </tr>\n",
       "    </tbody>\n",
       "</table>\n",
       "<p>... (578723 rows omitted)</p"
      ],
      "text/plain": [
       "sex    | birthyr | birthyr0 | birthqtr | birthq1 | birthq2 | birthq3 | birthq4 | ones | white | momed | momhs | momage | mommarried | poor\n",
       "Male   | 1943    | -9       | 2        | 0       | 1       | 0       | 0       | 1    | 1     | 14    | 1     | 21     | 1          | 0\n",
       "Male   | 1943    | -9       | 2        | 0       | 1       | 0       | 0       | 1    | 1     | 9     | 0     | 25     | 1          | 1\n",
       "Female | 1943    | -9       | 2        | 0       | 1       | 0       | 0       | 1    | 1     | 12    | 1     | 23     | 1          | 0\n",
       "Female | 1943    | -9       | 2        | 0       | 1       | 0       | 0       | 1    | 1     | 12    | 1     | 26     | 1          | 0\n",
       "Male   | 1943    | -9       | 2        | 0       | 1       | 0       | 0       | 1    | 1     | 6     | 0     | 25     | 1          | 1\n",
       "Female | 1943    | -9       | 2        | 0       | 1       | 0       | 0       | 1    | 1     | 12    | 1     | 27     | 1          | 0\n",
       "Male   | 1943    | -9       | 2        | 0       | 1       | 0       | 0       | 1    | 1     | 12    | 1     | 23     | 1          | 0\n",
       "Male   | 1943    | -9       | 2        | 0       | 1       | 0       | 0       | 1    | 1     | 10    | 0     | 22     | 1          | 0\n",
       "Male   | 1943    | -9       | 2        | 0       | 1       | 0       | 0       | 1    | 1     | 12    | 1     | 32     | 1          | 0\n",
       "Male   | 1943    | -9       | 2        | 0       | 1       | 0       | 0       | 1    | 1     | 9     | 0     | 18     | 1          | 0\n",
       "... (578723 rows omitted)"
      ]
     },
     "execution_count": 30,
     "metadata": {},
     "output_type": "execute_result"
    }
   ],
   "source": [
    "Tablec1960 = Table.read_table('http://demog.berkeley.edu/~redwards/Courses/LS88/c11_b1960.csv')\n",
    "Tablec1960"
   ]
  },
  {
   "cell_type": "markdown",
   "metadata": {},
   "source": [
    "Now let's run OLS after we switch data types:"
   ]
  },
  {
   "cell_type": "code",
   "execution_count": 31,
   "metadata": {
    "collapsed": false
   },
   "outputs": [
    {
     "data": {
      "text/plain": [
       "pandas.core.frame.DataFrame"
      ]
     },
     "execution_count": 31,
     "metadata": {},
     "output_type": "execute_result"
    }
   ],
   "source": [
    "c1960 = Tablec1960.to_df()\n",
    "type(c1960)"
   ]
  },
  {
   "cell_type": "markdown",
   "metadata": {},
   "source": [
    "First let's model the probability that the mother is white."
   ]
  },
  {
   "cell_type": "code",
   "execution_count": 34,
   "metadata": {
    "collapsed": false,
    "scrolled": false
   },
   "outputs": [
    {
     "data": {
      "text/html": [
       "<table class=\"simpletable\">\n",
       "<caption>OLS Regression Results</caption>\n",
       "<tr>\n",
       "  <th>Dep. Variable:</th>          <td>white</td>      <th>  R-squared:         </th>  <td>   0.001</td>  \n",
       "</tr>\n",
       "<tr>\n",
       "  <th>Model:</th>                   <td>OLS</td>       <th>  Adj. R-squared:    </th>  <td>   0.001</td>  \n",
       "</tr>\n",
       "<tr>\n",
       "  <th>Method:</th>             <td>Least Squares</td>  <th>  F-statistic:       </th>  <td>   114.6</td>  \n",
       "</tr>\n",
       "<tr>\n",
       "  <th>Date:</th>             <td>Mon, 18 Apr 2016</td> <th>  Prob (F-statistic):</th>  <td>7.77e-98</td>  \n",
       "</tr>\n",
       "<tr>\n",
       "  <th>Time:</th>                 <td>16:35:58</td>     <th>  Log-Likelihood:    </th> <td>-1.7806e+05</td>\n",
       "</tr>\n",
       "<tr>\n",
       "  <th>No. Observations:</th>      <td>578733</td>      <th>  AIC:               </th>  <td>3.561e+05</td> \n",
       "</tr>\n",
       "<tr>\n",
       "  <th>Df Residuals:</th>          <td>578728</td>      <th>  BIC:               </th>  <td>3.562e+05</td> \n",
       "</tr>\n",
       "<tr>\n",
       "  <th>Df Model:</th>              <td>     4</td>      <th>                     </th>      <td> </td>     \n",
       "</tr>\n",
       "<tr>\n",
       "  <th>Covariance Type:</th>      <td>nonrobust</td>    <th>                     </th>      <td> </td>     \n",
       "</tr>\n",
       "</table>\n",
       "<table class=\"simpletable\">\n",
       "<tr>\n",
       "      <td></td>        <th>coef</th>     <th>std err</th>      <th>t</th>      <th>P>|t|</th> <th>[95.0% Conf. Int.]</th> \n",
       "</tr>\n",
       "<tr>\n",
       "  <th>ones</th>     <td>    0.8737</td> <td>    0.001</td> <td>  994.518</td> <td> 0.000</td> <td>    0.872     0.875</td>\n",
       "</tr>\n",
       "<tr>\n",
       "  <th>birthq2</th>  <td>    0.0055</td> <td>    0.001</td> <td>    4.423</td> <td> 0.000</td> <td>    0.003     0.008</td>\n",
       "</tr>\n",
       "<tr>\n",
       "  <th>birthq3</th>  <td>    0.0020</td> <td>    0.001</td> <td>    1.613</td> <td> 0.107</td> <td>   -0.000     0.004</td>\n",
       "</tr>\n",
       "<tr>\n",
       "  <th>birthq4</th>  <td>    0.0022</td> <td>    0.001</td> <td>    1.800</td> <td> 0.072</td> <td>   -0.000     0.005</td>\n",
       "</tr>\n",
       "<tr>\n",
       "  <th>birthyr0</th> <td>   -0.0019</td> <td> 9.04e-05</td> <td>  -20.614</td> <td> 0.000</td> <td>   -0.002    -0.002</td>\n",
       "</tr>\n",
       "</table>\n",
       "<table class=\"simpletable\">\n",
       "<tr>\n",
       "  <th>Omnibus:</th>       <td>240867.140</td> <th>  Durbin-Watson:     </th>  <td>   2.000</td> \n",
       "</tr>\n",
       "<tr>\n",
       "  <th>Prob(Omnibus):</th>   <td> 0.000</td>   <th>  Jarque-Bera (JB):  </th> <td>752322.792</td>\n",
       "</tr>\n",
       "<tr>\n",
       "  <th>Skew:</th>            <td>-2.283</td>   <th>  Prob(JB):          </th>  <td>    0.00</td> \n",
       "</tr>\n",
       "<tr>\n",
       "  <th>Kurtosis:</th>        <td> 6.218</td>   <th>  Cond. No.          </th>  <td>    21.3</td> \n",
       "</tr>\n",
       "</table>"
      ],
      "text/plain": [
       "<class 'statsmodels.iolib.summary.Summary'>\n",
       "\"\"\"\n",
       "                            OLS Regression Results                            \n",
       "==============================================================================\n",
       "Dep. Variable:                  white   R-squared:                       0.001\n",
       "Model:                            OLS   Adj. R-squared:                  0.001\n",
       "Method:                 Least Squares   F-statistic:                     114.6\n",
       "Date:                Mon, 18 Apr 2016   Prob (F-statistic):           7.77e-98\n",
       "Time:                        16:35:58   Log-Likelihood:            -1.7806e+05\n",
       "No. Observations:              578733   AIC:                         3.561e+05\n",
       "Df Residuals:                  578728   BIC:                         3.562e+05\n",
       "Df Model:                           4                                         \n",
       "Covariance Type:            nonrobust                                         \n",
       "==============================================================================\n",
       "                 coef    std err          t      P>|t|      [95.0% Conf. Int.]\n",
       "------------------------------------------------------------------------------\n",
       "ones           0.8737      0.001    994.518      0.000         0.872     0.875\n",
       "birthq2        0.0055      0.001      4.423      0.000         0.003     0.008\n",
       "birthq3        0.0020      0.001      1.613      0.107        -0.000     0.004\n",
       "birthq4        0.0022      0.001      1.800      0.072        -0.000     0.005\n",
       "birthyr0      -0.0019   9.04e-05    -20.614      0.000        -0.002    -0.002\n",
       "==============================================================================\n",
       "Omnibus:                   240867.140   Durbin-Watson:                   2.000\n",
       "Prob(Omnibus):                  0.000   Jarque-Bera (JB):           752322.792\n",
       "Skew:                          -2.283   Prob(JB):                         0.00\n",
       "Kurtosis:                       6.218   Cond. No.                         21.3\n",
       "==============================================================================\n",
       "\n",
       "Warnings:\n",
       "[1] Standard Errors assume that the covariance matrix of the errors is correctly specified.\n",
       "\"\"\""
      ]
     },
     "execution_count": 34,
     "metadata": {},
     "output_type": "execute_result"
    }
   ],
   "source": [
    "x60 = c1960[['ones','birthq2','birthq3','birthq4','birthyr0']]\n",
    "y60 = c1960['white']\n",
    "multiple_regress = sm.OLS(y60, x60).fit()\n",
    "multiple_regress.summary()"
   ]
  },
  {
   "cell_type": "markdown",
   "metadata": {},
   "source": [
    "<font color=\"blue\">What is the average percent white among all the mothers in the sample?</font>"
   ]
  },
  {
   "cell_type": "markdown",
   "metadata": {},
   "source": []
  },
  {
   "cell_type": "markdown",
   "metadata": {},
   "source": [
    "<font color=\"blue\">Do you see any *seasonality* in percent white?</font>"
   ]
  },
  {
   "cell_type": "markdown",
   "metadata": {},
   "source": []
  },
  {
   "cell_type": "markdown",
   "metadata": {},
   "source": [
    "Now let's run OLS with the same x-variables but a different y-variable: `momed` which is mother's education in years."
   ]
  },
  {
   "cell_type": "code",
   "execution_count": 23,
   "metadata": {
    "collapsed": false
   },
   "outputs": [
    {
     "data": {
      "text/html": [
       "<table class=\"simpletable\">\n",
       "<caption>OLS Regression Results</caption>\n",
       "<tr>\n",
       "  <th>Dep. Variable:</th>          <td>momed</td>      <th>  R-squared:         </th>  <td>   0.011</td>  \n",
       "</tr>\n",
       "<tr>\n",
       "  <th>Model:</th>                   <td>OLS</td>       <th>  Adj. R-squared:    </th>  <td>   0.011</td>  \n",
       "</tr>\n",
       "<tr>\n",
       "  <th>Method:</th>             <td>Least Squares</td>  <th>  F-statistic:       </th>  <td>   1635.</td>  \n",
       "</tr>\n",
       "<tr>\n",
       "  <th>Date:</th>             <td>Mon, 18 Apr 2016</td> <th>  Prob (F-statistic):</th>   <td>  0.00</td>   \n",
       "</tr>\n",
       "<tr>\n",
       "  <th>Time:</th>                 <td>16:29:58</td>     <th>  Log-Likelihood:    </th> <td>-1.4440e+06</td>\n",
       "</tr>\n",
       "<tr>\n",
       "  <th>No. Observations:</th>      <td>578733</td>      <th>  AIC:               </th>  <td>2.888e+06</td> \n",
       "</tr>\n",
       "<tr>\n",
       "  <th>Df Residuals:</th>          <td>578728</td>      <th>  BIC:               </th>  <td>2.888e+06</td> \n",
       "</tr>\n",
       "<tr>\n",
       "  <th>Df Model:</th>              <td>     4</td>      <th>                     </th>      <td> </td>     \n",
       "</tr>\n",
       "<tr>\n",
       "  <th>Covariance Type:</th>      <td>nonrobust</td>    <th>                     </th>      <td> </td>     \n",
       "</tr>\n",
       "</table>\n",
       "<table class=\"simpletable\">\n",
       "<tr>\n",
       "      <td></td>        <th>coef</th>     <th>std err</th>      <th>t</th>      <th>P>|t|</th> <th>[95.0% Conf. Int.]</th> \n",
       "</tr>\n",
       "<tr>\n",
       "  <th>ones</th>     <td>   10.5172</td> <td>    0.008</td> <td> 1343.271</td> <td> 0.000</td> <td>   10.502    10.533</td>\n",
       "</tr>\n",
       "<tr>\n",
       "  <th>birthq2</th>  <td>    0.0862</td> <td>    0.011</td> <td>    7.725</td> <td> 0.000</td> <td>    0.064     0.108</td>\n",
       "</tr>\n",
       "<tr>\n",
       "  <th>birthq3</th>  <td>    0.0347</td> <td>    0.011</td> <td>    3.202</td> <td> 0.001</td> <td>    0.013     0.056</td>\n",
       "</tr>\n",
       "<tr>\n",
       "  <th>birthq4</th>  <td>    0.0588</td> <td>    0.011</td> <td>    5.372</td> <td> 0.000</td> <td>    0.037     0.080</td>\n",
       "</tr>\n",
       "<tr>\n",
       "  <th>birthyr0</th> <td>    0.0650</td> <td>    0.001</td> <td>   80.717</td> <td> 0.000</td> <td>    0.063     0.067</td>\n",
       "</tr>\n",
       "</table>\n",
       "<table class=\"simpletable\">\n",
       "<tr>\n",
       "  <th>Omnibus:</th>       <td>46566.886</td> <th>  Durbin-Watson:     </th> <td>   1.998</td> \n",
       "</tr>\n",
       "<tr>\n",
       "  <th>Prob(Omnibus):</th>  <td> 0.000</td>   <th>  Jarque-Bera (JB):  </th> <td>69673.017</td>\n",
       "</tr>\n",
       "<tr>\n",
       "  <th>Skew:</th>           <td>-0.644</td>   <th>  Prob(JB):          </th> <td>    0.00</td> \n",
       "</tr>\n",
       "<tr>\n",
       "  <th>Kurtosis:</th>       <td> 4.110</td>   <th>  Cond. No.          </th> <td>    21.3</td> \n",
       "</tr>\n",
       "</table>"
      ],
      "text/plain": [
       "<class 'statsmodels.iolib.summary.Summary'>\n",
       "\"\"\"\n",
       "                            OLS Regression Results                            \n",
       "==============================================================================\n",
       "Dep. Variable:                  momed   R-squared:                       0.011\n",
       "Model:                            OLS   Adj. R-squared:                  0.011\n",
       "Method:                 Least Squares   F-statistic:                     1635.\n",
       "Date:                Mon, 18 Apr 2016   Prob (F-statistic):               0.00\n",
       "Time:                        16:29:58   Log-Likelihood:            -1.4440e+06\n",
       "No. Observations:              578733   AIC:                         2.888e+06\n",
       "Df Residuals:                  578728   BIC:                         2.888e+06\n",
       "Df Model:                           4                                         \n",
       "Covariance Type:            nonrobust                                         \n",
       "==============================================================================\n",
       "                 coef    std err          t      P>|t|      [95.0% Conf. Int.]\n",
       "------------------------------------------------------------------------------\n",
       "ones          10.5172      0.008   1343.271      0.000        10.502    10.533\n",
       "birthq2        0.0862      0.011      7.725      0.000         0.064     0.108\n",
       "birthq3        0.0347      0.011      3.202      0.001         0.013     0.056\n",
       "birthq4        0.0588      0.011      5.372      0.000         0.037     0.080\n",
       "birthyr0       0.0650      0.001     80.717      0.000         0.063     0.067\n",
       "==============================================================================\n",
       "Omnibus:                    46566.886   Durbin-Watson:                   1.998\n",
       "Prob(Omnibus):                  0.000   Jarque-Bera (JB):            69673.017\n",
       "Skew:                          -0.644   Prob(JB):                         0.00\n",
       "Kurtosis:                       4.110   Cond. No.                         21.3\n",
       "==============================================================================\n",
       "\n",
       "Warnings:\n",
       "[1] Standard Errors assume that the covariance matrix of the errors is correctly specified.\n",
       "\"\"\""
      ]
     },
     "execution_count": 23,
     "metadata": {},
     "output_type": "execute_result"
    }
   ],
   "source": [
    "#x = c1960[['ones','birthq2','birthq3','birthq4','birthyr0']]\n",
    "y60 = c1960['momed']\n",
    "multiple_regress = sm.OLS(y60, x60).fit()\n",
    "multiple_regress.summary()"
   ]
  },
  {
   "cell_type": "markdown",
   "metadata": {},
   "source": [
    "<font color=\"blue\">What is the average level of education among all the mothers in the sample?</font>"
   ]
  },
  {
   "cell_type": "markdown",
   "metadata": {},
   "source": []
  },
  {
   "cell_type": "markdown",
   "metadata": {},
   "source": [
    "<font color=\"blue\">Do you see any seasonality in the number of years of education?</font>"
   ]
  },
  {
   "cell_type": "markdown",
   "metadata": {},
   "source": []
  },
  {
   "cell_type": "markdown",
   "metadata": {},
   "source": [
    "Let's also have a look at mother's age.  "
   ]
  },
  {
   "cell_type": "code",
   "execution_count": 24,
   "metadata": {
    "collapsed": false
   },
   "outputs": [
    {
     "data": {
      "text/html": [
       "<table class=\"simpletable\">\n",
       "<caption>OLS Regression Results</caption>\n",
       "<tr>\n",
       "  <th>Dep. Variable:</th>         <td>momage</td>      <th>  R-squared:         </th>  <td>   0.000</td>  \n",
       "</tr>\n",
       "<tr>\n",
       "  <th>Model:</th>                   <td>OLS</td>       <th>  Adj. R-squared:    </th>  <td>   0.000</td>  \n",
       "</tr>\n",
       "<tr>\n",
       "  <th>Method:</th>             <td>Least Squares</td>  <th>  F-statistic:       </th>  <td>   18.80</td>  \n",
       "</tr>\n",
       "<tr>\n",
       "  <th>Date:</th>             <td>Mon, 18 Apr 2016</td> <th>  Prob (F-statistic):</th>  <td>1.80e-15</td>  \n",
       "</tr>\n",
       "<tr>\n",
       "  <th>Time:</th>                 <td>16:30:05</td>     <th>  Log-Likelihood:    </th> <td>-1.8744e+06</td>\n",
       "</tr>\n",
       "<tr>\n",
       "  <th>No. Observations:</th>      <td>578733</td>      <th>  AIC:               </th>  <td>3.749e+06</td> \n",
       "</tr>\n",
       "<tr>\n",
       "  <th>Df Residuals:</th>          <td>578728</td>      <th>  BIC:               </th>  <td>3.749e+06</td> \n",
       "</tr>\n",
       "<tr>\n",
       "  <th>Df Model:</th>              <td>     4</td>      <th>                     </th>      <td> </td>     \n",
       "</tr>\n",
       "<tr>\n",
       "  <th>Covariance Type:</th>      <td>nonrobust</td>    <th>                     </th>      <td> </td>     \n",
       "</tr>\n",
       "</table>\n",
       "<table class=\"simpletable\">\n",
       "<tr>\n",
       "      <td></td>        <th>coef</th>     <th>std err</th>      <th>t</th>      <th>P>|t|</th> <th>[95.0% Conf. Int.]</th> \n",
       "</tr>\n",
       "<tr>\n",
       "  <th>ones</th>     <td>   26.7267</td> <td>    0.016</td> <td> 1622.551</td> <td> 0.000</td> <td>   26.694    26.759</td>\n",
       "</tr>\n",
       "<tr>\n",
       "  <th>birthq2</th>  <td>   -0.0370</td> <td>    0.023</td> <td>   -1.575</td> <td> 0.115</td> <td>   -0.083     0.009</td>\n",
       "</tr>\n",
       "<tr>\n",
       "  <th>birthq3</th>  <td>   -0.0599</td> <td>    0.023</td> <td>   -2.624</td> <td> 0.009</td> <td>   -0.105    -0.015</td>\n",
       "</tr>\n",
       "<tr>\n",
       "  <th>birthq4</th>  <td>    0.0999</td> <td>    0.023</td> <td>    4.337</td> <td> 0.000</td> <td>    0.055     0.145</td>\n",
       "</tr>\n",
       "<tr>\n",
       "  <th>birthyr0</th> <td>   -0.0070</td> <td>    0.002</td> <td>   -4.146</td> <td> 0.000</td> <td>   -0.010    -0.004</td>\n",
       "</tr>\n",
       "</table>\n",
       "<table class=\"simpletable\">\n",
       "<tr>\n",
       "  <th>Omnibus:</th>       <td>29431.738</td> <th>  Durbin-Watson:     </th> <td>   1.992</td> \n",
       "</tr>\n",
       "<tr>\n",
       "  <th>Prob(Omnibus):</th>  <td> 0.000</td>   <th>  Jarque-Bera (JB):  </th> <td>34180.121</td>\n",
       "</tr>\n",
       "<tr>\n",
       "  <th>Skew:</th>           <td> 0.594</td>   <th>  Prob(JB):          </th> <td>    0.00</td> \n",
       "</tr>\n",
       "<tr>\n",
       "  <th>Kurtosis:</th>       <td> 3.062</td>   <th>  Cond. No.          </th> <td>    21.3</td> \n",
       "</tr>\n",
       "</table>"
      ],
      "text/plain": [
       "<class 'statsmodels.iolib.summary.Summary'>\n",
       "\"\"\"\n",
       "                            OLS Regression Results                            \n",
       "==============================================================================\n",
       "Dep. Variable:                 momage   R-squared:                       0.000\n",
       "Model:                            OLS   Adj. R-squared:                  0.000\n",
       "Method:                 Least Squares   F-statistic:                     18.80\n",
       "Date:                Mon, 18 Apr 2016   Prob (F-statistic):           1.80e-15\n",
       "Time:                        16:30:05   Log-Likelihood:            -1.8744e+06\n",
       "No. Observations:              578733   AIC:                         3.749e+06\n",
       "Df Residuals:                  578728   BIC:                         3.749e+06\n",
       "Df Model:                           4                                         \n",
       "Covariance Type:            nonrobust                                         \n",
       "==============================================================================\n",
       "                 coef    std err          t      P>|t|      [95.0% Conf. Int.]\n",
       "------------------------------------------------------------------------------\n",
       "ones          26.7267      0.016   1622.551      0.000        26.694    26.759\n",
       "birthq2       -0.0370      0.023     -1.575      0.115        -0.083     0.009\n",
       "birthq3       -0.0599      0.023     -2.624      0.009        -0.105    -0.015\n",
       "birthq4        0.0999      0.023      4.337      0.000         0.055     0.145\n",
       "birthyr0      -0.0070      0.002     -4.146      0.000        -0.010    -0.004\n",
       "==============================================================================\n",
       "Omnibus:                    29431.738   Durbin-Watson:                   1.992\n",
       "Prob(Omnibus):                  0.000   Jarque-Bera (JB):            34180.121\n",
       "Skew:                           0.594   Prob(JB):                         0.00\n",
       "Kurtosis:                       3.062   Cond. No.                         21.3\n",
       "==============================================================================\n",
       "\n",
       "Warnings:\n",
       "[1] Standard Errors assume that the covariance matrix of the errors is correctly specified.\n",
       "\"\"\""
      ]
     },
     "execution_count": 24,
     "metadata": {},
     "output_type": "execute_result"
    }
   ],
   "source": [
    "#x = c1960[['ones','birthq2','birthq3','birthq4','birthyr0']]\n",
    "y60 = c1960['momage']\n",
    "multiple_regress = sm.OLS(y60, x60).fit()\n",
    "multiple_regress.summary()"
   ]
  },
  {
   "cell_type": "markdown",
   "metadata": {},
   "source": [
    "<font color=\"blue\">What is the average age among all the mothers in the sample?</font>"
   ]
  },
  {
   "cell_type": "markdown",
   "metadata": {},
   "source": []
  },
  {
   "cell_type": "markdown",
   "metadata": {},
   "source": [
    "<font color=\"blue\">Is there any seasonality in mother's age? In which quarter are moms the youngest?</font>"
   ]
  },
  {
   "cell_type": "markdown",
   "metadata": {},
   "source": []
  },
  {
   "cell_type": "markdown",
   "metadata": {},
   "source": [
    "Finally, let's look at living in an impoverished household: the variable `poor`"
   ]
  },
  {
   "cell_type": "code",
   "execution_count": 35,
   "metadata": {
    "collapsed": false
   },
   "outputs": [
    {
     "data": {
      "text/html": [
       "<table class=\"simpletable\">\n",
       "<caption>OLS Regression Results</caption>\n",
       "<tr>\n",
       "  <th>Dep. Variable:</th>          <td>poor</td>       <th>  R-squared:         </th>  <td>   0.000</td>  \n",
       "</tr>\n",
       "<tr>\n",
       "  <th>Model:</th>                   <td>OLS</td>       <th>  Adj. R-squared:    </th>  <td>   0.000</td>  \n",
       "</tr>\n",
       "<tr>\n",
       "  <th>Method:</th>             <td>Least Squares</td>  <th>  F-statistic:       </th>  <td>   45.81</td>  \n",
       "</tr>\n",
       "<tr>\n",
       "  <th>Date:</th>             <td>Mon, 18 Apr 2016</td> <th>  Prob (F-statistic):</th>  <td>1.51e-38</td>  \n",
       "</tr>\n",
       "<tr>\n",
       "  <th>Time:</th>                 <td>16:45:29</td>     <th>  Log-Likelihood:    </th> <td>-3.3947e+05</td>\n",
       "</tr>\n",
       "<tr>\n",
       "  <th>No. Observations:</th>      <td>578733</td>      <th>  AIC:               </th>  <td>6.790e+05</td> \n",
       "</tr>\n",
       "<tr>\n",
       "  <th>Df Residuals:</th>          <td>578728</td>      <th>  BIC:               </th>  <td>6.790e+05</td> \n",
       "</tr>\n",
       "<tr>\n",
       "  <th>Df Model:</th>              <td>     4</td>      <th>                     </th>      <td> </td>     \n",
       "</tr>\n",
       "<tr>\n",
       "  <th>Covariance Type:</th>      <td>nonrobust</td>    <th>                     </th>      <td> </td>     \n",
       "</tr>\n",
       "</table>\n",
       "<table class=\"simpletable\">\n",
       "<tr>\n",
       "      <td></td>        <th>coef</th>     <th>std err</th>      <th>t</th>      <th>P>|t|</th> <th>[95.0% Conf. Int.]</th> \n",
       "</tr>\n",
       "<tr>\n",
       "  <th>ones</th>     <td>    0.2587</td> <td>    0.001</td> <td>  222.820</td> <td> 0.000</td> <td>    0.256     0.261</td>\n",
       "</tr>\n",
       "<tr>\n",
       "  <th>birthq2</th>  <td>   -0.0101</td> <td>    0.002</td> <td>   -6.110</td> <td> 0.000</td> <td>   -0.013    -0.007</td>\n",
       "</tr>\n",
       "<tr>\n",
       "  <th>birthq3</th>  <td>   -0.0042</td> <td>    0.002</td> <td>   -2.591</td> <td> 0.010</td> <td>   -0.007    -0.001</td>\n",
       "</tr>\n",
       "<tr>\n",
       "  <th>birthq4</th>  <td>   -0.0057</td> <td>    0.002</td> <td>   -3.535</td> <td> 0.000</td> <td>   -0.009    -0.003</td>\n",
       "</tr>\n",
       "<tr>\n",
       "  <th>birthyr0</th> <td>    0.0014</td> <td>    0.000</td> <td>   11.611</td> <td> 0.000</td> <td>    0.001     0.002</td>\n",
       "</tr>\n",
       "</table>\n",
       "<table class=\"simpletable\">\n",
       "<tr>\n",
       "  <th>Omnibus:</th>       <td>115312.079</td> <th>  Durbin-Watson:     </th>  <td>   2.002</td> \n",
       "</tr>\n",
       "<tr>\n",
       "  <th>Prob(Omnibus):</th>   <td> 0.000</td>   <th>  Jarque-Bera (JB):  </th> <td>135986.688</td>\n",
       "</tr>\n",
       "<tr>\n",
       "  <th>Skew:</th>            <td> 1.132</td>   <th>  Prob(JB):          </th>  <td>    0.00</td> \n",
       "</tr>\n",
       "<tr>\n",
       "  <th>Kurtosis:</th>        <td> 2.283</td>   <th>  Cond. No.          </th>  <td>    21.3</td> \n",
       "</tr>\n",
       "</table>"
      ],
      "text/plain": [
       "<class 'statsmodels.iolib.summary.Summary'>\n",
       "\"\"\"\n",
       "                            OLS Regression Results                            \n",
       "==============================================================================\n",
       "Dep. Variable:                   poor   R-squared:                       0.000\n",
       "Model:                            OLS   Adj. R-squared:                  0.000\n",
       "Method:                 Least Squares   F-statistic:                     45.81\n",
       "Date:                Mon, 18 Apr 2016   Prob (F-statistic):           1.51e-38\n",
       "Time:                        16:45:29   Log-Likelihood:            -3.3947e+05\n",
       "No. Observations:              578733   AIC:                         6.790e+05\n",
       "Df Residuals:                  578728   BIC:                         6.790e+05\n",
       "Df Model:                           4                                         \n",
       "Covariance Type:            nonrobust                                         \n",
       "==============================================================================\n",
       "                 coef    std err          t      P>|t|      [95.0% Conf. Int.]\n",
       "------------------------------------------------------------------------------\n",
       "ones           0.2587      0.001    222.820      0.000         0.256     0.261\n",
       "birthq2       -0.0101      0.002     -6.110      0.000        -0.013    -0.007\n",
       "birthq3       -0.0042      0.002     -2.591      0.010        -0.007    -0.001\n",
       "birthq4       -0.0057      0.002     -3.535      0.000        -0.009    -0.003\n",
       "birthyr0       0.0014      0.000     11.611      0.000         0.001     0.002\n",
       "==============================================================================\n",
       "Omnibus:                   115312.079   Durbin-Watson:                   2.002\n",
       "Prob(Omnibus):                  0.000   Jarque-Bera (JB):           135986.688\n",
       "Skew:                           1.132   Prob(JB):                         0.00\n",
       "Kurtosis:                       2.283   Cond. No.                         21.3\n",
       "==============================================================================\n",
       "\n",
       "Warnings:\n",
       "[1] Standard Errors assume that the covariance matrix of the errors is correctly specified.\n",
       "\"\"\""
      ]
     },
     "execution_count": 35,
     "metadata": {},
     "output_type": "execute_result"
    }
   ],
   "source": [
    "#x = c1960[['ones','birthq2','birthq3','birthq4','birthyr0']]\n",
    "y60 = c1960['poor']\n",
    "multiple_regress = sm.OLS(y60, x60).fit()\n",
    "multiple_regress.summary()"
   ]
  },
  {
   "cell_type": "markdown",
   "metadata": {},
   "source": [
    "<font color=\"blue\">What is the average poverty rate among all the mothers in the sample?</font>"
   ]
  },
  {
   "cell_type": "markdown",
   "metadata": {},
   "source": []
  },
  {
   "cell_type": "markdown",
   "metadata": {},
   "source": [
    "<font color=\"blue\">Is there any seasonality in births into poverty?</font>"
   ]
  },
  {
   "cell_type": "markdown",
   "metadata": {},
   "source": []
  },
  {
   "cell_type": "markdown",
   "metadata": {},
   "source": [
    "<h2>Patterns in 1980</h2>\n",
    "\n",
    "For kicks, let's now look at the \"same\" data from the 1980 Census. Here's the dataset:"
   ]
  },
  {
   "cell_type": "code",
   "execution_count": 8,
   "metadata": {
    "collapsed": false
   },
   "outputs": [
    {
     "data": {
      "text/html": [
       "<table border=\"1\" class=\"dataframe\">\n",
       "    <thead>\n",
       "        <tr>\n",
       "            <th>sex</th> <th>birthyr</th> <th>birthyr0</th> <th>birthqtr</th> <th>birthq1</th> <th>birthq2</th> <th>birthq3</th> <th>birthq4</th> <th>ones</th> <th>white</th> <th>momed</th> <th>momhs</th> <th>momage</th> <th>mommarried</th> <th>poor</th>\n",
       "        </tr>\n",
       "    </thead>\n",
       "    <tbody>\n",
       "        <tr>\n",
       "            <td>Female</td> <td>1963   </td> <td>-8      </td> <td>2       </td> <td>0      </td> <td>1      </td> <td>0      </td> <td>0      </td> <td>1   </td> <td>0    </td> <td>14   </td> <td>1    </td> <td>20    </td> <td>1         </td> <td>0   </td>\n",
       "        </tr>\n",
       "    </tbody>\n",
       "        <tr>\n",
       "            <td>Female</td> <td>1963   </td> <td>-8      </td> <td>2       </td> <td>0      </td> <td>1      </td> <td>0      </td> <td>0      </td> <td>1   </td> <td>1    </td> <td>8    </td> <td>0    </td> <td>39    </td> <td>1         </td> <td>0   </td>\n",
       "        </tr>\n",
       "    </tbody>\n",
       "        <tr>\n",
       "            <td>Male  </td> <td>1963   </td> <td>-8      </td> <td>2       </td> <td>0      </td> <td>1      </td> <td>0      </td> <td>0      </td> <td>1   </td> <td>1    </td> <td>12   </td> <td>1    </td> <td>29    </td> <td>1         </td> <td>0   </td>\n",
       "        </tr>\n",
       "    </tbody>\n",
       "        <tr>\n",
       "            <td>Male  </td> <td>1963   </td> <td>-8      </td> <td>2       </td> <td>0      </td> <td>1      </td> <td>0      </td> <td>0      </td> <td>1   </td> <td>0    </td> <td>10   </td> <td>0    </td> <td>19    </td> <td>1         </td> <td>0   </td>\n",
       "        </tr>\n",
       "    </tbody>\n",
       "        <tr>\n",
       "            <td>Female</td> <td>1963   </td> <td>-8      </td> <td>2       </td> <td>0      </td> <td>1      </td> <td>0      </td> <td>0      </td> <td>1   </td> <td>1    </td> <td>12   </td> <td>1    </td> <td>19    </td> <td>1         </td> <td>0   </td>\n",
       "        </tr>\n",
       "    </tbody>\n",
       "        <tr>\n",
       "            <td>Male  </td> <td>1963   </td> <td>-8      </td> <td>2       </td> <td>0      </td> <td>1      </td> <td>0      </td> <td>0      </td> <td>1   </td> <td>1    </td> <td>10   </td> <td>0    </td> <td>34    </td> <td>0         </td> <td>0   </td>\n",
       "        </tr>\n",
       "    </tbody>\n",
       "        <tr>\n",
       "            <td>Female</td> <td>1963   </td> <td>-8      </td> <td>2       </td> <td>0      </td> <td>1      </td> <td>0      </td> <td>0      </td> <td>1   </td> <td>1    </td> <td>12   </td> <td>1    </td> <td>22    </td> <td>1         </td> <td>0   </td>\n",
       "        </tr>\n",
       "    </tbody>\n",
       "        <tr>\n",
       "            <td>Female</td> <td>1963   </td> <td>-8      </td> <td>2       </td> <td>0      </td> <td>1      </td> <td>0      </td> <td>0      </td> <td>1   </td> <td>1    </td> <td>13   </td> <td>1    </td> <td>19    </td> <td>1         </td> <td>1   </td>\n",
       "        </tr>\n",
       "    </tbody>\n",
       "        <tr>\n",
       "            <td>Male  </td> <td>1963   </td> <td>-8      </td> <td>2       </td> <td>0      </td> <td>1      </td> <td>0      </td> <td>0      </td> <td>1   </td> <td>1    </td> <td>12   </td> <td>1    </td> <td>36    </td> <td>1         </td> <td>0   </td>\n",
       "        </tr>\n",
       "    </tbody>\n",
       "        <tr>\n",
       "            <td>Female</td> <td>1963   </td> <td>-8      </td> <td>2       </td> <td>0      </td> <td>1      </td> <td>0      </td> <td>0      </td> <td>1   </td> <td>0    </td> <td>12   </td> <td>1    </td> <td>28    </td> <td>1         </td> <td>0   </td>\n",
       "        </tr>\n",
       "    </tbody>\n",
       "</table>\n",
       "<p>... (2766112 rows omitted)</p"
      ],
      "text/plain": [
       "sex    | birthyr | birthyr0 | birthqtr | birthq1 | birthq2 | birthq3 | birthq4 | ones | white | momed | momhs | momage | mommarried | poor\n",
       "Female | 1963    | -8       | 2        | 0       | 1       | 0       | 0       | 1    | 0     | 14    | 1     | 20     | 1          | 0\n",
       "Female | 1963    | -8       | 2        | 0       | 1       | 0       | 0       | 1    | 1     | 8     | 0     | 39     | 1          | 0\n",
       "Male   | 1963    | -8       | 2        | 0       | 1       | 0       | 0       | 1    | 1     | 12    | 1     | 29     | 1          | 0\n",
       "Male   | 1963    | -8       | 2        | 0       | 1       | 0       | 0       | 1    | 0     | 10    | 0     | 19     | 1          | 0\n",
       "Female | 1963    | -8       | 2        | 0       | 1       | 0       | 0       | 1    | 1     | 12    | 1     | 19     | 1          | 0\n",
       "Male   | 1963    | -8       | 2        | 0       | 1       | 0       | 0       | 1    | 1     | 10    | 0     | 34     | 0          | 0\n",
       "Female | 1963    | -8       | 2        | 0       | 1       | 0       | 0       | 1    | 1     | 12    | 1     | 22     | 1          | 0\n",
       "Female | 1963    | -8       | 2        | 0       | 1       | 0       | 0       | 1    | 1     | 13    | 1     | 19     | 1          | 1\n",
       "Male   | 1963    | -8       | 2        | 0       | 1       | 0       | 0       | 1    | 1     | 12    | 1     | 36     | 1          | 0\n",
       "Female | 1963    | -8       | 2        | 0       | 1       | 0       | 0       | 1    | 0     | 12    | 1     | 28     | 1          | 0\n",
       "... (2766112 rows omitted)"
      ]
     },
     "execution_count": 8,
     "metadata": {},
     "output_type": "execute_result"
    }
   ],
   "source": [
    "Tablec1980 = Table.read_table('http://demog.berkeley.edu/~redwards/Courses/LS88/c11_b1980.csv')\n",
    "Tablec1980"
   ]
  },
  {
   "cell_type": "code",
   "execution_count": 9,
   "metadata": {
    "collapsed": false
   },
   "outputs": [
    {
     "data": {
      "text/plain": [
       "pandas.core.frame.DataFrame"
      ]
     },
     "execution_count": 9,
     "metadata": {},
     "output_type": "execute_result"
    }
   ],
   "source": [
    "c1980 = Tablec1980.to_df()\n",
    "type(c1980)"
   ]
  },
  {
   "cell_type": "markdown",
   "metadata": {
    "collapsed": true
   },
   "source": [
    "Let's look at the same Y-variables and models that we examined using 1960 data, in order to see how the relationships have changed, if at all."
   ]
  },
  {
   "cell_type": "code",
   "execution_count": 25,
   "metadata": {
    "collapsed": false
   },
   "outputs": [
    {
     "data": {
      "text/html": [
       "<table class=\"simpletable\">\n",
       "<caption>OLS Regression Results</caption>\n",
       "<tr>\n",
       "  <th>Dep. Variable:</th>          <td>white</td>      <th>  R-squared:         </th>  <td>   0.000</td>  \n",
       "</tr>\n",
       "<tr>\n",
       "  <th>Model:</th>                   <td>OLS</td>       <th>  Adj. R-squared:    </th>  <td>   0.000</td>  \n",
       "</tr>\n",
       "<tr>\n",
       "  <th>Method:</th>             <td>Least Squares</td>  <th>  F-statistic:       </th>  <td>   126.3</td>  \n",
       "</tr>\n",
       "<tr>\n",
       "  <th>Date:</th>             <td>Mon, 18 Apr 2016</td> <th>  Prob (F-statistic):</th>  <td>4.95e-108</td> \n",
       "</tr>\n",
       "<tr>\n",
       "  <th>Time:</th>                 <td>16:30:17</td>     <th>  Log-Likelihood:    </th> <td>-1.2372e+06</td>\n",
       "</tr>\n",
       "<tr>\n",
       "  <th>No. Observations:</th>      <td>2766122</td>     <th>  AIC:               </th>  <td>2.474e+06</td> \n",
       "</tr>\n",
       "<tr>\n",
       "  <th>Df Residuals:</th>          <td>2766117</td>     <th>  BIC:               </th>  <td>2.475e+06</td> \n",
       "</tr>\n",
       "<tr>\n",
       "  <th>Df Model:</th>              <td>     4</td>      <th>                     </th>      <td> </td>     \n",
       "</tr>\n",
       "<tr>\n",
       "  <th>Covariance Type:</th>      <td>nonrobust</td>    <th>                     </th>      <td> </td>     \n",
       "</tr>\n",
       "</table>\n",
       "<table class=\"simpletable\">\n",
       "<tr>\n",
       "      <td></td>        <th>coef</th>     <th>std err</th>      <th>t</th>      <th>P>|t|</th> <th>[95.0% Conf. Int.]</th> \n",
       "</tr>\n",
       "<tr>\n",
       "  <th>ones</th>     <td>    0.8242</td> <td>    0.000</td> <td> 1776.382</td> <td> 0.000</td> <td>    0.823     0.825</td>\n",
       "</tr>\n",
       "<tr>\n",
       "  <th>birthq2</th>  <td>    0.0090</td> <td>    0.001</td> <td>   13.649</td> <td> 0.000</td> <td>    0.008     0.010</td>\n",
       "</tr>\n",
       "<tr>\n",
       "  <th>birthq3</th>  <td>    0.0003</td> <td>    0.001</td> <td>    0.406</td> <td> 0.685</td> <td>   -0.001     0.002</td>\n",
       "</tr>\n",
       "<tr>\n",
       "  <th>birthq4</th>  <td>    0.0013</td> <td>    0.001</td> <td>    1.935</td> <td> 0.053</td> <td> -1.6e-05     0.003</td>\n",
       "</tr>\n",
       "<tr>\n",
       "  <th>birthyr0</th> <td>   -0.0007</td> <td> 4.59e-05</td> <td>  -15.123</td> <td> 0.000</td> <td>   -0.001    -0.001</td>\n",
       "</tr>\n",
       "</table>\n",
       "<table class=\"simpletable\">\n",
       "<tr>\n",
       "  <th>Omnibus:</th>       <td>737423.551</td> <th>  Durbin-Watson:     </th>  <td>   1.998</td>  \n",
       "</tr>\n",
       "<tr>\n",
       "  <th>Prob(Omnibus):</th>   <td> 0.000</td>   <th>  Jarque-Bera (JB):  </th> <td>1484094.000</td>\n",
       "</tr>\n",
       "<tr>\n",
       "  <th>Skew:</th>            <td>-1.726</td>   <th>  Prob(JB):          </th>  <td>    0.00</td>  \n",
       "</tr>\n",
       "<tr>\n",
       "  <th>Kurtosis:</th>        <td> 3.980</td>   <th>  Cond. No.          </th>  <td>    22.1</td>  \n",
       "</tr>\n",
       "</table>"
      ],
      "text/plain": [
       "<class 'statsmodels.iolib.summary.Summary'>\n",
       "\"\"\"\n",
       "                            OLS Regression Results                            \n",
       "==============================================================================\n",
       "Dep. Variable:                  white   R-squared:                       0.000\n",
       "Model:                            OLS   Adj. R-squared:                  0.000\n",
       "Method:                 Least Squares   F-statistic:                     126.3\n",
       "Date:                Mon, 18 Apr 2016   Prob (F-statistic):          4.95e-108\n",
       "Time:                        16:30:17   Log-Likelihood:            -1.2372e+06\n",
       "No. Observations:             2766122   AIC:                         2.474e+06\n",
       "Df Residuals:                 2766117   BIC:                         2.475e+06\n",
       "Df Model:                           4                                         \n",
       "Covariance Type:            nonrobust                                         \n",
       "==============================================================================\n",
       "                 coef    std err          t      P>|t|      [95.0% Conf. Int.]\n",
       "------------------------------------------------------------------------------\n",
       "ones           0.8242      0.000   1776.382      0.000         0.823     0.825\n",
       "birthq2        0.0090      0.001     13.649      0.000         0.008     0.010\n",
       "birthq3        0.0003      0.001      0.406      0.685        -0.001     0.002\n",
       "birthq4        0.0013      0.001      1.935      0.053      -1.6e-05     0.003\n",
       "birthyr0      -0.0007   4.59e-05    -15.123      0.000        -0.001    -0.001\n",
       "==============================================================================\n",
       "Omnibus:                   737423.551   Durbin-Watson:                   1.998\n",
       "Prob(Omnibus):                  0.000   Jarque-Bera (JB):          1484094.000\n",
       "Skew:                          -1.726   Prob(JB):                         0.00\n",
       "Kurtosis:                       3.980   Cond. No.                         22.1\n",
       "==============================================================================\n",
       "\n",
       "Warnings:\n",
       "[1] Standard Errors assume that the covariance matrix of the errors is correctly specified.\n",
       "\"\"\""
      ]
     },
     "execution_count": 25,
     "metadata": {},
     "output_type": "execute_result"
    }
   ],
   "source": [
    "x80 = c1980[['ones','birthq2','birthq3','birthq4','birthyr0']]\n",
    "y80 = c1980['white']\n",
    "multiple_regress = sm.OLS(y80, x80).fit()\n",
    "multiple_regress.summary()"
   ]
  },
  {
   "cell_type": "markdown",
   "metadata": {},
   "source": [
    "<font color=\"blue\">What is the average percent white among all the mothers in the sample? Do you see any seasonality in percent white? Compare and contrast with the 1960 data.</font>"
   ]
  },
  {
   "cell_type": "markdown",
   "metadata": {},
   "source": []
  },
  {
   "cell_type": "markdown",
   "metadata": {},
   "source": [
    "Like before, let's examine patterns in mother's education."
   ]
  },
  {
   "cell_type": "code",
   "execution_count": 27,
   "metadata": {
    "collapsed": false
   },
   "outputs": [
    {
     "data": {
      "text/html": [
       "<table class=\"simpletable\">\n",
       "<caption>OLS Regression Results</caption>\n",
       "<tr>\n",
       "  <th>Dep. Variable:</th>          <td>momed</td>      <th>  R-squared:         </th>  <td>   0.006</td>  \n",
       "</tr>\n",
       "<tr>\n",
       "  <th>Model:</th>                   <td>OLS</td>       <th>  Adj. R-squared:    </th>  <td>   0.006</td>  \n",
       "</tr>\n",
       "<tr>\n",
       "  <th>Method:</th>             <td>Least Squares</td>  <th>  F-statistic:       </th>  <td>   3959.</td>  \n",
       "</tr>\n",
       "<tr>\n",
       "  <th>Date:</th>             <td>Mon, 18 Apr 2016</td> <th>  Prob (F-statistic):</th>   <td>  0.00</td>   \n",
       "</tr>\n",
       "<tr>\n",
       "  <th>Time:</th>                 <td>16:30:57</td>     <th>  Log-Likelihood:    </th> <td>-6.7155e+06</td>\n",
       "</tr>\n",
       "<tr>\n",
       "  <th>No. Observations:</th>      <td>2766122</td>     <th>  AIC:               </th>  <td>1.343e+07</td> \n",
       "</tr>\n",
       "<tr>\n",
       "  <th>Df Residuals:</th>          <td>2766117</td>     <th>  BIC:               </th>  <td>1.343e+07</td> \n",
       "</tr>\n",
       "<tr>\n",
       "  <th>Df Model:</th>              <td>     4</td>      <th>                     </th>      <td> </td>     \n",
       "</tr>\n",
       "<tr>\n",
       "  <th>Covariance Type:</th>      <td>nonrobust</td>    <th>                     </th>      <td> </td>     \n",
       "</tr>\n",
       "</table>\n",
       "<table class=\"simpletable\">\n",
       "<tr>\n",
       "      <td></td>        <th>coef</th>     <th>std err</th>      <th>t</th>      <th>P>|t|</th> <th>[95.0% Conf. Int.]</th> \n",
       "</tr>\n",
       "<tr>\n",
       "  <th>ones</th>     <td>   11.8824</td> <td>    0.003</td> <td> 3534.285</td> <td> 0.000</td> <td>   11.876    11.889</td>\n",
       "</tr>\n",
       "<tr>\n",
       "  <th>birthq2</th>  <td>    0.0825</td> <td>    0.005</td> <td>   17.359</td> <td> 0.000</td> <td>    0.073     0.092</td>\n",
       "</tr>\n",
       "<tr>\n",
       "  <th>birthq3</th>  <td>    0.0347</td> <td>    0.005</td> <td>    7.457</td> <td> 0.000</td> <td>    0.026     0.044</td>\n",
       "</tr>\n",
       "<tr>\n",
       "  <th>birthq4</th>  <td>    0.0411</td> <td>    0.005</td> <td>    8.734</td> <td> 0.000</td> <td>    0.032     0.050</td>\n",
       "</tr>\n",
       "<tr>\n",
       "  <th>birthyr0</th> <td>    0.0417</td> <td>    0.000</td> <td>  125.338</td> <td> 0.000</td> <td>    0.041     0.042</td>\n",
       "</tr>\n",
       "</table>\n",
       "<table class=\"simpletable\">\n",
       "<tr>\n",
       "  <th>Omnibus:</th>       <td>351744.400</td> <th>  Durbin-Watson:     </th>  <td>   1.999</td>  \n",
       "</tr>\n",
       "<tr>\n",
       "  <th>Prob(Omnibus):</th>   <td> 0.000</td>   <th>  Jarque-Bera (JB):  </th> <td>1060523.455</td>\n",
       "</tr>\n",
       "<tr>\n",
       "  <th>Skew:</th>            <td>-0.677</td>   <th>  Prob(JB):          </th>  <td>    0.00</td>  \n",
       "</tr>\n",
       "<tr>\n",
       "  <th>Kurtosis:</th>        <td> 5.715</td>   <th>  Cond. No.          </th>  <td>    22.1</td>  \n",
       "</tr>\n",
       "</table>"
      ],
      "text/plain": [
       "<class 'statsmodels.iolib.summary.Summary'>\n",
       "\"\"\"\n",
       "                            OLS Regression Results                            \n",
       "==============================================================================\n",
       "Dep. Variable:                  momed   R-squared:                       0.006\n",
       "Model:                            OLS   Adj. R-squared:                  0.006\n",
       "Method:                 Least Squares   F-statistic:                     3959.\n",
       "Date:                Mon, 18 Apr 2016   Prob (F-statistic):               0.00\n",
       "Time:                        16:30:57   Log-Likelihood:            -6.7155e+06\n",
       "No. Observations:             2766122   AIC:                         1.343e+07\n",
       "Df Residuals:                 2766117   BIC:                         1.343e+07\n",
       "Df Model:                           4                                         \n",
       "Covariance Type:            nonrobust                                         \n",
       "==============================================================================\n",
       "                 coef    std err          t      P>|t|      [95.0% Conf. Int.]\n",
       "------------------------------------------------------------------------------\n",
       "ones          11.8824      0.003   3534.285      0.000        11.876    11.889\n",
       "birthq2        0.0825      0.005     17.359      0.000         0.073     0.092\n",
       "birthq3        0.0347      0.005      7.457      0.000         0.026     0.044\n",
       "birthq4        0.0411      0.005      8.734      0.000         0.032     0.050\n",
       "birthyr0       0.0417      0.000    125.338      0.000         0.041     0.042\n",
       "==============================================================================\n",
       "Omnibus:                   351744.400   Durbin-Watson:                   1.999\n",
       "Prob(Omnibus):                  0.000   Jarque-Bera (JB):          1060523.455\n",
       "Skew:                          -0.677   Prob(JB):                         0.00\n",
       "Kurtosis:                       5.715   Cond. No.                         22.1\n",
       "==============================================================================\n",
       "\n",
       "Warnings:\n",
       "[1] Standard Errors assume that the covariance matrix of the errors is correctly specified.\n",
       "\"\"\""
      ]
     },
     "execution_count": 27,
     "metadata": {},
     "output_type": "execute_result"
    }
   ],
   "source": [
    "#x80 = c1980[['ones','birthq2','birthq3','birthq4','birthyr0']]\n",
    "y80 = c1980['momed']\n",
    "multiple_regress = sm.OLS(y80, x80).fit()\n",
    "multiple_regress.summary()"
   ]
  },
  {
   "cell_type": "markdown",
   "metadata": {},
   "source": [
    "<font color=\"blue\">What is the average level of education among all the mothers in the sample?  Do you see seasonality here?  Compare/contrast with 1960.</font>"
   ]
  },
  {
   "cell_type": "markdown",
   "metadata": {},
   "source": []
  },
  {
   "cell_type": "markdown",
   "metadata": {},
   "source": [
    "And let's look at mother's age again too."
   ]
  },
  {
   "cell_type": "code",
   "execution_count": 28,
   "metadata": {
    "collapsed": false
   },
   "outputs": [
    {
     "data": {
      "text/html": [
       "<table class=\"simpletable\">\n",
       "<caption>OLS Regression Results</caption>\n",
       "<tr>\n",
       "  <th>Dep. Variable:</th>         <td>momage</td>      <th>  R-squared:         </th>  <td>   0.001</td>  \n",
       "</tr>\n",
       "<tr>\n",
       "  <th>Model:</th>                   <td>OLS</td>       <th>  Adj. R-squared:    </th>  <td>   0.001</td>  \n",
       "</tr>\n",
       "<tr>\n",
       "  <th>Method:</th>             <td>Least Squares</td>  <th>  F-statistic:       </th>  <td>   850.4</td>  \n",
       "</tr>\n",
       "<tr>\n",
       "  <th>Date:</th>             <td>Mon, 18 Apr 2016</td> <th>  Prob (F-statistic):</th>   <td>  0.00</td>   \n",
       "</tr>\n",
       "<tr>\n",
       "  <th>Time:</th>                 <td>16:31:08</td>     <th>  Log-Likelihood:    </th> <td>-8.7721e+06</td>\n",
       "</tr>\n",
       "<tr>\n",
       "  <th>No. Observations:</th>      <td>2766122</td>     <th>  AIC:               </th>  <td>1.754e+07</td> \n",
       "</tr>\n",
       "<tr>\n",
       "  <th>Df Residuals:</th>          <td>2766117</td>     <th>  BIC:               </th>  <td>1.754e+07</td> \n",
       "</tr>\n",
       "<tr>\n",
       "  <th>Df Model:</th>              <td>     4</td>      <th>                     </th>      <td> </td>     \n",
       "</tr>\n",
       "<tr>\n",
       "  <th>Covariance Type:</th>      <td>nonrobust</td>    <th>                     </th>      <td> </td>     \n",
       "</tr>\n",
       "</table>\n",
       "<table class=\"simpletable\">\n",
       "<tr>\n",
       "      <td></td>        <th>coef</th>     <th>std err</th>      <th>t</th>      <th>P>|t|</th> <th>[95.0% Conf. Int.]</th> \n",
       "</tr>\n",
       "<tr>\n",
       "  <th>ones</th>     <td>   25.4189</td> <td>    0.007</td> <td> 3594.662</td> <td> 0.000</td> <td>   25.405    25.433</td>\n",
       "</tr>\n",
       "<tr>\n",
       "  <th>birthq2</th>  <td>   -0.0388</td> <td>    0.010</td> <td>   -3.882</td> <td> 0.000</td> <td>   -0.058    -0.019</td>\n",
       "</tr>\n",
       "<tr>\n",
       "  <th>birthq3</th>  <td>   -0.0022</td> <td>    0.010</td> <td>   -0.226</td> <td> 0.822</td> <td>   -0.021     0.017</td>\n",
       "</tr>\n",
       "<tr>\n",
       "  <th>birthq4</th>  <td>    0.1059</td> <td>    0.010</td> <td>   10.700</td> <td> 0.000</td> <td>    0.086     0.125</td>\n",
       "</tr>\n",
       "<tr>\n",
       "  <th>birthyr0</th> <td>   -0.0390</td> <td>    0.001</td> <td>  -55.719</td> <td> 0.000</td> <td>   -0.040    -0.038</td>\n",
       "</tr>\n",
       "</table>\n",
       "<table class=\"simpletable\">\n",
       "<tr>\n",
       "  <th>Omnibus:</th>       <td>240322.208</td> <th>  Durbin-Watson:     </th>  <td>   1.994</td> \n",
       "</tr>\n",
       "<tr>\n",
       "  <th>Prob(Omnibus):</th>   <td> 0.000</td>   <th>  Jarque-Bera (JB):  </th> <td>313183.109</td>\n",
       "</tr>\n",
       "<tr>\n",
       "  <th>Skew:</th>            <td> 0.762</td>   <th>  Prob(JB):          </th>  <td>    0.00</td> \n",
       "</tr>\n",
       "<tr>\n",
       "  <th>Kurtosis:</th>        <td> 3.629</td>   <th>  Cond. No.          </th>  <td>    22.1</td> \n",
       "</tr>\n",
       "</table>"
      ],
      "text/plain": [
       "<class 'statsmodels.iolib.summary.Summary'>\n",
       "\"\"\"\n",
       "                            OLS Regression Results                            \n",
       "==============================================================================\n",
       "Dep. Variable:                 momage   R-squared:                       0.001\n",
       "Model:                            OLS   Adj. R-squared:                  0.001\n",
       "Method:                 Least Squares   F-statistic:                     850.4\n",
       "Date:                Mon, 18 Apr 2016   Prob (F-statistic):               0.00\n",
       "Time:                        16:31:08   Log-Likelihood:            -8.7721e+06\n",
       "No. Observations:             2766122   AIC:                         1.754e+07\n",
       "Df Residuals:                 2766117   BIC:                         1.754e+07\n",
       "Df Model:                           4                                         \n",
       "Covariance Type:            nonrobust                                         \n",
       "==============================================================================\n",
       "                 coef    std err          t      P>|t|      [95.0% Conf. Int.]\n",
       "------------------------------------------------------------------------------\n",
       "ones          25.4189      0.007   3594.662      0.000        25.405    25.433\n",
       "birthq2       -0.0388      0.010     -3.882      0.000        -0.058    -0.019\n",
       "birthq3       -0.0022      0.010     -0.226      0.822        -0.021     0.017\n",
       "birthq4        0.1059      0.010     10.700      0.000         0.086     0.125\n",
       "birthyr0      -0.0390      0.001    -55.719      0.000        -0.040    -0.038\n",
       "==============================================================================\n",
       "Omnibus:                   240322.208   Durbin-Watson:                   1.994\n",
       "Prob(Omnibus):                  0.000   Jarque-Bera (JB):           313183.109\n",
       "Skew:                           0.762   Prob(JB):                         0.00\n",
       "Kurtosis:                       3.629   Cond. No.                         22.1\n",
       "==============================================================================\n",
       "\n",
       "Warnings:\n",
       "[1] Standard Errors assume that the covariance matrix of the errors is correctly specified.\n",
       "\"\"\""
      ]
     },
     "execution_count": 28,
     "metadata": {},
     "output_type": "execute_result"
    }
   ],
   "source": [
    "#x80 = c1980[['ones','birthq2','birthq3','birthq4','birthyr0']]\n",
    "y80 = c1980['momage']\n",
    "multiple_regress = sm.OLS(y80, x80).fit()\n",
    "multiple_regress.summary()"
   ]
  },
  {
   "cell_type": "markdown",
   "metadata": {},
   "source": [
    "<font color=\"blue\">What is the average age among all the mothers in the sample? Is there seasonality here? Compare/contrast to 1960.</font>"
   ]
  },
  {
   "cell_type": "markdown",
   "metadata": {},
   "source": []
  },
  {
   "cell_type": "markdown",
   "metadata": {},
   "source": [
    "Finally, a second look at poverty:"
   ]
  },
  {
   "cell_type": "code",
   "execution_count": 36,
   "metadata": {
    "collapsed": false
   },
   "outputs": [
    {
     "data": {
      "text/html": [
       "<table class=\"simpletable\">\n",
       "<caption>OLS Regression Results</caption>\n",
       "<tr>\n",
       "  <th>Dep. Variable:</th>          <td>poor</td>       <th>  R-squared:         </th>  <td>   0.002</td>  \n",
       "</tr>\n",
       "<tr>\n",
       "  <th>Model:</th>                   <td>OLS</td>       <th>  Adj. R-squared:    </th>  <td>   0.002</td>  \n",
       "</tr>\n",
       "<tr>\n",
       "  <th>Method:</th>             <td>Least Squares</td>  <th>  F-statistic:       </th>  <td>   1457.</td>  \n",
       "</tr>\n",
       "<tr>\n",
       "  <th>Date:</th>             <td>Mon, 18 Apr 2016</td> <th>  Prob (F-statistic):</th>   <td>  0.00</td>   \n",
       "</tr>\n",
       "<tr>\n",
       "  <th>Time:</th>                 <td>16:48:19</td>     <th>  Log-Likelihood:    </th> <td>-1.1526e+06</td>\n",
       "</tr>\n",
       "<tr>\n",
       "  <th>No. Observations:</th>      <td>2766122</td>     <th>  AIC:               </th>  <td>2.305e+06</td> \n",
       "</tr>\n",
       "<tr>\n",
       "  <th>Df Residuals:</th>          <td>2766117</td>     <th>  BIC:               </th>  <td>2.305e+06</td> \n",
       "</tr>\n",
       "<tr>\n",
       "  <th>Df Model:</th>              <td>     4</td>      <th>                     </th>      <td> </td>     \n",
       "</tr>\n",
       "<tr>\n",
       "  <th>Covariance Type:</th>      <td>nonrobust</td>    <th>                     </th>      <td> </td>     \n",
       "</tr>\n",
       "</table>\n",
       "<table class=\"simpletable\">\n",
       "<tr>\n",
       "      <td></td>        <th>coef</th>     <th>std err</th>      <th>t</th>      <th>P>|t|</th> <th>[95.0% Conf. Int.]</th> \n",
       "</tr>\n",
       "<tr>\n",
       "  <th>ones</th>     <td>    0.1618</td> <td>    0.000</td> <td>  359.548</td> <td> 0.000</td> <td>    0.161     0.163</td>\n",
       "</tr>\n",
       "<tr>\n",
       "  <th>birthq2</th>  <td>   -0.0049</td> <td>    0.001</td> <td>   -7.740</td> <td> 0.000</td> <td>   -0.006    -0.004</td>\n",
       "</tr>\n",
       "<tr>\n",
       "  <th>birthq3</th>  <td>    0.0012</td> <td>    0.001</td> <td>    1.868</td> <td> 0.062</td> <td>-5.74e-05     0.002</td>\n",
       "</tr>\n",
       "<tr>\n",
       "  <th>birthq4</th>  <td>   -0.0002</td> <td>    0.001</td> <td>   -0.325</td> <td> 0.745</td> <td>   -0.001     0.001</td>\n",
       "</tr>\n",
       "<tr>\n",
       "  <th>birthyr0</th> <td>    0.0033</td> <td> 4.46e-05</td> <td>   75.076</td> <td> 0.000</td> <td>    0.003     0.003</td>\n",
       "</tr>\n",
       "</table>\n",
       "<table class=\"simpletable\">\n",
       "<tr>\n",
       "  <th>Omnibus:</th>       <td>823414.701</td> <th>  Durbin-Watson:     </th>  <td>   1.998</td>  \n",
       "</tr>\n",
       "<tr>\n",
       "  <th>Prob(Omnibus):</th>   <td> 0.000</td>   <th>  Jarque-Bera (JB):  </th> <td>1786680.831</td>\n",
       "</tr>\n",
       "<tr>\n",
       "  <th>Skew:</th>            <td> 1.840</td>   <th>  Prob(JB):          </th>  <td>    0.00</td>  \n",
       "</tr>\n",
       "<tr>\n",
       "  <th>Kurtosis:</th>        <td> 4.401</td>   <th>  Cond. No.          </th>  <td>    22.1</td>  \n",
       "</tr>\n",
       "</table>"
      ],
      "text/plain": [
       "<class 'statsmodels.iolib.summary.Summary'>\n",
       "\"\"\"\n",
       "                            OLS Regression Results                            \n",
       "==============================================================================\n",
       "Dep. Variable:                   poor   R-squared:                       0.002\n",
       "Model:                            OLS   Adj. R-squared:                  0.002\n",
       "Method:                 Least Squares   F-statistic:                     1457.\n",
       "Date:                Mon, 18 Apr 2016   Prob (F-statistic):               0.00\n",
       "Time:                        16:48:19   Log-Likelihood:            -1.1526e+06\n",
       "No. Observations:             2766122   AIC:                         2.305e+06\n",
       "Df Residuals:                 2766117   BIC:                         2.305e+06\n",
       "Df Model:                           4                                         \n",
       "Covariance Type:            nonrobust                                         \n",
       "==============================================================================\n",
       "                 coef    std err          t      P>|t|      [95.0% Conf. Int.]\n",
       "------------------------------------------------------------------------------\n",
       "ones           0.1618      0.000    359.548      0.000         0.161     0.163\n",
       "birthq2       -0.0049      0.001     -7.740      0.000        -0.006    -0.004\n",
       "birthq3        0.0012      0.001      1.868      0.062     -5.74e-05     0.002\n",
       "birthq4       -0.0002      0.001     -0.325      0.745        -0.001     0.001\n",
       "birthyr0       0.0033   4.46e-05     75.076      0.000         0.003     0.003\n",
       "==============================================================================\n",
       "Omnibus:                   823414.701   Durbin-Watson:                   1.998\n",
       "Prob(Omnibus):                  0.000   Jarque-Bera (JB):          1786680.831\n",
       "Skew:                           1.840   Prob(JB):                         0.00\n",
       "Kurtosis:                       4.401   Cond. No.                         22.1\n",
       "==============================================================================\n",
       "\n",
       "Warnings:\n",
       "[1] Standard Errors assume that the covariance matrix of the errors is correctly specified.\n",
       "\"\"\""
      ]
     },
     "execution_count": 36,
     "metadata": {},
     "output_type": "execute_result"
    }
   ],
   "source": [
    "#x80 = c1980[['ones','birthq2','birthq3','birthq4','birthyr0']]\n",
    "y80 = c1980['poor']\n",
    "multiple_regress = sm.OLS(y80, x80).fit()\n",
    "multiple_regress.summary()"
   ]
  },
  {
   "cell_type": "markdown",
   "metadata": {},
   "source": [
    "<font color=\"blue\">What is the average poverty rate among all the mothers in the sample? Is there seasonality here? Compare/contrast to 1960.</font>"
   ]
  },
  {
   "cell_type": "markdown",
   "metadata": {},
   "source": []
  }
 ],
 "metadata": {
  "kernelspec": {
   "display_name": "Python 3",
   "language": "python",
   "name": "python3"
  },
  "language_info": {
   "codemirror_mode": {
    "name": "ipython",
    "version": 3
   },
   "file_extension": ".py",
   "mimetype": "text/x-python",
   "name": "python",
   "nbconvert_exporter": "python",
   "pygments_lexer": "ipython3",
   "version": "3.4.4"
  }
 },
 "nbformat": 4,
 "nbformat_minor": 0
}
