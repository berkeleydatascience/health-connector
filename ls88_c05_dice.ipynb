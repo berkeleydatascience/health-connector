{
 "cells": [
  {
   "cell_type": "code",
   "execution_count": 11,
   "metadata": {
    "collapsed": false
   },
   "outputs": [
    {
     "data": {
      "text/plain": [
       "'0.5.9'"
      ]
     },
     "execution_count": 11,
     "metadata": {},
     "output_type": "execute_result"
    }
   ],
   "source": [
    "# HIDDEN\n",
    "# This useful nonsense should just go at the top of your notebook.\n",
    "from datascience import *\n",
    "%matplotlib inline\n",
    "import matplotlib.pyplot as plots\n",
    "import numpy as np\n",
    "plots.style.use('fivethirtyeight')\n",
    "# datascience version number of last run of this notebook\n",
    "version.__version__"
   ]
  },
  {
   "cell_type": "markdown",
   "metadata": {},
   "source": [
    "<h1>Class 5: Variance and Dice</h1>\n",
    "\n",
    "Let's try to build some intuition for *variance* &mdash; in the sense of *random disturbances*."
   ]
  },
  {
   "cell_type": "markdown",
   "metadata": {},
   "source": [
    "<img src=\"https://upload.wikimedia.org/wikipedia/commons/thumb/c/c4/2-Dice-Icon.svg/1024px-2-Dice-Icon.svg.png\" align=right valign=top width=160> \n",
    "\n",
    "<img src=\"https://upload.wikimedia.org/wikipedia/commons/thumb/c/c4/2-Dice-Icon.svg/1024px-2-Dice-Icon.svg.png\" align=right valign=top width=160>\n",
    "\n",
    "\n",
    "Imagine you have 4 six-sided dice.  \n",
    "\n",
    "We could actually roll 4 dice over and over and over again, but we can also *simulate it* using Python. \n",
    "\n",
    "When you're playing \"craps\" in a casino, you roll 2 dice and look at the <b>sum</b>. Using 4 dice instead makes this game a little more interesting, but you'd see a similar story unfold regardless of how many dice you use."
   ]
  },
  {
   "cell_type": "markdown",
   "metadata": {},
   "source": [
    "<font color=\"blue\">Q1: What's the \"average\" or most likely sum of 4 dice rolled at once?</blue>"
   ]
  },
  {
   "cell_type": "markdown",
   "metadata": {},
   "source": [
    "Hint: Each dice is equally likely to roll 1, 2, 3, 4, 5, or 6, with $\\frac{1}{6}$ probability for each outcome. So the average number rolled for one dice equals \n",
    "\n",
    "$$\\frac{1}{6}\\times 1 + \\frac{1}{6}\\times 2 + ...  = \\frac{1}{6}\\times \\sum_{x=1}^6 x$$\n",
    "\n",
    "Using this, what's the average sum of 4 such dice?"
   ]
  },
  {
   "cell_type": "code",
   "execution_count": null,
   "metadata": {
    "collapsed": true
   },
   "outputs": [],
   "source": []
  },
  {
   "cell_type": "markdown",
   "metadata": {},
   "source": [
    "Let's simulate some random numbers in Python. It took me a while to figure out how to get example what I wanted, but I started with `np.random.random()`. Here is code that generates an array with 3 rows and 4 columns of uniformly distributed random variables:"
   ]
  },
  {
   "cell_type": "code",
   "execution_count": 52,
   "metadata": {
    "collapsed": false
   },
   "outputs": [
    {
     "data": {
      "text/plain": [
       "array([[ 0.70286861,  0.01759089,  0.33288908,  0.68985756],\n",
       "       [ 0.19656059,  0.33458493,  0.79118112,  0.38131212],\n",
       "       [ 0.34622238,  0.02968661,  0.43454015,  0.79329015]])"
      ]
     },
     "execution_count": 52,
     "metadata": {},
     "output_type": "execute_result"
    }
   ],
   "source": [
    "np.random.random((3, 4))"
   ]
  },
  {
   "cell_type": "markdown",
   "metadata": {},
   "source": [
    "And if we want to sum across a dimension of the array, we can use `np.sum()` where the second argument is the *n*th dimension to sum across. The 0th dimension is rows. The 1st dimension is columns:"
   ]
  },
  {
   "cell_type": "code",
   "execution_count": 55,
   "metadata": {
    "collapsed": false
   },
   "outputs": [
    {
     "data": {
      "text/plain": [
       "array([ 1.03704751,  1.81960593,  1.75309453])"
      ]
     },
     "execution_count": 55,
     "metadata": {},
     "output_type": "execute_result"
    }
   ],
   "source": [
    "np.sum(np.random.random((3, 4)),1)"
   ]
  },
  {
   "cell_type": "markdown",
   "metadata": {},
   "source": [
    "It turns out that `np.random.randint(a, b, size)` helpfully generates random draws of integers in the interval [a, b) &mdash; so that it doesn't ever draw b. So passing 1 and 7 to it produces a nice simulation of a six-sided dice. Here is a 10-by-4 matrix of simulated six-sided dice rolls, with each row representing a roll and each column representing one of the dice in the roll:"
   ]
  },
  {
   "cell_type": "code",
   "execution_count": 59,
   "metadata": {
    "collapsed": false
   },
   "outputs": [
    {
     "data": {
      "text/plain": [
       "array([[3, 6, 1, 3],\n",
       "       [5, 4, 5, 1],\n",
       "       [3, 5, 5, 5],\n",
       "       [6, 6, 4, 3],\n",
       "       [3, 5, 1, 6],\n",
       "       [2, 5, 1, 6],\n",
       "       [1, 4, 4, 3],\n",
       "       [5, 4, 5, 1],\n",
       "       [1, 6, 4, 3],\n",
       "       [5, 2, 4, 4]])"
      ]
     },
     "execution_count": 59,
     "metadata": {},
     "output_type": "execute_result"
    }
   ],
   "source": [
    "np.random.randint(1,7,size=(10,4))"
   ]
  },
  {
   "cell_type": "markdown",
   "metadata": {},
   "source": [
    "<font color=\"blue\">Q2: Create a 1000-by-4 array of dice rolls.</blue>"
   ]
  },
  {
   "cell_type": "code",
   "execution_count": 61,
   "metadata": {
    "collapsed": false
   },
   "outputs": [
    {
     "data": {
      "text/plain": [
       "Ellipsis"
      ]
     },
     "execution_count": 61,
     "metadata": {},
     "output_type": "execute_result"
    }
   ],
   "source": [
    "Dice = ...\n",
    "Dice"
   ]
  },
  {
   "cell_type": "markdown",
   "metadata": {},
   "source": [
    "<font color=\"blue\">Q3: Collapse `Dice` into a 1000-by-1 array of the sum of 4 dice rolled at once, 1000 times.</blue>"
   ]
  },
  {
   "cell_type": "code",
   "execution_count": 63,
   "metadata": {
    "collapsed": false
   },
   "outputs": [
    {
     "data": {
      "text/plain": [
       "Ellipsis"
      ]
     },
     "execution_count": 63,
     "metadata": {},
     "output_type": "execute_result"
    }
   ],
   "source": [
    "Dicesum = ...\n",
    "Dicesum"
   ]
  },
  {
   "cell_type": "markdown",
   "metadata": {},
   "source": [
    "What have we got? One thousand dice rolls, without getting carpal tunnel syndrome or getting shot by the cowboys at the craps table!\n",
    "\n",
    "Let's look at a histogram of the sums across the four dice. To pull a histogram, use\n",
    "\n",
    "`plots.hist(x, bins=y)'\n",
    "\n",
    "where `x` is your data array (here, `Dicesum`), and `y` is a range of bins you'd like.\n",
    "\n",
    "Remember that to generate a range of integers from 1 to 25, you can call `np.arange` like this:"
   ]
  },
  {
   "cell_type": "code",
   "execution_count": 65,
   "metadata": {
    "collapsed": false
   },
   "outputs": [
    {
     "data": {
      "text/plain": [
       "array([ 1,  2,  3,  4,  5,  6,  7,  8,  9, 10, 11, 12, 13, 14, 15, 16, 17,\n",
       "       18, 19, 20, 21, 22, 23, 24])"
      ]
     },
     "execution_count": 65,
     "metadata": {},
     "output_type": "execute_result"
    }
   ],
   "source": [
    "np.arange(1,25)"
   ]
  },
  {
   "cell_type": "markdown",
   "metadata": {},
   "source": [
    "You can also trim out the impossible numbers if you'd like, since the minimum sum of four dice is 4.\n",
    "\n",
    "<font color=\"blue\">Q4: Generate a histogram of your simulation (`Dicesum`).</blue>"
   ]
  },
  {
   "cell_type": "code",
   "execution_count": 68,
   "metadata": {
    "collapsed": false
   },
   "outputs": [
    {
     "data": {
      "text/plain": [
       "Ellipsis"
      ]
     },
     "execution_count": 68,
     "metadata": {},
     "output_type": "execute_result"
    }
   ],
   "source": [
    "..."
   ]
  },
  {
   "cell_type": "markdown",
   "metadata": {},
   "source": [
    "<font color=\"blue\">Q5: Do you see the mean sum of dice you calculated in Q1 in the histogram? Where?</blue>"
   ]
  },
  {
   "cell_type": "markdown",
   "metadata": {},
   "source": []
  },
  {
   "cell_type": "markdown",
   "metadata": {},
   "source": [
    "<font color=\"blue\">Q6: Suppose I told you that I saw a dice roll that was four 6's, or a sum of 24. How likely is that outcome?</blue>"
   ]
  },
  {
   "cell_type": "markdown",
   "metadata": {},
   "source": []
  },
  {
   "cell_type": "code",
   "execution_count": null,
   "metadata": {
    "collapsed": true
   },
   "outputs": [],
   "source": []
  }
 ],
 "metadata": {
  "kernelspec": {
   "display_name": "Python 3",
   "language": "python",
   "name": "python3"
  },
  "language_info": {
   "codemirror_mode": {
    "name": "ipython",
    "version": 3
   },
   "file_extension": ".py",
   "mimetype": "text/x-python",
   "name": "python",
   "nbconvert_exporter": "python",
   "pygments_lexer": "ipython3",
   "version": "3.4.4"
  }
 },
 "nbformat": 4,
 "nbformat_minor": 0
}
