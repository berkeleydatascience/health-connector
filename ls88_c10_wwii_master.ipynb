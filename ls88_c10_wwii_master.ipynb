{
 "cells": [
  {
   "cell_type": "code",
   "execution_count": 13,
   "metadata": {
    "collapsed": false
   },
   "outputs": [
    {
     "data": {
      "text/plain": [
       "'0.5.17'"
      ]
     },
     "execution_count": 13,
     "metadata": {},
     "output_type": "execute_result"
    }
   ],
   "source": [
    "# HIDDEN\n",
    "# This useful nonsense should just go at the top of your notebook.\n",
    "from datascience import *\n",
    "%matplotlib inline\n",
    "import matplotlib.pyplot as plots\n",
    "import numpy as np\n",
    "plots.style.use('fivethirtyeight')\n",
    "# datascience version number of last run of this notebook\n",
    "version.__version__"
   ]
  },
  {
   "cell_type": "markdown",
   "metadata": {},
   "source": [
    "<h1>Class 10: World War II Veterans, Earnings, Ability, and Health</h1>\n",
    "\n",
    "Angrist and Krueger (1994) reexamined data on the earnings of veterans of World War II in a very clever way. They looked at the typical earnings of adjacent *birth cohorts* who were differentially treated by military service.\n",
    "\n",
    "Their results showed that the simple comparison of veterans of WWII to nonveterans, even after controlling for other measurable characteristics, is misleading because it is typically impossible to control for *ability*, a key unmeasurable trait in humans.\n",
    "\n",
    "The argument goes something like this.  Imagine that earnings (or log earnings), $Y$, are a linear function of veteran status, $X$, and ability $Z$:\n",
    "\n",
    "$$ Y_i = \\alpha + \\beta_0 X_i + \\gamma Z_i + \\epsilon_i \n",
    "$$\n",
    "\n",
    "We can't typically measure ability, $Z_i$, but we know that it is positively correlated with veteran status and with earnings:  $corr(X_i,Z_i) > 0$ and $corr(Y_i,Z_i) > 0$. Although not true of all drafts, the World War II draft typically drew healthy, higher-ability individuals from the civilian population into service. With this in mind, if we instead estimated the equation without ability:\n",
    "\n",
    "$$ Y_i = \\alpha + \\beta_1 X_i + \\epsilon_i \n",
    "$$\n",
    "\n",
    "then we would find that our estimate of $\\beta_1$ would be biased upward because $Z_i$, which is positively correlated, is an omitted variable."
   ]
  },
  {
   "cell_type": "markdown",
   "metadata": {},
   "source": [
    "As we have done recently, let's use the very helpful <a href=\"http://statsmodels.sourceforge.net/\">Statsmodels</a> \n",
    "module and some <a href=\"http://pandas.pydata.org/\">Pandas</a> functions to run a multivariate regression. "
   ]
  },
  {
   "cell_type": "code",
   "execution_count": 19,
   "metadata": {
    "collapsed": true
   },
   "outputs": [],
   "source": [
    "import statsmodels.api as sm\n",
    "import pandas as pd"
   ]
  },
  {
   "cell_type": "markdown",
   "metadata": {},
   "source": [
    "<h3>Ordinary Least Squares and differences between averages</h3> \n",
    "\n",
    "Before we get started, let's revisit some earlier data that we examined in order to reveal a helpful point about OLS estimation when $X$ is a dichotomous or binary 0/1 variable. Recall the HRS smoking dataset we looked at in class 7:"
   ]
  },
  {
   "cell_type": "code",
   "execution_count": 30,
   "metadata": {
    "collapsed": false
   },
   "outputs": [
    {
     "data": {
      "text/html": [
       "<table border=\"1\" class=\"dataframe\">\n",
       "    <thead>\n",
       "        <tr>\n",
       "            <th>hhidpn</th> <th>ragender</th> <th>r8age</th> <th>r8weight</th> <th>r9weight</th> <th>r8smoken</th> <th>r9smoken</th> <th>ones</th>\n",
       "        </tr>\n",
       "    </thead>\n",
       "    <tbody>\n",
       "        <tr>\n",
       "            <td>3010    </td> <td>1       </td> <td>70   </td> <td>71.6672 </td> <td>65.317  </td> <td>0       </td> <td>0       </td> <td>1   </td>\n",
       "        </tr>\n",
       "    </tbody>\n",
       "        <tr>\n",
       "            <td>3020    </td> <td>2       </td> <td>67   </td> <td>65.317  </td> <td>68.0385 </td> <td>0       </td> <td>0       </td> <td>1   </td>\n",
       "        </tr>\n",
       "    </tbody>\n",
       "        <tr>\n",
       "            <td>10001010</td> <td>1       </td> <td>66   </td> <td>72.5744 </td> <td>72.5744 </td> <td>0       </td> <td>0       </td> <td>1   </td>\n",
       "        </tr>\n",
       "    </tbody>\n",
       "        <tr>\n",
       "            <td>10003030</td> <td>2       </td> <td>50   </td> <td>58.9667 </td> <td>72.5744 </td> <td>0       </td> <td>0       </td> <td>1   </td>\n",
       "        </tr>\n",
       "    </tbody>\n",
       "        <tr>\n",
       "            <td>10004010</td> <td>1       </td> <td>66   </td> <td>102.511 </td> <td>100.697 </td> <td>0       </td> <td>0       </td> <td>1   </td>\n",
       "        </tr>\n",
       "    </tbody>\n",
       "        <tr>\n",
       "            <td>10004040</td> <td>2       </td> <td>60   </td> <td>77.1103 </td> <td>74.8423 </td> <td>0       </td> <td>0       </td> <td>1   </td>\n",
       "        </tr>\n",
       "    </tbody>\n",
       "        <tr>\n",
       "            <td>10013010</td> <td>1       </td> <td>68   </td> <td>108.862 </td> <td>99.7898 </td> <td>0       </td> <td>0       </td> <td>1   </td>\n",
       "        </tr>\n",
       "    </tbody>\n",
       "        <tr>\n",
       "            <td>10013040</td> <td>2       </td> <td>58   </td> <td>64.4098 </td> <td>63.5026 </td> <td>1       </td> <td>1       </td> <td>1   </td>\n",
       "        </tr>\n",
       "    </tbody>\n",
       "        <tr>\n",
       "            <td>10038010</td> <td>1       </td> <td>70   </td> <td>74.8423 </td> <td>73.4816 </td> <td>0       </td> <td>0       </td> <td>1   </td>\n",
       "        </tr>\n",
       "    </tbody>\n",
       "        <tr>\n",
       "            <td>10038040</td> <td>2       </td> <td>63   </td> <td>64.4098 </td> <td>63.5026 </td> <td>0       </td> <td>0       </td> <td>1   </td>\n",
       "        </tr>\n",
       "    </tbody>\n",
       "</table>\n",
       "<p>... (16009 rows omitted)</p"
      ],
      "text/plain": [
       "hhidpn   | ragender | r8age | r8weight | r9weight | r8smoken | r9smoken | ones\n",
       "3010     | 1        | 70    | 71.6672  | 65.317   | 0        | 0        | 1\n",
       "3020     | 2        | 67    | 65.317   | 68.0385  | 0        | 0        | 1\n",
       "10001010 | 1        | 66    | 72.5744  | 72.5744  | 0        | 0        | 1\n",
       "10003030 | 2        | 50    | 58.9667  | 72.5744  | 0        | 0        | 1\n",
       "10004010 | 1        | 66    | 102.511  | 100.697  | 0        | 0        | 1\n",
       "10004040 | 2        | 60    | 77.1103  | 74.8423  | 0        | 0        | 1\n",
       "10013010 | 1        | 68    | 108.862  | 99.7898  | 0        | 0        | 1\n",
       "10013040 | 2        | 58    | 64.4098  | 63.5026  | 1        | 1        | 1\n",
       "10038010 | 1        | 70    | 74.8423  | 73.4816  | 0        | 0        | 1\n",
       "10038040 | 2        | 63    | 64.4098  | 63.5026  | 0        | 0        | 1\n",
       "... (16009 rows omitted)"
      ]
     },
     "execution_count": 30,
     "metadata": {},
     "output_type": "execute_result"
    }
   ],
   "source": [
    "smokeweight = Table.read_table('http://demog.berkeley.edu/~redwards/Courses/LS88/c07_smokeweight.csv')\n",
    "smokeweight"
   ]
  },
  {
   "cell_type": "markdown",
   "metadata": {
    "collapsed": false
   },
   "source": [
    "It turns out that to reveal the average weights in wave 8 of smokers and nonsmokers in these data, we can just run OLS on this equation:\n",
    "\n",
    "$$ r8weight = \\alpha + \\beta^s \\ r8smoken + \\epsilon\n",
    "$$\n",
    "\n",
    "The estimate of $\\alpha$ is the average weight among nonsmokers, for whom $r8smoken$ is zero. And the estimate of $\\beta^s$ is the additional average weight among smokers."
   ]
  },
  {
   "cell_type": "markdown",
   "metadata": {},
   "source": [
    "Here is how we originally proceeded, by using `.where()`:"
   ]
  },
  {
   "cell_type": "code",
   "execution_count": 31,
   "metadata": {
    "collapsed": true
   },
   "outputs": [],
   "source": [
    "#Filter the table; only include rows where r8smoken==1. These are current smokers in wave 8\n",
    "smoker8 = smokeweight.where('r8smoken',1)\n",
    "nonsmoker8 = smokeweight.where('r8smoken',0)"
   ]
  },
  {
   "cell_type": "code",
   "execution_count": 32,
   "metadata": {
    "collapsed": false
   },
   "outputs": [
    {
     "data": {
      "text/plain": [
       "76.134530202520253"
      ]
     },
     "execution_count": 32,
     "metadata": {},
     "output_type": "execute_result"
    }
   ],
   "source": [
    "smoker8['r8weight'].mean()"
   ]
  },
  {
   "cell_type": "code",
   "execution_count": 33,
   "metadata": {
    "collapsed": false
   },
   "outputs": [
    {
     "data": {
      "text/plain": [
       "79.945557732115674"
      ]
     },
     "execution_count": 33,
     "metadata": {},
     "output_type": "execute_result"
    }
   ],
   "source": [
    "nonsmoker8['r8weight'].mean()"
   ]
  },
  {
   "cell_type": "code",
   "execution_count": 37,
   "metadata": {
    "collapsed": false
   },
   "outputs": [
    {
     "data": {
      "text/plain": [
       "-3.811027529595421"
      ]
     },
     "execution_count": 37,
     "metadata": {},
     "output_type": "execute_result"
    }
   ],
   "source": [
    "smoker8['r8weight'].mean() - nonsmoker8['r8weight'].mean() "
   ]
  },
  {
   "cell_type": "markdown",
   "metadata": {},
   "source": [
    "Now let's run OLS instead, after we switch data types:"
   ]
  },
  {
   "cell_type": "code",
   "execution_count": 35,
   "metadata": {
    "collapsed": false
   },
   "outputs": [
    {
     "data": {
      "text/plain": [
       "pandas.core.frame.DataFrame"
      ]
     },
     "execution_count": 35,
     "metadata": {},
     "output_type": "execute_result"
    }
   ],
   "source": [
    "dfsmokeweight = smokeweight.to_df()\n",
    "type(dfsmokeweight)"
   ]
  },
  {
   "cell_type": "code",
   "execution_count": 40,
   "metadata": {
    "collapsed": false
   },
   "outputs": [
    {
     "data": {
      "text/html": [
       "<table class=\"simpletable\">\n",
       "<caption>OLS Regression Results</caption>\n",
       "<tr>\n",
       "  <th>Dep. Variable:</th>        <td>r8weight</td>     <th>  R-squared:         </th> <td>   0.005</td> \n",
       "</tr>\n",
       "<tr>\n",
       "  <th>Model:</th>                   <td>OLS</td>       <th>  Adj. R-squared:    </th> <td>   0.005</td> \n",
       "</tr>\n",
       "<tr>\n",
       "  <th>Method:</th>             <td>Least Squares</td>  <th>  F-statistic:       </th> <td>   80.70</td> \n",
       "</tr>\n",
       "<tr>\n",
       "  <th>Date:</th>             <td>Fri, 08 Apr 2016</td> <th>  Prob (F-statistic):</th> <td>2.91e-19</td> \n",
       "</tr>\n",
       "<tr>\n",
       "  <th>Time:</th>                 <td>15:34:31</td>     <th>  Log-Likelihood:    </th> <td> -69519.</td> \n",
       "</tr>\n",
       "<tr>\n",
       "  <th>No. Observations:</th>      <td> 16019</td>      <th>  AIC:               </th> <td>1.390e+05</td>\n",
       "</tr>\n",
       "<tr>\n",
       "  <th>Df Residuals:</th>          <td> 16017</td>      <th>  BIC:               </th> <td>1.391e+05</td>\n",
       "</tr>\n",
       "<tr>\n",
       "  <th>Df Model:</th>              <td>     1</td>      <th>                     </th>     <td> </td>    \n",
       "</tr>\n",
       "<tr>\n",
       "  <th>Covariance Type:</th>      <td>nonrobust</td>    <th>                     </th>     <td> </td>    \n",
       "</tr>\n",
       "</table>\n",
       "<table class=\"simpletable\">\n",
       "<tr>\n",
       "      <td></td>        <th>coef</th>     <th>std err</th>      <th>t</th>      <th>P>|t|</th> <th>[95.0% Conf. Int.]</th> \n",
       "</tr>\n",
       "<tr>\n",
       "  <th>ones</th>     <td>   79.9456</td> <td>    0.158</td> <td>  505.996</td> <td> 0.000</td> <td>   79.636    80.255</td>\n",
       "</tr>\n",
       "<tr>\n",
       "  <th>r8smoken</th> <td>   -3.8110</td> <td>    0.424</td> <td>   -8.984</td> <td> 0.000</td> <td>   -4.643    -2.980</td>\n",
       "</tr>\n",
       "</table>\n",
       "<table class=\"simpletable\">\n",
       "<tr>\n",
       "  <th>Omnibus:</th>       <td>1821.665</td> <th>  Durbin-Watson:     </th> <td>   1.832</td>\n",
       "</tr>\n",
       "<tr>\n",
       "  <th>Prob(Omnibus):</th>  <td> 0.000</td>  <th>  Jarque-Bera (JB):  </th> <td>2939.707</td>\n",
       "</tr>\n",
       "<tr>\n",
       "  <th>Skew:</th>           <td> 0.809</td>  <th>  Prob(JB):          </th> <td>    0.00</td>\n",
       "</tr>\n",
       "<tr>\n",
       "  <th>Kurtosis:</th>       <td> 4.337</td>  <th>  Cond. No.          </th> <td>    2.96</td>\n",
       "</tr>\n",
       "</table>"
      ],
      "text/plain": [
       "<class 'statsmodels.iolib.summary.Summary'>\n",
       "\"\"\"\n",
       "                            OLS Regression Results                            \n",
       "==============================================================================\n",
       "Dep. Variable:               r8weight   R-squared:                       0.005\n",
       "Model:                            OLS   Adj. R-squared:                  0.005\n",
       "Method:                 Least Squares   F-statistic:                     80.70\n",
       "Date:                Fri, 08 Apr 2016   Prob (F-statistic):           2.91e-19\n",
       "Time:                        15:34:31   Log-Likelihood:                -69519.\n",
       "No. Observations:               16019   AIC:                         1.390e+05\n",
       "Df Residuals:                   16017   BIC:                         1.391e+05\n",
       "Df Model:                           1                                         \n",
       "Covariance Type:            nonrobust                                         \n",
       "==============================================================================\n",
       "                 coef    std err          t      P>|t|      [95.0% Conf. Int.]\n",
       "------------------------------------------------------------------------------\n",
       "ones          79.9456      0.158    505.996      0.000        79.636    80.255\n",
       "r8smoken      -3.8110      0.424     -8.984      0.000        -4.643    -2.980\n",
       "==============================================================================\n",
       "Omnibus:                     1821.665   Durbin-Watson:                   1.832\n",
       "Prob(Omnibus):                  0.000   Jarque-Bera (JB):             2939.707\n",
       "Skew:                           0.809   Prob(JB):                         0.00\n",
       "Kurtosis:                       4.337   Cond. No.                         2.96\n",
       "==============================================================================\n",
       "\n",
       "Warnings:\n",
       "[1] Standard Errors assume that the covariance matrix of the errors is correctly specified.\n",
       "\"\"\""
      ]
     },
     "execution_count": 40,
     "metadata": {},
     "output_type": "execute_result"
    }
   ],
   "source": [
    "# Our x variable is our dichotmous indicator of being a smoker in wage 8\n",
    "# And our y variable is weight in wave 8\n",
    "x = dfsmokeweight[['ones','r8smoken']]\n",
    "y = dfsmokeweight['r8weight']\n",
    "multiple_regress = sm.OLS(y, x).fit()\n",
    "multiple_regress.summary()"
   ]
  },
  {
   "cell_type": "markdown",
   "metadata": {},
   "source": [
    "<font color = \"magenta\">Isn't this just kind of awesome?</font> The magic of OLS is that it's all about averages. The $\\alpha$ coefficient is the average $Y$ that the \"baseline\" group gets. When $X$ is dichotomous, then $\\beta$ is just the average difference between groups defined by that dichotomous indicator."
   ]
  },
  {
   "cell_type": "markdown",
   "metadata": {},
   "source": [
    "<h2>WWII vets</h2>\n",
    "\n",
    "On to our main activity! Let's look at male veterans of WWII and compare them to nonveterans in the 1980 Census.\n",
    "\n",
    "These data measure characteristics in 1980 of males born in Q3 or Q4 of 1924, 1926, or 1928. The source is the public-use 5% microsample of the 1980 Census, via <a href=\"http://usa.ipums.org\">IPUMS</a>. \n",
    "<ul>\n",
    "<li> <b>birthyr</b> = year of birth \n",
    "<li> <b>birthqtr</b> = quarter of birth \n",
    "<li> <b>vetwwii</b> = 0/1 veteran of WWII era \n",
    "<li> <b>incwage</b> = wage and salary income in nominal dollars, topcoded at 75,000 \n",
    "<li> <b>disabwrk1</b> = dichotomous 0/1 measure of whether any disability limits work \n",
    "<li> <b>disabwrk2</b> = trichotomous 0/1/2 measure of whether disability doesn't (0), limits (1), or prevents (2) work\n",
    "<li> <b>ones</b> = vector of 1's, useful for OLS\n",
    "<li> <b>born192x</b> = dichotomous indicator variables of being born in 1924, 1926, or 1928\n",
    "</ul>"
   ]
  },
  {
   "cell_type": "code",
   "execution_count": 42,
   "metadata": {
    "collapsed": false
   },
   "outputs": [
    {
     "data": {
      "text/html": [
       "<table border=\"1\" class=\"dataframe\">\n",
       "    <thead>\n",
       "        <tr>\n",
       "            <th>serial</th> <th>pernum</th> <th>birthyr</th> <th>incwage</th> <th>vetwwii</th> <th>birthqtr</th> <th>disabwrk2</th> <th>disabwrk1</th> <th>ones</th> <th>born1924</th> <th>born1926</th> <th>born1928</th>\n",
       "        </tr>\n",
       "    </thead>\n",
       "    <tbody>\n",
       "        <tr>\n",
       "            <td>223   </td> <td>1     </td> <td>1924   </td> <td>35005  </td> <td>1      </td> <td>4       </td> <td>0        </td> <td>0        </td> <td>1   </td> <td>1       </td> <td>0       </td> <td>0       </td>\n",
       "        </tr>\n",
       "    </tbody>\n",
       "        <tr>\n",
       "            <td>272   </td> <td>1     </td> <td>1926   </td> <td>54005  </td> <td>1      </td> <td>3       </td> <td>0        </td> <td>0        </td> <td>1   </td> <td>0       </td> <td>1       </td> <td>0       </td>\n",
       "        </tr>\n",
       "    </tbody>\n",
       "        <tr>\n",
       "            <td>291   </td> <td>1     </td> <td>1926   </td> <td>18005  </td> <td>1      </td> <td>4       </td> <td>0        </td> <td>0        </td> <td>1   </td> <td>0       </td> <td>1       </td> <td>0       </td>\n",
       "        </tr>\n",
       "    </tbody>\n",
       "        <tr>\n",
       "            <td>327   </td> <td>1     </td> <td>1928   </td> <td>26005  </td> <td>0      </td> <td>4       </td> <td>0        </td> <td>0        </td> <td>1   </td> <td>0       </td> <td>0       </td> <td>1       </td>\n",
       "        </tr>\n",
       "    </tbody>\n",
       "        <tr>\n",
       "            <td>422   </td> <td>1     </td> <td>1928   </td> <td>72005  </td> <td>1      </td> <td>4       </td> <td>0        </td> <td>0        </td> <td>1   </td> <td>0       </td> <td>0       </td> <td>1       </td>\n",
       "        </tr>\n",
       "    </tbody>\n",
       "        <tr>\n",
       "            <td>468   </td> <td>1     </td> <td>1928   </td> <td>45005  </td> <td>0      </td> <td>4       </td> <td>0        </td> <td>0        </td> <td>1   </td> <td>0       </td> <td>0       </td> <td>1       </td>\n",
       "        </tr>\n",
       "    </tbody>\n",
       "        <tr>\n",
       "            <td>625   </td> <td>1     </td> <td>1928   </td> <td>19005  </td> <td>0      </td> <td>4       </td> <td>0        </td> <td>0        </td> <td>1   </td> <td>0       </td> <td>0       </td> <td>1       </td>\n",
       "        </tr>\n",
       "    </tbody>\n",
       "        <tr>\n",
       "            <td>694   </td> <td>1     </td> <td>1928   </td> <td>35005  </td> <td>0      </td> <td>3       </td> <td>1        </td> <td>1        </td> <td>1   </td> <td>0       </td> <td>0       </td> <td>1       </td>\n",
       "        </tr>\n",
       "    </tbody>\n",
       "        <tr>\n",
       "            <td>913   </td> <td>1     </td> <td>1928   </td> <td>12005  </td> <td>0      </td> <td>3       </td> <td>0        </td> <td>0        </td> <td>1   </td> <td>0       </td> <td>0       </td> <td>1       </td>\n",
       "        </tr>\n",
       "    </tbody>\n",
       "        <tr>\n",
       "            <td>1126  </td> <td>1     </td> <td>1924   </td> <td>0      </td> <td>1      </td> <td>3       </td> <td>2        </td> <td>1        </td> <td>1   </td> <td>1       </td> <td>0       </td> <td>0       </td>\n",
       "        </tr>\n",
       "    </tbody>\n",
       "</table>\n",
       "<p>... (83485 rows omitted)</p"
      ],
      "text/plain": [
       "serial | pernum | birthyr | incwage | vetwwii | birthqtr | disabwrk2 | disabwrk1 | ones | born1924 | born1926 | born1928\n",
       "223    | 1      | 1924    | 35005   | 1       | 4        | 0         | 0         | 1    | 1        | 0        | 0\n",
       "272    | 1      | 1926    | 54005   | 1       | 3        | 0         | 0         | 1    | 0        | 1        | 0\n",
       "291    | 1      | 1926    | 18005   | 1       | 4        | 0         | 0         | 1    | 0        | 1        | 0\n",
       "327    | 1      | 1928    | 26005   | 0       | 4        | 0         | 0         | 1    | 0        | 0        | 1\n",
       "422    | 1      | 1928    | 72005   | 1       | 4        | 0         | 0         | 1    | 0        | 0        | 1\n",
       "468    | 1      | 1928    | 45005   | 0       | 4        | 0         | 0         | 1    | 0        | 0        | 1\n",
       "625    | 1      | 1928    | 19005   | 0       | 4        | 0         | 0         | 1    | 0        | 0        | 1\n",
       "694    | 1      | 1928    | 35005   | 0       | 3        | 1         | 1         | 1    | 0        | 0        | 1\n",
       "913    | 1      | 1928    | 12005   | 0       | 3        | 0         | 0         | 1    | 0        | 0        | 1\n",
       "1126   | 1      | 1924    | 0       | 1       | 3        | 2         | 1         | 1    | 1        | 0        | 0\n",
       "... (83485 rows omitted)"
      ]
     },
     "execution_count": 42,
     "metadata": {},
     "output_type": "execute_result"
    }
   ],
   "source": [
    "TableWWII = Table.read_table(\"http://demog.berkeley.edu/~redwards/Courses/LS88/c10_wwii.csv\")\n",
    "TableWWII"
   ]
  },
  {
   "cell_type": "markdown",
   "metadata": {},
   "source": [
    "Let's run ordinary least squares. As usual, let's switch data structures so we can use pandas. Below, the `.to_df()` method generates a Pandas dataframe containing the same data as the table."
   ]
  },
  {
   "cell_type": "code",
   "execution_count": 43,
   "metadata": {
    "collapsed": false
   },
   "outputs": [
    {
     "data": {
      "text/plain": [
       "pandas.core.frame.DataFrame"
      ]
     },
     "execution_count": 43,
     "metadata": {},
     "output_type": "execute_result"
    }
   ],
   "source": [
    "WWII = TableWWII.to_df()\n",
    "type(WWII)"
   ]
  },
  {
   "cell_type": "markdown",
   "metadata": {},
   "source": [
    "First let's estimate this model using OLS:\n",
    "\n",
    "$$ Y_i = \\alpha + \\beta_1 X_i + \\epsilon_i \n",
    "$$\n",
    "\n",
    "In words: we are positing that veteran status ($X$) raises earnings ($Y$) by $\\beta_1$. We aren't controlling for other characteristics like ability ($Z$) that are also positively correlated with $Y$, so this estimation is likely to produce an estimate of $\\beta_1$ that is biased upward because of omitted variable bias."
   ]
  },
  {
   "cell_type": "code",
   "execution_count": 16,
   "metadata": {
    "collapsed": false
   },
   "outputs": [
    {
     "data": {
      "text/html": [
       "<table class=\"simpletable\">\n",
       "<caption>OLS Regression Results</caption>\n",
       "<tr>\n",
       "  <th>Dep. Variable:</th>         <td>incwage</td>     <th>  R-squared:         </th>  <td>   0.010</td>  \n",
       "</tr>\n",
       "<tr>\n",
       "  <th>Model:</th>                   <td>OLS</td>       <th>  Adj. R-squared:    </th>  <td>   0.010</td>  \n",
       "</tr>\n",
       "<tr>\n",
       "  <th>Method:</th>             <td>Least Squares</td>  <th>  F-statistic:       </th>  <td>   855.1</td>  \n",
       "</tr>\n",
       "<tr>\n",
       "  <th>Date:</th>             <td>Fri, 08 Apr 2016</td> <th>  Prob (F-statistic):</th>  <td>5.13e-187</td> \n",
       "</tr>\n",
       "<tr>\n",
       "  <th>Time:</th>                 <td>14:56:53</td>     <th>  Log-Likelihood:    </th> <td>-9.1730e+05</td>\n",
       "</tr>\n",
       "<tr>\n",
       "  <th>No. Observations:</th>      <td> 83495</td>      <th>  AIC:               </th>  <td>1.835e+06</td> \n",
       "</tr>\n",
       "<tr>\n",
       "  <th>Df Residuals:</th>          <td> 83493</td>      <th>  BIC:               </th>  <td>1.835e+06</td> \n",
       "</tr>\n",
       "<tr>\n",
       "  <th>Df Model:</th>              <td>     1</td>      <th>                     </th>      <td> </td>     \n",
       "</tr>\n",
       "<tr>\n",
       "  <th>Covariance Type:</th>      <td>nonrobust</td>    <th>                     </th>      <td> </td>     \n",
       "</tr>\n",
       "</table>\n",
       "<table class=\"simpletable\">\n",
       "<tr>\n",
       "     <td></td>        <th>coef</th>     <th>std err</th>      <th>t</th>      <th>P>|t|</th> <th>[95.0% Conf. Int.]</th> \n",
       "</tr>\n",
       "<tr>\n",
       "  <th>ones</th>    <td> 1.462e+04</td> <td>   72.619</td> <td>  201.271</td> <td> 0.000</td> <td> 1.45e+04  1.48e+04</td>\n",
       "</tr>\n",
       "<tr>\n",
       "  <th>vetwwii</th> <td> 2899.9177</td> <td>   99.172</td> <td>   29.241</td> <td> 0.000</td> <td> 2705.541  3094.294</td>\n",
       "</tr>\n",
       "</table>\n",
       "<table class=\"simpletable\">\n",
       "<tr>\n",
       "  <th>Omnibus:</th>       <td>20860.120</td> <th>  Durbin-Watson:     </th> <td>   1.770</td> \n",
       "</tr>\n",
       "<tr>\n",
       "  <th>Prob(Omnibus):</th>  <td> 0.000</td>   <th>  Jarque-Bera (JB):  </th> <td>56564.368</td>\n",
       "</tr>\n",
       "<tr>\n",
       "  <th>Skew:</th>           <td> 1.338</td>   <th>  Prob(JB):          </th> <td>    0.00</td> \n",
       "</tr>\n",
       "<tr>\n",
       "  <th>Kurtosis:</th>       <td> 6.017</td>   <th>  Cond. No.          </th> <td>    2.71</td> \n",
       "</tr>\n",
       "</table>"
      ],
      "text/plain": [
       "<class 'statsmodels.iolib.summary.Summary'>\n",
       "\"\"\"\n",
       "                            OLS Regression Results                            \n",
       "==============================================================================\n",
       "Dep. Variable:                incwage   R-squared:                       0.010\n",
       "Model:                            OLS   Adj. R-squared:                  0.010\n",
       "Method:                 Least Squares   F-statistic:                     855.1\n",
       "Date:                Fri, 08 Apr 2016   Prob (F-statistic):          5.13e-187\n",
       "Time:                        14:56:53   Log-Likelihood:            -9.1730e+05\n",
       "No. Observations:               83495   AIC:                         1.835e+06\n",
       "Df Residuals:                   83493   BIC:                         1.835e+06\n",
       "Df Model:                           1                                         \n",
       "Covariance Type:            nonrobust                                         \n",
       "==============================================================================\n",
       "                 coef    std err          t      P>|t|      [95.0% Conf. Int.]\n",
       "------------------------------------------------------------------------------\n",
       "ones        1.462e+04     72.619    201.271      0.000      1.45e+04  1.48e+04\n",
       "vetwwii     2899.9177     99.172     29.241      0.000      2705.541  3094.294\n",
       "==============================================================================\n",
       "Omnibus:                    20860.120   Durbin-Watson:                   1.770\n",
       "Prob(Omnibus):                  0.000   Jarque-Bera (JB):            56564.368\n",
       "Skew:                           1.338   Prob(JB):                         0.00\n",
       "Kurtosis:                       6.017   Cond. No.                         2.71\n",
       "==============================================================================\n",
       "\n",
       "Warnings:\n",
       "[1] Standard Errors assume that the covariance matrix of the errors is correctly specified.\n",
       "\"\"\""
      ]
     },
     "execution_count": 16,
     "metadata": {},
     "output_type": "execute_result"
    }
   ],
   "source": [
    "# Our x variable is our dichotmous indicator of being a WWII veteran\n",
    "# And our y variable is wage and salary income\n",
    "x = WWII[['ones','vetwwii']]\n",
    "y = WWII['incwage']\n",
    "multiple_regress = sm.OLS(y, x).fit()\n",
    "multiple_regress.summary()"
   ]
  },
  {
   "cell_type": "markdown",
   "metadata": {},
   "source": [
    "Recall we have estimated this model:\n",
    "\n",
    "$$ Y_i = \\alpha + \\beta_1 X_i + \\epsilon_i \n",
    "$$\n",
    "&nbsp;\n",
    "\n",
    "<font color = \"blue\">Discuss what you see. Is the R-squared high or low?  Is the $\\beta_1$ coefficient statistically significantly different from zero? In words: what does $\\alpha$ mean (it is the coefficient on <b>ones</b>); and what does the $\\beta_1$ coefficient mean? </font>"
   ]
  },
  {
   "cell_type": "markdown",
   "metadata": {},
   "source": []
  },
  {
   "cell_type": "markdown",
   "metadata": {
    "collapsed": true
   },
   "source": [
    "<h3>Many groups, not just 2</h3>\n",
    "\n",
    "Consider the comparison that Small and Rosenbaum (2008) drew.  They compared earnings across three groups, all men born either in quarter 3 or 4, defined by the birth year 1924, 1926, or 1928.\n",
    "\n",
    "The main motivation is that men born in 1928 during Q3 or Q4 were not yet 17 years old by the end of WWII in August of 1945. There still are some men in this group who stated that they were WWII veterans, which they could have been if they misrepresented their age when enlisting. (And they might be recalling incorrectly, or not understanding the question.) But overall, the proportion of men in this 1928 \"half\" birth cohort who served in WWII is low relative to the other two groups in the dataset."
   ]
  },
  {
   "cell_type": "markdown",
   "metadata": {},
   "source": [
    "First off, is there an easy way to see the average WWII veteran shares in these groups? Yes! We could select subsets with `.where()` or we can run either of these two OLS models:\n",
    "\n",
    "$$vetwwii = \\ \\ \\ \\ \\ \\ \\ \\ \\ \\ \\alpha   \\ \\ \\ \\ \\ \\ \\ \\ \\ \\ \\ \\ + \\beta^{1926} born1926 + \\beta^{1928} born1928 + \\epsilon \n",
    "$$\n",
    "\n",
    "$$vetwwii =  \\beta^{1924} born1924 + \\beta^{1926} born1926 + \\beta^{1928} born1928 + \\nu \n",
    "$$\n",
    "\n",
    "The difference is that the top regression includes a constant term (via <b>ones</b>) and the bottom does not.  The average WWII veteran share by birth cohort is easier to see when you estimate the bottom regression, without a constant term; you don't have to add the coefficients together, you just look at the single coefficient on the indicator of interest.\n",
    "\n",
    "Let's do it both ways.  Here's the top equation:"
   ]
  },
  {
   "cell_type": "code",
   "execution_count": 44,
   "metadata": {
    "collapsed": false
   },
   "outputs": [
    {
     "data": {
      "text/html": [
       "<table class=\"simpletable\">\n",
       "<caption>OLS Regression Results</caption>\n",
       "<tr>\n",
       "  <th>Dep. Variable:</th>         <td>vetwwii</td>     <th>  R-squared:         </th> <td>   0.195</td> \n",
       "</tr>\n",
       "<tr>\n",
       "  <th>Model:</th>                   <td>OLS</td>       <th>  Adj. R-squared:    </th> <td>   0.195</td> \n",
       "</tr>\n",
       "<tr>\n",
       "  <th>Method:</th>             <td>Least Squares</td>  <th>  F-statistic:       </th> <td>1.013e+04</td>\n",
       "</tr>\n",
       "<tr>\n",
       "  <th>Date:</th>             <td>Fri, 08 Apr 2016</td> <th>  Prob (F-statistic):</th>  <td>  0.00</td>  \n",
       "</tr>\n",
       "<tr>\n",
       "  <th>Time:</th>                 <td>16:46:55</td>     <th>  Log-Likelihood:    </th> <td> -51308.</td> \n",
       "</tr>\n",
       "<tr>\n",
       "  <th>No. Observations:</th>      <td> 83495</td>      <th>  AIC:               </th> <td>1.026e+05</td>\n",
       "</tr>\n",
       "<tr>\n",
       "  <th>Df Residuals:</th>          <td> 83492</td>      <th>  BIC:               </th> <td>1.026e+05</td>\n",
       "</tr>\n",
       "<tr>\n",
       "  <th>Df Model:</th>              <td>     2</td>      <th>                     </th>     <td> </td>    \n",
       "</tr>\n",
       "<tr>\n",
       "  <th>Covariance Type:</th>      <td>nonrobust</td>    <th>                     </th>     <td> </td>    \n",
       "</tr>\n",
       "</table>\n",
       "<table class=\"simpletable\">\n",
       "<tr>\n",
       "      <td></td>        <th>coef</th>     <th>std err</th>      <th>t</th>      <th>P>|t|</th> <th>[95.0% Conf. Int.]</th> \n",
       "</tr>\n",
       "<tr>\n",
       "  <th>ones</th>     <td>    0.7046</td> <td>    0.003</td> <td>  264.316</td> <td> 0.000</td> <td>    0.699     0.710</td>\n",
       "</tr>\n",
       "<tr>\n",
       "  <th>born1926</th> <td>   -0.0275</td> <td>    0.004</td> <td>   -7.268</td> <td> 0.000</td> <td>   -0.035    -0.020</td>\n",
       "</tr>\n",
       "<tr>\n",
       "  <th>born1928</th> <td>   -0.4815</td> <td>    0.004</td> <td> -127.095</td> <td> 0.000</td> <td>   -0.489    -0.474</td>\n",
       "</tr>\n",
       "</table>\n",
       "<table class=\"simpletable\">\n",
       "<tr>\n",
       "  <th>Omnibus:</th>       <td>23606.376</td> <th>  Durbin-Watson:     </th> <td>   1.945</td>\n",
       "</tr>\n",
       "<tr>\n",
       "  <th>Prob(Omnibus):</th>  <td> 0.000</td>   <th>  Jarque-Bera (JB):  </th> <td>4590.046</td>\n",
       "</tr>\n",
       "<tr>\n",
       "  <th>Skew:</th>           <td>-0.253</td>   <th>  Prob(JB):          </th> <td>    0.00</td>\n",
       "</tr>\n",
       "<tr>\n",
       "  <th>Kurtosis:</th>       <td> 1.969</td>   <th>  Cond. No.          </th> <td>    3.71</td>\n",
       "</tr>\n",
       "</table>"
      ],
      "text/plain": [
       "<class 'statsmodels.iolib.summary.Summary'>\n",
       "\"\"\"\n",
       "                            OLS Regression Results                            \n",
       "==============================================================================\n",
       "Dep. Variable:                vetwwii   R-squared:                       0.195\n",
       "Model:                            OLS   Adj. R-squared:                  0.195\n",
       "Method:                 Least Squares   F-statistic:                 1.013e+04\n",
       "Date:                Fri, 08 Apr 2016   Prob (F-statistic):               0.00\n",
       "Time:                        16:46:55   Log-Likelihood:                -51308.\n",
       "No. Observations:               83495   AIC:                         1.026e+05\n",
       "Df Residuals:                   83492   BIC:                         1.026e+05\n",
       "Df Model:                           2                                         \n",
       "Covariance Type:            nonrobust                                         \n",
       "==============================================================================\n",
       "                 coef    std err          t      P>|t|      [95.0% Conf. Int.]\n",
       "------------------------------------------------------------------------------\n",
       "ones           0.7046      0.003    264.316      0.000         0.699     0.710\n",
       "born1926      -0.0275      0.004     -7.268      0.000        -0.035    -0.020\n",
       "born1928      -0.4815      0.004   -127.095      0.000        -0.489    -0.474\n",
       "==============================================================================\n",
       "Omnibus:                    23606.376   Durbin-Watson:                   1.945\n",
       "Prob(Omnibus):                  0.000   Jarque-Bera (JB):             4590.046\n",
       "Skew:                          -0.253   Prob(JB):                         0.00\n",
       "Kurtosis:                       1.969   Cond. No.                         3.71\n",
       "==============================================================================\n",
       "\n",
       "Warnings:\n",
       "[1] Standard Errors assume that the covariance matrix of the errors is correctly specified.\n",
       "\"\"\""
      ]
     },
     "execution_count": 44,
     "metadata": {},
     "output_type": "execute_result"
    }
   ],
   "source": [
    "x = WWII[['ones','born1926','born1928']]\n",
    "y = WWII['vetwwii']\n",
    "multiple_regress = sm.OLS(y, x).fit()\n",
    "multiple_regress.summary()"
   ]
  },
  {
   "cell_type": "markdown",
   "metadata": {},
   "source": [
    "And here's the bottom equation. Note the omission of <b>ones</b>."
   ]
  },
  {
   "cell_type": "code",
   "execution_count": 51,
   "metadata": {
    "collapsed": false
   },
   "outputs": [
    {
     "data": {
      "text/html": [
       "<table class=\"simpletable\">\n",
       "<caption>OLS Regression Results</caption>\n",
       "<tr>\n",
       "  <th>Dep. Variable:</th>         <td>vetwwii</td>     <th>  R-squared:         </th> <td>   0.195</td> \n",
       "</tr>\n",
       "<tr>\n",
       "  <th>Model:</th>                   <td>OLS</td>       <th>  Adj. R-squared:    </th> <td>   0.195</td> \n",
       "</tr>\n",
       "<tr>\n",
       "  <th>Method:</th>             <td>Least Squares</td>  <th>  F-statistic:       </th> <td>1.013e+04</td>\n",
       "</tr>\n",
       "<tr>\n",
       "  <th>Date:</th>             <td>Fri, 08 Apr 2016</td> <th>  Prob (F-statistic):</th>  <td>  0.00</td>  \n",
       "</tr>\n",
       "<tr>\n",
       "  <th>Time:</th>                 <td>20:30:23</td>     <th>  Log-Likelihood:    </th> <td> -51308.</td> \n",
       "</tr>\n",
       "<tr>\n",
       "  <th>No. Observations:</th>      <td> 83495</td>      <th>  AIC:               </th> <td>1.026e+05</td>\n",
       "</tr>\n",
       "<tr>\n",
       "  <th>Df Residuals:</th>          <td> 83492</td>      <th>  BIC:               </th> <td>1.026e+05</td>\n",
       "</tr>\n",
       "<tr>\n",
       "  <th>Df Model:</th>              <td>     2</td>      <th>                     </th>     <td> </td>    \n",
       "</tr>\n",
       "<tr>\n",
       "  <th>Covariance Type:</th>      <td>nonrobust</td>    <th>                     </th>     <td> </td>    \n",
       "</tr>\n",
       "</table>\n",
       "<table class=\"simpletable\">\n",
       "<tr>\n",
       "      <td></td>        <th>coef</th>     <th>std err</th>      <th>t</th>      <th>P>|t|</th> <th>[95.0% Conf. Int.]</th> \n",
       "</tr>\n",
       "<tr>\n",
       "  <th>born1924</th> <td>    0.7046</td> <td>    0.003</td> <td>  264.316</td> <td> 0.000</td> <td>    0.699     0.710</td>\n",
       "</tr>\n",
       "<tr>\n",
       "  <th>born1926</th> <td>    0.6771</td> <td>    0.003</td> <td>  251.982</td> <td> 0.000</td> <td>    0.672     0.682</td>\n",
       "</tr>\n",
       "<tr>\n",
       "  <th>born1928</th> <td>    0.2231</td> <td>    0.003</td> <td>   82.865</td> <td> 0.000</td> <td>    0.218     0.228</td>\n",
       "</tr>\n",
       "</table>\n",
       "<table class=\"simpletable\">\n",
       "<tr>\n",
       "  <th>Omnibus:</th>       <td>23606.376</td> <th>  Durbin-Watson:     </th> <td>   1.945</td>\n",
       "</tr>\n",
       "<tr>\n",
       "  <th>Prob(Omnibus):</th>  <td> 0.000</td>   <th>  Jarque-Bera (JB):  </th> <td>4590.046</td>\n",
       "</tr>\n",
       "<tr>\n",
       "  <th>Skew:</th>           <td>-0.253</td>   <th>  Prob(JB):          </th> <td>    0.00</td>\n",
       "</tr>\n",
       "<tr>\n",
       "  <th>Kurtosis:</th>       <td> 1.969</td>   <th>  Cond. No.          </th> <td>    1.01</td>\n",
       "</tr>\n",
       "</table>"
      ],
      "text/plain": [
       "<class 'statsmodels.iolib.summary.Summary'>\n",
       "\"\"\"\n",
       "                            OLS Regression Results                            \n",
       "==============================================================================\n",
       "Dep. Variable:                vetwwii   R-squared:                       0.195\n",
       "Model:                            OLS   Adj. R-squared:                  0.195\n",
       "Method:                 Least Squares   F-statistic:                 1.013e+04\n",
       "Date:                Fri, 08 Apr 2016   Prob (F-statistic):               0.00\n",
       "Time:                        20:30:23   Log-Likelihood:                -51308.\n",
       "No. Observations:               83495   AIC:                         1.026e+05\n",
       "Df Residuals:                   83492   BIC:                         1.026e+05\n",
       "Df Model:                           2                                         \n",
       "Covariance Type:            nonrobust                                         \n",
       "==============================================================================\n",
       "                 coef    std err          t      P>|t|      [95.0% Conf. Int.]\n",
       "------------------------------------------------------------------------------\n",
       "born1924       0.7046      0.003    264.316      0.000         0.699     0.710\n",
       "born1926       0.6771      0.003    251.982      0.000         0.672     0.682\n",
       "born1928       0.2231      0.003     82.865      0.000         0.218     0.228\n",
       "==============================================================================\n",
       "Omnibus:                    23606.376   Durbin-Watson:                   1.945\n",
       "Prob(Omnibus):                  0.000   Jarque-Bera (JB):             4590.046\n",
       "Skew:                          -0.253   Prob(JB):                         0.00\n",
       "Kurtosis:                       1.969   Cond. No.                         1.01\n",
       "==============================================================================\n",
       "\n",
       "Warnings:\n",
       "[1] Standard Errors assume that the covariance matrix of the errors is correctly specified.\n",
       "\"\"\""
      ]
     },
     "execution_count": 51,
     "metadata": {},
     "output_type": "execute_result"
    }
   ],
   "source": [
    "x = WWII[['born1924','born1926','born1928']]\n",
    "y = WWII['vetwwii']\n",
    "multiple_regress = sm.OLS(y, x).fit()\n",
    "multiple_regress.summary()"
   ]
  },
  {
   "cell_type": "markdown",
   "metadata": {},
   "source": [
    "<font color = \"blue\">State in a sentence or two the shares of these three \"half\" birth cohorts that are WWII veterans.</font>"
   ]
  },
  {
   "cell_type": "markdown",
   "metadata": {},
   "source": []
  },
  {
   "cell_type": "markdown",
   "metadata": {},
   "source": [
    "As we have seen, there are very large differences in the shares of these birth cohorts who participated in WWII.\n",
    "\n",
    "Think back to our OLS results from the simple model of earnings as a function of WWII veteran status:\n",
    "\n",
    "$$Y_i = \\alpha + \\beta_1 X_i + \\epsilon_i\n",
    "$$\n",
    "or with variable names:\n",
    "$$incwage = \\alpha + \\beta_1 vetwwii + \\epsilon\n",
    "$$\n",
    "\n"
   ]
  },
  {
   "cell_type": "markdown",
   "metadata": {},
   "source": [
    "<font color=\"blue\">If the positive OLS estimate of $\\beta_1$ that we found were in fact the true causal effect of WWII veteran status on earnings, and given the results we saw immediately above regarding the WWII veteran shares of these birth cohorts, then what would we expect to see if we compared the earnings of the 1924, 1926, and 1928 birth cohorts? Which should have higher earnings?</font>"
   ]
  },
  {
   "cell_type": "markdown",
   "metadata": {},
   "source": []
  },
  {
   "cell_type": "markdown",
   "metadata": {},
   "source": [
    "Now let's test this hypothesis. Run OLS on this model:\n",
    "\n",
    "$$incwage =  \\alpha + \\beta^{1926} born1926 + \\beta^{1928} born1928 + \\epsilon \n",
    "$$\n",
    "\n",
    "This sets up a handy hypothesis test (or two): $\\beta^{1926} = \\beta^{1928} = 0$, or in words, that the average earnings are the same across each of these half-year birth cohorts. Based on your answer immediately above, we probably have a separate more specific prior about $\\beta^{1928} < 0$ or $\\beta^{1928} > 0$."
   ]
  },
  {
   "cell_type": "code",
   "execution_count": 56,
   "metadata": {
    "collapsed": false
   },
   "outputs": [
    {
     "data": {
      "text/html": [
       "<table class=\"simpletable\">\n",
       "<caption>OLS Regression Results</caption>\n",
       "<tr>\n",
       "  <th>Dep. Variable:</th>         <td>incwage</td>     <th>  R-squared:         </th>  <td>   0.001</td>  \n",
       "</tr>\n",
       "<tr>\n",
       "  <th>Model:</th>                   <td>OLS</td>       <th>  Adj. R-squared:    </th>  <td>   0.001</td>  \n",
       "</tr>\n",
       "<tr>\n",
       "  <th>Method:</th>             <td>Least Squares</td>  <th>  F-statistic:       </th>  <td>   47.29</td>  \n",
       "</tr>\n",
       "<tr>\n",
       "  <th>Date:</th>             <td>Fri, 08 Apr 2016</td> <th>  Prob (F-statistic):</th>  <td>2.98e-21</td>  \n",
       "</tr>\n",
       "<tr>\n",
       "  <th>Time:</th>                 <td>20:41:46</td>     <th>  Log-Likelihood:    </th> <td>-9.1768e+05</td>\n",
       "</tr>\n",
       "<tr>\n",
       "  <th>No. Observations:</th>      <td> 83495</td>      <th>  AIC:               </th>  <td>1.835e+06</td> \n",
       "</tr>\n",
       "<tr>\n",
       "  <th>Df Residuals:</th>          <td> 83492</td>      <th>  BIC:               </th>  <td>1.835e+06</td> \n",
       "</tr>\n",
       "<tr>\n",
       "  <th>Df Model:</th>              <td>     2</td>      <th>                     </th>      <td> </td>     \n",
       "</tr>\n",
       "<tr>\n",
       "  <th>Covariance Type:</th>      <td>nonrobust</td>    <th>                     </th>      <td> </td>     \n",
       "</tr>\n",
       "</table>\n",
       "<table class=\"simpletable\">\n",
       "<tr>\n",
       "      <td></td>        <th>coef</th>     <th>std err</th>      <th>t</th>      <th>P>|t|</th> <th>[95.0% Conf. Int.]</th> \n",
       "</tr>\n",
       "<tr>\n",
       "  <th>ones</th>     <td> 1.561e+04</td> <td>   85.542</td> <td>  182.445</td> <td> 0.000</td> <td> 1.54e+04  1.58e+04</td>\n",
       "</tr>\n",
       "<tr>\n",
       "  <th>born1926</th> <td>  524.4186</td> <td>  121.459</td> <td>    4.318</td> <td> 0.000</td> <td>  286.360   762.477</td>\n",
       "</tr>\n",
       "<tr>\n",
       "  <th>born1928</th> <td> 1180.2966</td> <td>  121.574</td> <td>    9.708</td> <td> 0.000</td> <td>  942.012  1418.581</td>\n",
       "</tr>\n",
       "</table>\n",
       "<table class=\"simpletable\">\n",
       "<tr>\n",
       "  <th>Omnibus:</th>       <td>20648.269</td> <th>  Durbin-Watson:     </th> <td>   1.761</td> \n",
       "</tr>\n",
       "<tr>\n",
       "  <th>Prob(Omnibus):</th>  <td> 0.000</td>   <th>  Jarque-Bera (JB):  </th> <td>54926.276</td>\n",
       "</tr>\n",
       "<tr>\n",
       "  <th>Skew:</th>           <td> 1.332</td>   <th>  Prob(JB):          </th> <td>    0.00</td> \n",
       "</tr>\n",
       "<tr>\n",
       "  <th>Kurtosis:</th>       <td> 5.947</td>   <th>  Cond. No.          </th> <td>    3.71</td> \n",
       "</tr>\n",
       "</table>"
      ],
      "text/plain": [
       "<class 'statsmodels.iolib.summary.Summary'>\n",
       "\"\"\"\n",
       "                            OLS Regression Results                            \n",
       "==============================================================================\n",
       "Dep. Variable:                incwage   R-squared:                       0.001\n",
       "Model:                            OLS   Adj. R-squared:                  0.001\n",
       "Method:                 Least Squares   F-statistic:                     47.29\n",
       "Date:                Fri, 08 Apr 2016   Prob (F-statistic):           2.98e-21\n",
       "Time:                        20:41:46   Log-Likelihood:            -9.1768e+05\n",
       "No. Observations:               83495   AIC:                         1.835e+06\n",
       "Df Residuals:                   83492   BIC:                         1.835e+06\n",
       "Df Model:                           2                                         \n",
       "Covariance Type:            nonrobust                                         \n",
       "==============================================================================\n",
       "                 coef    std err          t      P>|t|      [95.0% Conf. Int.]\n",
       "------------------------------------------------------------------------------\n",
       "ones        1.561e+04     85.542    182.445      0.000      1.54e+04  1.58e+04\n",
       "born1926     524.4186    121.459      4.318      0.000       286.360   762.477\n",
       "born1928    1180.2966    121.574      9.708      0.000       942.012  1418.581\n",
       "==============================================================================\n",
       "Omnibus:                    20648.269   Durbin-Watson:                   1.761\n",
       "Prob(Omnibus):                  0.000   Jarque-Bera (JB):            54926.276\n",
       "Skew:                           1.332   Prob(JB):                         0.00\n",
       "Kurtosis:                       5.947   Cond. No.                         3.71\n",
       "==============================================================================\n",
       "\n",
       "Warnings:\n",
       "[1] Standard Errors assume that the covariance matrix of the errors is correctly specified.\n",
       "\"\"\""
      ]
     },
     "execution_count": 56,
     "metadata": {},
     "output_type": "execute_result"
    }
   ],
   "source": [
    "x = WWII[['ones','born1926','born1928']]\n",
    "y = WWII['incwage']\n",
    "multiple_regress = sm.OLS(y, x).fit()\n",
    "multiple_regress.summary()"
   ]
  },
  {
   "cell_type": "markdown",
   "metadata": {},
   "source": [
    "<font color=\"blue\">Discuss what this hypothesis test reveals. Are you surprised? Is this result consistent with the OLS estimate of $\\beta_1$ from before?</font>"
   ]
  },
  {
   "cell_type": "markdown",
   "metadata": {},
   "source": []
  },
  {
   "cell_type": "markdown",
   "metadata": {},
   "source": [
    "<h2>Do health inequalities follow the same story?</h2>\n",
    "\n",
    "Let's look at health too!  We don't have a ton of health metrics in the 1980 Census, but we do know about disabilities that limit work activity.  Based on the questions in the Census, we have two measures: \n",
    "<ul>\n",
    "<li><b>disabwrk1</b>, a 0/1 dichotomous measure of any disabilities limiting work\n",
    "<li><b>disabwrk2</b>, a 0/1/2 trichotomous measure of no disabilities (0), disabilities limiting work (1), and disabilities preventing work (2)\n",
    "</ul>\n",
    "\n",
    "The story with health in general could be different than with earnings, or it could be the same. High ability typically also correlates with better health. War-related injuries or exposures could reduce health, but we would probably also expect earnings to be hurt as well.  \n",
    "\n",
    "An additional problem here is that the question asks about health only insofar as it impinges work ability, which implies a rather direct connection between these two measures of health and earnings."
   ]
  },
  {
   "cell_type": "markdown",
   "metadata": {},
   "source": [
    "Let's first explore how disability-related work limitation is correlated with earnings. Run this model:\n",
    "\n",
    "$$incwage = \\alpha + \\beta_d \\ disabwrk1 + \\epsilon\n",
    "$$\n"
   ]
  },
  {
   "cell_type": "code",
   "execution_count": 53,
   "metadata": {
    "collapsed": false
   },
   "outputs": [
    {
     "data": {
      "text/html": [
       "<table class=\"simpletable\">\n",
       "<caption>OLS Regression Results</caption>\n",
       "<tr>\n",
       "  <th>Dep. Variable:</th>         <td>incwage</td>     <th>  R-squared:         </th>  <td>   0.090</td>  \n",
       "</tr>\n",
       "<tr>\n",
       "  <th>Model:</th>                   <td>OLS</td>       <th>  Adj. R-squared:    </th>  <td>   0.090</td>  \n",
       "</tr>\n",
       "<tr>\n",
       "  <th>Method:</th>             <td>Least Squares</td>  <th>  F-statistic:       </th>  <td>   8249.</td>  \n",
       "</tr>\n",
       "<tr>\n",
       "  <th>Date:</th>             <td>Fri, 08 Apr 2016</td> <th>  Prob (F-statistic):</th>   <td>  0.00</td>   \n",
       "</tr>\n",
       "<tr>\n",
       "  <th>Time:</th>                 <td>20:30:40</td>     <th>  Log-Likelihood:    </th> <td>-9.1379e+05</td>\n",
       "</tr>\n",
       "<tr>\n",
       "  <th>No. Observations:</th>      <td> 83495</td>      <th>  AIC:               </th>  <td>1.828e+06</td> \n",
       "</tr>\n",
       "<tr>\n",
       "  <th>Df Residuals:</th>          <td> 83493</td>      <th>  BIC:               </th>  <td>1.828e+06</td> \n",
       "</tr>\n",
       "<tr>\n",
       "  <th>Df Model:</th>              <td>     1</td>      <th>                     </th>      <td> </td>     \n",
       "</tr>\n",
       "<tr>\n",
       "  <th>Covariance Type:</th>      <td>nonrobust</td>    <th>                     </th>      <td> </td>     \n",
       "</tr>\n",
       "</table>\n",
       "<table class=\"simpletable\">\n",
       "<tr>\n",
       "      <td></td>         <th>coef</th>     <th>std err</th>      <th>t</th>      <th>P>|t|</th> <th>[95.0% Conf. Int.]</th> \n",
       "</tr>\n",
       "<tr>\n",
       "  <th>ones</th>      <td> 1.804e+04</td> <td>   51.715</td> <td>  348.932</td> <td> 0.000</td> <td> 1.79e+04  1.81e+04</td>\n",
       "</tr>\n",
       "<tr>\n",
       "  <th>disabwrk1</th> <td>-1.177e+04</td> <td>  129.628</td> <td>  -90.824</td> <td> 0.000</td> <td> -1.2e+04 -1.15e+04</td>\n",
       "</tr>\n",
       "</table>\n",
       "<table class=\"simpletable\">\n",
       "<tr>\n",
       "  <th>Omnibus:</th>       <td>22811.093</td> <th>  Durbin-Watson:     </th> <td>   1.790</td> \n",
       "</tr>\n",
       "<tr>\n",
       "  <th>Prob(Omnibus):</th>  <td> 0.000</td>   <th>  Jarque-Bera (JB):  </th> <td>70220.585</td>\n",
       "</tr>\n",
       "<tr>\n",
       "  <th>Skew:</th>           <td> 1.410</td>   <th>  Prob(JB):          </th> <td>    0.00</td> \n",
       "</tr>\n",
       "<tr>\n",
       "  <th>Kurtosis:</th>       <td> 6.498</td>   <th>  Cond. No.          </th> <td>    2.81</td> \n",
       "</tr>\n",
       "</table>"
      ],
      "text/plain": [
       "<class 'statsmodels.iolib.summary.Summary'>\n",
       "\"\"\"\n",
       "                            OLS Regression Results                            \n",
       "==============================================================================\n",
       "Dep. Variable:                incwage   R-squared:                       0.090\n",
       "Model:                            OLS   Adj. R-squared:                  0.090\n",
       "Method:                 Least Squares   F-statistic:                     8249.\n",
       "Date:                Fri, 08 Apr 2016   Prob (F-statistic):               0.00\n",
       "Time:                        20:30:40   Log-Likelihood:            -9.1379e+05\n",
       "No. Observations:               83495   AIC:                         1.828e+06\n",
       "Df Residuals:                   83493   BIC:                         1.828e+06\n",
       "Df Model:                           1                                         \n",
       "Covariance Type:            nonrobust                                         \n",
       "==============================================================================\n",
       "                 coef    std err          t      P>|t|      [95.0% Conf. Int.]\n",
       "------------------------------------------------------------------------------\n",
       "ones        1.804e+04     51.715    348.932      0.000      1.79e+04  1.81e+04\n",
       "disabwrk1  -1.177e+04    129.628    -90.824      0.000      -1.2e+04 -1.15e+04\n",
       "==============================================================================\n",
       "Omnibus:                    22811.093   Durbin-Watson:                   1.790\n",
       "Prob(Omnibus):                  0.000   Jarque-Bera (JB):            70220.585\n",
       "Skew:                           1.410   Prob(JB):                         0.00\n",
       "Kurtosis:                       6.498   Cond. No.                         2.81\n",
       "==============================================================================\n",
       "\n",
       "Warnings:\n",
       "[1] Standard Errors assume that the covariance matrix of the errors is correctly specified.\n",
       "\"\"\""
      ]
     },
     "execution_count": 53,
     "metadata": {},
     "output_type": "execute_result"
    }
   ],
   "source": [
    "x = WWII[['ones','disabwrk1']]\n",
    "y = WWII['incwage']\n",
    "multiple_regress = sm.OLS(y, x).fit()\n",
    "multiple_regress.summary()"
   ]
  },
  {
   "cell_type": "markdown",
   "metadata": {},
   "source": [
    "<font color=\"blue\">Discuss what you see.</font>"
   ]
  },
  {
   "cell_type": "markdown",
   "metadata": {},
   "source": []
  },
  {
   "cell_type": "markdown",
   "metadata": {},
   "source": [
    "Now let's replicate Small and Rosenbaum's (2008) methodology, only modeling <b>disabrwrk1</b> rather than <b>incwage</b>"
   ]
  },
  {
   "cell_type": "markdown",
   "metadata": {},
   "source": [
    "Like before, let's first estimate this model using OLS:\n",
    "\n",
    "$$ disabwrk1 = \\alpha + \\beta^d_1 vetwwii + \\epsilon_i \n",
    "$$\n",
    "\n",
    "In words: we are positing that veteran status ($X$) raises disability ($Y$) by $\\beta^d_1$ (or lowers disability if $\\beta^d_1 < 0$. Like before, other characteristics like ability ($Z$) are probably also positively correlated with $Y$, so this estimation is likely to produce an estimate of $\\beta^d_1$ that is biased upward because of omitted variable bias."
   ]
  },
  {
   "cell_type": "code",
   "execution_count": 60,
   "metadata": {
    "collapsed": false
   },
   "outputs": [
    {
     "data": {
      "text/html": [
       "<table class=\"simpletable\">\n",
       "<caption>OLS Regression Results</caption>\n",
       "<tr>\n",
       "  <th>Dep. Variable:</th>        <td>disabwrk1</td>    <th>  R-squared:         </th> <td>   0.000</td> \n",
       "</tr>\n",
       "<tr>\n",
       "  <th>Model:</th>                   <td>OLS</td>       <th>  Adj. R-squared:    </th> <td>   0.000</td> \n",
       "</tr>\n",
       "<tr>\n",
       "  <th>Method:</th>             <td>Least Squares</td>  <th>  F-statistic:       </th> <td>   8.821</td> \n",
       "</tr>\n",
       "<tr>\n",
       "  <th>Date:</th>             <td>Fri, 08 Apr 2016</td> <th>  Prob (F-statistic):</th>  <td>0.00298</td> \n",
       "</tr>\n",
       "<tr>\n",
       "  <th>Time:</th>                 <td>20:43:52</td>     <th>  Log-Likelihood:    </th> <td> -34507.</td> \n",
       "</tr>\n",
       "<tr>\n",
       "  <th>No. Observations:</th>      <td> 83495</td>      <th>  AIC:               </th> <td>6.902e+04</td>\n",
       "</tr>\n",
       "<tr>\n",
       "  <th>Df Residuals:</th>          <td> 83493</td>      <th>  BIC:               </th> <td>6.904e+04</td>\n",
       "</tr>\n",
       "<tr>\n",
       "  <th>Df Model:</th>              <td>     1</td>      <th>                     </th>     <td> </td>    \n",
       "</tr>\n",
       "<tr>\n",
       "  <th>Covariance Type:</th>      <td>nonrobust</td>    <th>                     </th>     <td> </td>    \n",
       "</tr>\n",
       "</table>\n",
       "<table class=\"simpletable\">\n",
       "<tr>\n",
       "     <td></td>        <th>coef</th>     <th>std err</th>      <th>t</th>      <th>P>|t|</th> <th>[95.0% Conf. Int.]</th> \n",
       "</tr>\n",
       "<tr>\n",
       "  <th>ones</th>    <td>    0.1632</td> <td>    0.002</td> <td>   87.794</td> <td> 0.000</td> <td>    0.160     0.167</td>\n",
       "</tr>\n",
       "<tr>\n",
       "  <th>vetwwii</th> <td>   -0.0075</td> <td>    0.003</td> <td>   -2.970</td> <td> 0.003</td> <td>   -0.013    -0.003</td>\n",
       "</tr>\n",
       "</table>\n",
       "<table class=\"simpletable\">\n",
       "<tr>\n",
       "  <th>Omnibus:</th>       <td>25357.849</td> <th>  Durbin-Watson:     </th> <td>   1.942</td> \n",
       "</tr>\n",
       "<tr>\n",
       "  <th>Prob(Omnibus):</th>  <td> 0.000</td>   <th>  Jarque-Bera (JB):  </th> <td>55842.748</td>\n",
       "</tr>\n",
       "<tr>\n",
       "  <th>Skew:</th>           <td> 1.863</td>   <th>  Prob(JB):          </th> <td>    0.00</td> \n",
       "</tr>\n",
       "<tr>\n",
       "  <th>Kurtosis:</th>       <td> 4.472</td>   <th>  Cond. No.          </th> <td>    2.71</td> \n",
       "</tr>\n",
       "</table>"
      ],
      "text/plain": [
       "<class 'statsmodels.iolib.summary.Summary'>\n",
       "\"\"\"\n",
       "                            OLS Regression Results                            \n",
       "==============================================================================\n",
       "Dep. Variable:              disabwrk1   R-squared:                       0.000\n",
       "Model:                            OLS   Adj. R-squared:                  0.000\n",
       "Method:                 Least Squares   F-statistic:                     8.821\n",
       "Date:                Fri, 08 Apr 2016   Prob (F-statistic):            0.00298\n",
       "Time:                        20:43:52   Log-Likelihood:                -34507.\n",
       "No. Observations:               83495   AIC:                         6.902e+04\n",
       "Df Residuals:                   83493   BIC:                         6.904e+04\n",
       "Df Model:                           1                                         \n",
       "Covariance Type:            nonrobust                                         \n",
       "==============================================================================\n",
       "                 coef    std err          t      P>|t|      [95.0% Conf. Int.]\n",
       "------------------------------------------------------------------------------\n",
       "ones           0.1632      0.002     87.794      0.000         0.160     0.167\n",
       "vetwwii       -0.0075      0.003     -2.970      0.003        -0.013    -0.003\n",
       "==============================================================================\n",
       "Omnibus:                    25357.849   Durbin-Watson:                   1.942\n",
       "Prob(Omnibus):                  0.000   Jarque-Bera (JB):            55842.748\n",
       "Skew:                           1.863   Prob(JB):                         0.00\n",
       "Kurtosis:                       4.472   Cond. No.                         2.71\n",
       "==============================================================================\n",
       "\n",
       "Warnings:\n",
       "[1] Standard Errors assume that the covariance matrix of the errors is correctly specified.\n",
       "\"\"\""
      ]
     },
     "execution_count": 60,
     "metadata": {},
     "output_type": "execute_result"
    }
   ],
   "source": [
    "x = WWII[['ones','vetwwii']]\n",
    "y = WWII['disabwrk1']\n",
    "multiple_regress = sm.OLS(y, x).fit()\n",
    "multiple_regress.summary()"
   ]
  },
  {
   "cell_type": "markdown",
   "metadata": {},
   "source": [
    "<font color=\"blue\">Discuss what you see.</font>"
   ]
  },
  {
   "cell_type": "markdown",
   "metadata": {},
   "source": [
    "*There is a negative coefficient on WWII veteran status here; being a veteran is associated with less disability*"
   ]
  },
  {
   "cell_type": "markdown",
   "metadata": {},
   "source": [
    "<font color=\"blue\">Given what we saw before about veteran shares in these birth cohorts, what would we expect to see across the three average disability rates within the 1924, 1926, and 1928 birth cohorts, if this $\\beta_1^d$ from above were an accurate measure of the causal influence of veteran status on health?.</font>"
   ]
  },
  {
   "cell_type": "markdown",
   "metadata": {},
   "source": [
    "*Veteran shares are fairly constant for the 1924 and 1926 cohorts at about 70% but lower for the 1928 cohort at about 22%. Based on the result above, one would expect to find that the 1924 and 1926 cohorts would have less disability than the 1928 cohort because they also have more veterans.*"
   ]
  },
  {
   "cell_type": "markdown",
   "metadata": {},
   "source": [
    "Now let's test this hypothesis. Run OLS on this model:\n",
    "\n",
    "$$disabwrk1 =  \\alpha + \\beta_d^{1926} born1926 + \\beta_d^{1928} born1928 + \\epsilon \n",
    "$$\n",
    "\n",
    "Like before, this sets up a handy hypothesis test. Comparing these $\\beta$'s reveals whether average disability rates are the same across each of these half-year birth cohorts. Based on your answer immediately above, we have a separate more specific prior about $\\beta^{1928} < 0$ or $\\beta^{1928} > 0$."
   ]
  },
  {
   "cell_type": "code",
   "execution_count": 58,
   "metadata": {
    "collapsed": false
   },
   "outputs": [
    {
     "data": {
      "text/html": [
       "<table class=\"simpletable\">\n",
       "<caption>OLS Regression Results</caption>\n",
       "<tr>\n",
       "  <th>Dep. Variable:</th>        <td>disabwrk1</td>    <th>  R-squared:         </th> <td>   0.003</td> \n",
       "</tr>\n",
       "<tr>\n",
       "  <th>Model:</th>                   <td>OLS</td>       <th>  Adj. R-squared:    </th> <td>   0.003</td> \n",
       "</tr>\n",
       "<tr>\n",
       "  <th>Method:</th>             <td>Least Squares</td>  <th>  F-statistic:       </th> <td>   123.3</td> \n",
       "</tr>\n",
       "<tr>\n",
       "  <th>Date:</th>             <td>Fri, 08 Apr 2016</td> <th>  Prob (F-statistic):</th> <td>3.54e-54</td> \n",
       "</tr>\n",
       "<tr>\n",
       "  <th>Time:</th>                 <td>20:41:59</td>     <th>  Log-Likelihood:    </th> <td> -34388.</td> \n",
       "</tr>\n",
       "<tr>\n",
       "  <th>No. Observations:</th>      <td> 83495</td>      <th>  AIC:               </th> <td>6.878e+04</td>\n",
       "</tr>\n",
       "<tr>\n",
       "  <th>Df Residuals:</th>          <td> 83492</td>      <th>  BIC:               </th> <td>6.881e+04</td>\n",
       "</tr>\n",
       "<tr>\n",
       "  <th>Df Model:</th>              <td>     2</td>      <th>                     </th>     <td> </td>    \n",
       "</tr>\n",
       "<tr>\n",
       "  <th>Covariance Type:</th>      <td>nonrobust</td>    <th>                     </th>     <td> </td>    \n",
       "</tr>\n",
       "</table>\n",
       "<table class=\"simpletable\">\n",
       "<tr>\n",
       "      <td></td>        <th>coef</th>     <th>std err</th>      <th>t</th>      <th>P>|t|</th> <th>[95.0% Conf. Int.]</th> \n",
       "</tr>\n",
       "<tr>\n",
       "  <th>ones</th>     <td>    0.1847</td> <td>    0.002</td> <td>   84.858</td> <td> 0.000</td> <td>    0.180     0.189</td>\n",
       "</tr>\n",
       "<tr>\n",
       "  <th>born1926</th> <td>   -0.0289</td> <td>    0.003</td> <td>   -9.360</td> <td> 0.000</td> <td>   -0.035    -0.023</td>\n",
       "</tr>\n",
       "<tr>\n",
       "  <th>born1928</th> <td>   -0.0482</td> <td>    0.003</td> <td>  -15.588</td> <td> 0.000</td> <td>   -0.054    -0.042</td>\n",
       "</tr>\n",
       "</table>\n",
       "<table class=\"simpletable\">\n",
       "<tr>\n",
       "  <th>Omnibus:</th>       <td>25226.721</td> <th>  Durbin-Watson:     </th> <td>   1.942</td> \n",
       "</tr>\n",
       "<tr>\n",
       "  <th>Prob(Omnibus):</th>  <td> 0.000</td>   <th>  Jarque-Bera (JB):  </th> <td>55351.208</td>\n",
       "</tr>\n",
       "<tr>\n",
       "  <th>Skew:</th>           <td> 1.855</td>   <th>  Prob(JB):          </th> <td>    0.00</td> \n",
       "</tr>\n",
       "<tr>\n",
       "  <th>Kurtosis:</th>       <td> 4.464</td>   <th>  Cond. No.          </th> <td>    3.71</td> \n",
       "</tr>\n",
       "</table>"
      ],
      "text/plain": [
       "<class 'statsmodels.iolib.summary.Summary'>\n",
       "\"\"\"\n",
       "                            OLS Regression Results                            \n",
       "==============================================================================\n",
       "Dep. Variable:              disabwrk1   R-squared:                       0.003\n",
       "Model:                            OLS   Adj. R-squared:                  0.003\n",
       "Method:                 Least Squares   F-statistic:                     123.3\n",
       "Date:                Fri, 08 Apr 2016   Prob (F-statistic):           3.54e-54\n",
       "Time:                        20:41:59   Log-Likelihood:                -34388.\n",
       "No. Observations:               83495   AIC:                         6.878e+04\n",
       "Df Residuals:                   83492   BIC:                         6.881e+04\n",
       "Df Model:                           2                                         \n",
       "Covariance Type:            nonrobust                                         \n",
       "==============================================================================\n",
       "                 coef    std err          t      P>|t|      [95.0% Conf. Int.]\n",
       "------------------------------------------------------------------------------\n",
       "ones           0.1847      0.002     84.858      0.000         0.180     0.189\n",
       "born1926      -0.0289      0.003     -9.360      0.000        -0.035    -0.023\n",
       "born1928      -0.0482      0.003    -15.588      0.000        -0.054    -0.042\n",
       "==============================================================================\n",
       "Omnibus:                    25226.721   Durbin-Watson:                   1.942\n",
       "Prob(Omnibus):                  0.000   Jarque-Bera (JB):            55351.208\n",
       "Skew:                           1.855   Prob(JB):                         0.00\n",
       "Kurtosis:                       4.464   Cond. No.                         3.71\n",
       "==============================================================================\n",
       "\n",
       "Warnings:\n",
       "[1] Standard Errors assume that the covariance matrix of the errors is correctly specified.\n",
       "\"\"\""
      ]
     },
     "execution_count": 58,
     "metadata": {},
     "output_type": "execute_result"
    }
   ],
   "source": [
    "x = WWII[['ones','born1926','born1928']]\n",
    "y = WWII['disabwrk1']\n",
    "multiple_regress = sm.OLS(y, x).fit()\n",
    "multiple_regress.summary()"
   ]
  },
  {
   "cell_type": "markdown",
   "metadata": {},
   "source": [
    "<font color=\"blue\">Discuss what you see.</font>"
   ]
  },
  {
   "cell_type": "markdown",
   "metadata": {},
   "source": [
    "*Again, we find different results here than we were expecting given (1) the association between veteran status and the outcome and (2) the share of veterans within birth cohorts. The OLS relationship between veteran status and disability is negative, which would lead us to expect that the veteran-rich cohorts of 1924 and 1926 should have less disability than the 1928 cohort, which had few veterans. That isn't what we see here; instead, we find that the youngest cohort has the least disability.*"
   ]
  },
  {
   "cell_type": "markdown",
   "metadata": {},
   "source": []
  }
 ],
 "metadata": {
  "kernelspec": {
   "display_name": "Python 3",
   "language": "python",
   "name": "python3"
  },
  "language_info": {
   "codemirror_mode": {
    "name": "ipython",
    "version": 3
   },
   "file_extension": ".py",
   "mimetype": "text/x-python",
   "name": "python",
   "nbconvert_exporter": "python",
   "pygments_lexer": "ipython3",
   "version": "3.4.4"
  }
 },
 "nbformat": 4,
 "nbformat_minor": 0
}
