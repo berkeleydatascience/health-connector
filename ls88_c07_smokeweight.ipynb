{
 "cells": [
  {
   "cell_type": "code",
   "execution_count": 79,
   "metadata": {
    "collapsed": false
   },
   "outputs": [
    {
     "data": {
      "text/plain": [
       "'0.5.12'"
      ]
     },
     "execution_count": 79,
     "metadata": {},
     "output_type": "execute_result"
    }
   ],
   "source": [
    "# HIDDEN\n",
    "# This useful nonsense should just go at the top of your notebook.\n",
    "from datascience import *\n",
    "%matplotlib inline\n",
    "import matplotlib.pyplot as plots\n",
    "import numpy as np\n",
    "plots.style.use('fivethirtyeight')\n",
    "# datascience version number of last run of this notebook\n",
    "version.__version__"
   ]
  },
  {
   "cell_type": "markdown",
   "metadata": {},
   "source": [
    "<h1>Class 7: Smoking and Weight Over Time</h1>\n",
    "\n",
    "*Special thanks to David Culler for the idea and some coding and to Shanaaz Deo for coding help.*\n",
    "\n",
    "Are smoking and weight related? Biologically, nicotine is a stimulate that may reduce appetite and raise metabolism. Smokers sometimes remark that they gain weight when trying to quit smoking.\n",
    "\n",
    "An obvious method of testing this relationship would be a randomized controlled trial (RCT) in which some kind of smoking cessation were available to the treatment group. But when we only have observational data on smoking and weight, what can we do?"
   ]
  },
  {
   "cell_type": "markdown",
   "metadata": {},
   "source": [
    "The U.S Health and Retirement Study is a biennial *panel survey* of Americans aged 50 and over.  We can observe smoking status and weight for a set of individuals measured two years apart, in waves 8 and 9 (2006 and 2008). "
   ]
  },
  {
   "cell_type": "markdown",
   "metadata": {},
   "source": [
    "\n",
    "Let's compute the *average weight* (in kilograms) for several interesting groups and compare them:\n",
    "<ol>\n",
    "<li>a smoker in wave 8 \n",
    "<li>a non-smoker in wave 8\n",
    "\n",
    "<li>a *quitter* in wave 9\n",
    "<li>a *still-smoker* in wave 9\n",
    "</ol>"
   ]
  },
  {
   "cell_type": "markdown",
   "metadata": {},
   "source": [
    "Here is the call to load in the data"
   ]
  },
  {
   "cell_type": "code",
   "execution_count": 80,
   "metadata": {
    "collapsed": false
   },
   "outputs": [
    {
     "data": {
      "text/html": [
       "<table border=\"1\" class=\"dataframe\">\n",
       "    <thead>\n",
       "        <tr>\n",
       "            <th>hhidpn</th> <th>ragender</th> <th>r8agey_m</th> <th>r8weight</th> <th>r9weight</th> <th>r8smoken</th> <th>r9smoken</th>\n",
       "        </tr>\n",
       "    </thead>\n",
       "    <tbody>\n",
       "        <tr>\n",
       "            <td>3010    </td> <td>1       </td> <td>70      </td> <td>71.6672 </td> <td>65.317  </td> <td>0       </td> <td>0       </td>\n",
       "        </tr>\n",
       "    </tbody>\n",
       "        <tr>\n",
       "            <td>3020    </td> <td>2       </td> <td>67      </td> <td>65.317  </td> <td>68.0385 </td> <td>0       </td> <td>0       </td>\n",
       "        </tr>\n",
       "    </tbody>\n",
       "        <tr>\n",
       "            <td>10001010</td> <td>1       </td> <td>66      </td> <td>72.5744 </td> <td>72.5744 </td> <td>0       </td> <td>0       </td>\n",
       "        </tr>\n",
       "    </tbody>\n",
       "        <tr>\n",
       "            <td>10003030</td> <td>2       </td> <td>50      </td> <td>58.9667 </td> <td>72.5744 </td> <td>0       </td> <td>0       </td>\n",
       "        </tr>\n",
       "    </tbody>\n",
       "        <tr>\n",
       "            <td>10004010</td> <td>1       </td> <td>66      </td> <td>102.511 </td> <td>100.697 </td> <td>0       </td> <td>0       </td>\n",
       "        </tr>\n",
       "    </tbody>\n",
       "        <tr>\n",
       "            <td>10004040</td> <td>2       </td> <td>60      </td> <td>77.1103 </td> <td>74.8423 </td> <td>0       </td> <td>0       </td>\n",
       "        </tr>\n",
       "    </tbody>\n",
       "        <tr>\n",
       "            <td>10013010</td> <td>1       </td> <td>68      </td> <td>108.862 </td> <td>99.7898 </td> <td>0       </td> <td>0       </td>\n",
       "        </tr>\n",
       "    </tbody>\n",
       "        <tr>\n",
       "            <td>10013040</td> <td>2       </td> <td>58      </td> <td>64.4098 </td> <td>63.5026 </td> <td>1       </td> <td>1       </td>\n",
       "        </tr>\n",
       "    </tbody>\n",
       "        <tr>\n",
       "            <td>10038010</td> <td>1       </td> <td>70      </td> <td>74.8423 </td> <td>73.4816 </td> <td>0       </td> <td>0       </td>\n",
       "        </tr>\n",
       "    </tbody>\n",
       "        <tr>\n",
       "            <td>10038040</td> <td>2       </td> <td>63      </td> <td>64.4098 </td> <td>63.5026 </td> <td>0       </td> <td>0       </td>\n",
       "        </tr>\n",
       "    </tbody>\n",
       "</table>\n",
       "<p>... (16009 rows omitted)</p"
      ],
      "text/plain": [
       "hhidpn   | ragender | r8agey_m | r8weight | r9weight | r8smoken | r9smoken\n",
       "3010     | 1        | 70       | 71.6672  | 65.317   | 0        | 0\n",
       "3020     | 2        | 67       | 65.317   | 68.0385  | 0        | 0\n",
       "10001010 | 1        | 66       | 72.5744  | 72.5744  | 0        | 0\n",
       "10003030 | 2        | 50       | 58.9667  | 72.5744  | 0        | 0\n",
       "10004010 | 1        | 66       | 102.511  | 100.697  | 0        | 0\n",
       "10004040 | 2        | 60       | 77.1103  | 74.8423  | 0        | 0\n",
       "10013010 | 1        | 68       | 108.862  | 99.7898  | 0        | 0\n",
       "10013040 | 2        | 58       | 64.4098  | 63.5026  | 1        | 1\n",
       "10038010 | 1        | 70       | 74.8423  | 73.4816  | 0        | 0\n",
       "10038040 | 2        | 63       | 64.4098  | 63.5026  | 0        | 0\n",
       "... (16009 rows omitted)"
      ]
     },
     "execution_count": 80,
     "metadata": {},
     "output_type": "execute_result"
    }
   ],
   "source": [
    "#load file\n",
    "smokeweight = Table.read_table('http://demog.berkeley.edu/~redwards/Courses/LS88/c07_smokeweight.csv')\n",
    "smokeweight"
   ]
  },
  {
   "cell_type": "code",
   "execution_count": 81,
   "metadata": {
    "collapsed": false
   },
   "outputs": [
    {
     "data": {
      "text/html": [
       "<table border=\"1\" class=\"dataframe\">\n",
       "    <thead>\n",
       "        <tr>\n",
       "            <th>hhidpn</th> <th>ragender</th> <th>r8agey_m</th> <th>r8weight</th> <th>r9weight</th> <th>r8smoken</th> <th>r9smoken</th>\n",
       "        </tr>\n",
       "    </thead>\n",
       "    <tbody>\n",
       "        <tr>\n",
       "            <td>10013040</td> <td>2       </td> <td>58      </td> <td>64.4098 </td> <td>63.5026 </td> <td>1       </td> <td>1       </td>\n",
       "        </tr>\n",
       "    </tbody>\n",
       "        <tr>\n",
       "            <td>10059020</td> <td>2       </td> <td>70      </td> <td>57.6059 </td> <td>57.1523 </td> <td>1       </td> <td>1       </td>\n",
       "        </tr>\n",
       "    </tbody>\n",
       "        <tr>\n",
       "            <td>10083010</td> <td>1       </td> <td>67      </td> <td>122.469 </td> <td>95.7075 </td> <td>1       </td> <td>0       </td>\n",
       "        </tr>\n",
       "    </tbody>\n",
       "        <tr>\n",
       "            <td>10196010</td> <td>2       </td> <td>71      </td> <td>58.9667 </td> <td>52.1628 </td> <td>1       </td> <td>0       </td>\n",
       "        </tr>\n",
       "    </tbody>\n",
       "        <tr>\n",
       "            <td>10433010</td> <td>2       </td> <td>71      </td> <td>125.644 </td> <td>120.201 </td> <td>1       </td> <td>0       </td>\n",
       "        </tr>\n",
       "    </tbody>\n",
       "        <tr>\n",
       "            <td>10482010</td> <td>2       </td> <td>65      </td> <td>61.2347 </td> <td>65.7706 </td> <td>1       </td> <td>1       </td>\n",
       "        </tr>\n",
       "    </tbody>\n",
       "        <tr>\n",
       "            <td>10577011</td> <td>1       </td> <td>56      </td> <td>105.233 </td> <td>105.686 </td> <td>1       </td> <td>1       </td>\n",
       "        </tr>\n",
       "    </tbody>\n",
       "        <tr>\n",
       "            <td>11071010</td> <td>2       </td> <td>73      </td> <td>81.6462 </td> <td>77.1103 </td> <td>1       </td> <td>1       </td>\n",
       "        </tr>\n",
       "    </tbody>\n",
       "        <tr>\n",
       "            <td>11230010</td> <td>2       </td> <td>70      </td> <td>63.5026 </td> <td>65.7706 </td> <td>1       </td> <td>1       </td>\n",
       "        </tr>\n",
       "    </tbody>\n",
       "        <tr>\n",
       "            <td>11345010</td> <td>1       </td> <td>66      </td> <td>86.1821 </td> <td>86.1821 </td> <td>1       </td> <td>1       </td>\n",
       "        </tr>\n",
       "    </tbody>\n",
       "</table>\n",
       "<p>... (2212 rows omitted)</p"
      ],
      "text/plain": [
       "hhidpn   | ragender | r8agey_m | r8weight | r9weight | r8smoken | r9smoken\n",
       "10013040 | 2        | 58       | 64.4098  | 63.5026  | 1        | 1\n",
       "10059020 | 2        | 70       | 57.6059  | 57.1523  | 1        | 1\n",
       "10083010 | 1        | 67       | 122.469  | 95.7075  | 1        | 0\n",
       "10196010 | 2        | 71       | 58.9667  | 52.1628  | 1        | 0\n",
       "10433010 | 2        | 71       | 125.644  | 120.201  | 1        | 0\n",
       "10482010 | 2        | 65       | 61.2347  | 65.7706  | 1        | 1\n",
       "10577011 | 1        | 56       | 105.233  | 105.686  | 1        | 1\n",
       "11071010 | 2        | 73       | 81.6462  | 77.1103  | 1        | 1\n",
       "11230010 | 2        | 70       | 63.5026  | 65.7706  | 1        | 1\n",
       "11345010 | 1        | 66       | 86.1821  | 86.1821  | 1        | 1\n",
       "... (2212 rows omitted)"
      ]
     },
     "execution_count": 81,
     "metadata": {},
     "output_type": "execute_result"
    }
   ],
   "source": [
    "#Filter the table; only include rows where r8smoken==1. These are current smokers in wave 8\n",
    "smoker8 = smokeweight.where('r8smoken',1)\n",
    "smoker8"
   ]
  },
  {
   "cell_type": "code",
   "execution_count": 82,
   "metadata": {
    "collapsed": false
   },
   "outputs": [
    {
     "data": {
      "text/plain": [
       "76.134530202520253"
      ]
     },
     "execution_count": 82,
     "metadata": {},
     "output_type": "execute_result"
    }
   ],
   "source": [
    "#Compute the average weight of smokers in wave 8\n",
    "smoker8_weight_avg = smoker8['r8weight'].mean()\n",
    "smoker8_weight_avg"
   ]
  },
  {
   "cell_type": "markdown",
   "metadata": {},
   "source": [
    "Remember the formula for the standard error of a mean?\n",
    "$$SEM = \\frac{STD}{\\sqrt{N}}$$\n",
    "And the 95% \"margin of error\" is 1.96 times that. The 95% confidence interval is defined by $\\pm 1.96 \\times SEM$."
   ]
  },
  {
   "cell_type": "code",
   "execution_count": 83,
   "metadata": {
    "collapsed": false
   },
   "outputs": [
    {
     "data": {
      "text/plain": [
       "17.652564168796527"
      ]
     },
     "execution_count": 83,
     "metadata": {},
     "output_type": "execute_result"
    }
   ],
   "source": [
    "smoker8_weight_std = smoker8['r8weight'].std()\n",
    "smoker8_weight_std"
   ]
  },
  {
   "cell_type": "code",
   "execution_count": 84,
   "metadata": {
    "collapsed": false
   },
   "outputs": [
    {
     "data": {
      "text/plain": [
       "0.37448615964871435"
      ]
     },
     "execution_count": 84,
     "metadata": {},
     "output_type": "execute_result"
    }
   ],
   "source": [
    "smoker8_weight_sem = smoker8_weight_std/len(smoker8['r8weight'])**0.5\n",
    "smoker8_weight_sem"
   ]
  },
  {
   "cell_type": "code",
   "execution_count": 85,
   "metadata": {
    "collapsed": false
   },
   "outputs": [
    {
     "data": {
      "text/plain": [
       "0.73399287291148008"
      ]
     },
     "execution_count": 85,
     "metadata": {},
     "output_type": "execute_result"
    }
   ],
   "source": [
    "smoker8_weight_moe = 1.96*smoker8_weight_sem\n",
    "smoker8_weight_moe"
   ]
  },
  {
   "cell_type": "markdown",
   "metadata": {},
   "source": [
    "Let's now calculate the average weight of non-smokers in wave 8"
   ]
  },
  {
   "cell_type": "code",
   "execution_count": 86,
   "metadata": {
    "collapsed": false
   },
   "outputs": [],
   "source": [
    "#Filter the table; only include rows where r8smoken==0. These are current non-smokers in wave 8\n",
    "nonsmoker8 = ..."
   ]
  },
  {
   "cell_type": "code",
   "execution_count": 87,
   "metadata": {
    "collapsed": false
   },
   "outputs": [
    {
     "data": {
      "text/plain": [
       "Ellipsis"
      ]
     },
     "execution_count": 87,
     "metadata": {},
     "output_type": "execute_result"
    }
   ],
   "source": [
    "#Compute the average weight of non-smokers in wave 8\n",
    "nonsmoker8_weight_avg = ...\n",
    "nonsmoker8_weight_avg"
   ]
  },
  {
   "cell_type": "code",
   "execution_count": 88,
   "metadata": {
    "collapsed": false
   },
   "outputs": [
    {
     "data": {
      "text/plain": [
       "Ellipsis"
      ]
     },
     "execution_count": 88,
     "metadata": {},
     "output_type": "execute_result"
    }
   ],
   "source": [
    "nonsmoker8_weight_std = ...\n",
    "nonsmoker8_weight_std"
   ]
  },
  {
   "cell_type": "code",
   "execution_count": 89,
   "metadata": {
    "collapsed": false
   },
   "outputs": [
    {
     "data": {
      "text/plain": [
       "Ellipsis"
      ]
     },
     "execution_count": 89,
     "metadata": {},
     "output_type": "execute_result"
    }
   ],
   "source": [
    "nonsmoker8_weight_sem = ...\n",
    "nonsmoker8_weight_sem"
   ]
  },
  {
   "cell_type": "code",
   "execution_count": 90,
   "metadata": {
    "collapsed": false
   },
   "outputs": [
    {
     "data": {
      "text/plain": [
       "Ellipsis"
      ]
     },
     "execution_count": 90,
     "metadata": {},
     "output_type": "execute_result"
    }
   ],
   "source": [
    "nonsmoker8_weight_moe = ...\n",
    "nonsmoker8_weight_moe"
   ]
  },
  {
   "cell_type": "code",
   "execution_count": 92,
   "metadata": {
    "collapsed": false
   },
   "outputs": [],
   "source": [
    "#Now, calculate the difference between the two averages\n",
    "#UNCOMMENT THE FOLLOWING:\n",
    "#nonsmoker8_weight_avg - smoker8_weight_avg"
   ]
  },
  {
   "cell_type": "markdown",
   "metadata": {},
   "source": [
    "Do the confidence intervals overlap?"
   ]
  },
  {
   "cell_type": "markdown",
   "metadata": {},
   "source": [
    "This is the lower bound on nonsmokers' higher average weight"
   ]
  },
  {
   "cell_type": "code",
   "execution_count": 93,
   "metadata": {
    "collapsed": false
   },
   "outputs": [],
   "source": [
    "#UNCOMMENT ME:\n",
    "#(nonsmoker8_weight_avg - nonsmoker8_weight_moe)"
   ]
  },
  {
   "cell_type": "markdown",
   "metadata": {},
   "source": [
    "And this is the upper bound on smokers' lower average weight"
   ]
  },
  {
   "cell_type": "code",
   "execution_count": 94,
   "metadata": {
    "collapsed": false
   },
   "outputs": [
    {
     "data": {
      "text/plain": [
       "76.868523075431739"
      ]
     },
     "execution_count": 94,
     "metadata": {},
     "output_type": "execute_result"
    }
   ],
   "source": [
    "(smoker8_weight_avg + smoker8_weight_moe)"
   ]
  },
  {
   "cell_type": "markdown",
   "metadata": {},
   "source": [
    "Remark on what you found comparing smokers and non-smokers in wave 8."
   ]
  },
  {
   "cell_type": "markdown",
   "metadata": {},
   "source": []
  },
  {
   "cell_type": "markdown",
   "metadata": {},
   "source": [
    "<h2>Change over time</h2>\n",
    "\n",
    "Let's now look at the weight of a *quitter* in wave 9\n",
    "versus the weight of a *still-smoker* in wave 9! The nifty thing is that we can use our `smoker8` matrix from above."
   ]
  },
  {
   "cell_type": "code",
   "execution_count": 54,
   "metadata": {
    "collapsed": false
   },
   "outputs": [
    {
     "data": {
      "text/html": [
       "<table border=\"1\" class=\"dataframe\">\n",
       "    <thead>\n",
       "        <tr>\n",
       "            <th>hhidpn</th> <th>ragender</th> <th>r8agey_m</th> <th>r8weight</th> <th>r9weight</th> <th>r8smoken</th> <th>r9smoken</th>\n",
       "        </tr>\n",
       "    </thead>\n",
       "    <tbody>\n",
       "        <tr>\n",
       "            <td>10083010</td> <td>1       </td> <td>67      </td> <td>122.469 </td> <td>95.7075 </td> <td>1       </td> <td>0       </td>\n",
       "        </tr>\n",
       "    </tbody>\n",
       "        <tr>\n",
       "            <td>10196010</td> <td>2       </td> <td>71      </td> <td>58.9667 </td> <td>52.1628 </td> <td>1       </td> <td>0       </td>\n",
       "        </tr>\n",
       "    </tbody>\n",
       "        <tr>\n",
       "            <td>10433010</td> <td>2       </td> <td>71      </td> <td>125.644 </td> <td>120.201 </td> <td>1       </td> <td>0       </td>\n",
       "        </tr>\n",
       "    </tbody>\n",
       "        <tr>\n",
       "            <td>11765010</td> <td>1       </td> <td>67      </td> <td>73.9352 </td> <td>76.2031 </td> <td>1       </td> <td>0       </td>\n",
       "        </tr>\n",
       "    </tbody>\n",
       "        <tr>\n",
       "            <td>11859010</td> <td>2       </td> <td>68      </td> <td>72.5744 </td> <td>70.76   </td> <td>1       </td> <td>0       </td>\n",
       "        </tr>\n",
       "    </tbody>\n",
       "        <tr>\n",
       "            <td>12033011</td> <td>2       </td> <td>65      </td> <td>45.359  </td> <td>45.8126 </td> <td>1       </td> <td>0       </td>\n",
       "        </tr>\n",
       "    </tbody>\n",
       "        <tr>\n",
       "            <td>12183010</td> <td>1       </td> <td>70      </td> <td>66.6777 </td> <td>65.7706 </td> <td>1       </td> <td>0       </td>\n",
       "        </tr>\n",
       "    </tbody>\n",
       "        <tr>\n",
       "            <td>13137020</td> <td>1       </td> <td>67      </td> <td>81.6462 </td> <td>83.9142 </td> <td>1       </td> <td>0       </td>\n",
       "        </tr>\n",
       "    </tbody>\n",
       "        <tr>\n",
       "            <td>13600010</td> <td>1       </td> <td>72      </td> <td>81.6462 </td> <td>86.1821 </td> <td>1       </td> <td>0       </td>\n",
       "        </tr>\n",
       "    </tbody>\n",
       "        <tr>\n",
       "            <td>13600020</td> <td>2       </td> <td>71      </td> <td>58.0595 </td> <td>61.2347 </td> <td>1       </td> <td>0       </td>\n",
       "        </tr>\n",
       "    </tbody>\n",
       "</table>\n",
       "<p>... (341 rows omitted)</p"
      ],
      "text/plain": [
       "hhidpn   | ragender | r8agey_m | r8weight | r9weight | r8smoken | r9smoken\n",
       "10083010 | 1        | 67       | 122.469  | 95.7075  | 1        | 0\n",
       "10196010 | 2        | 71       | 58.9667  | 52.1628  | 1        | 0\n",
       "10433010 | 2        | 71       | 125.644  | 120.201  | 1        | 0\n",
       "11765010 | 1        | 67       | 73.9352  | 76.2031  | 1        | 0\n",
       "11859010 | 2        | 68       | 72.5744  | 70.76    | 1        | 0\n",
       "12033011 | 2        | 65       | 45.359   | 45.8126  | 1        | 0\n",
       "12183010 | 1        | 70       | 66.6777  | 65.7706  | 1        | 0\n",
       "13137020 | 1        | 67       | 81.6462  | 83.9142  | 1        | 0\n",
       "13600010 | 1        | 72       | 81.6462  | 86.1821  | 1        | 0\n",
       "13600020 | 2        | 71       | 58.0595  | 61.2347  | 1        | 0\n",
       "... (341 rows omitted)"
      ]
     },
     "execution_count": 54,
     "metadata": {},
     "output_type": "execute_result"
    }
   ],
   "source": [
    "quitter9 = smoker8.where('r9smoken',0)\n",
    "quitter9"
   ]
  },
  {
   "cell_type": "code",
   "execution_count": 78,
   "metadata": {
    "collapsed": false
   },
   "outputs": [
    {
     "data": {
      "text/plain": [
       "Ellipsis"
      ]
     },
     "execution_count": 78,
     "metadata": {},
     "output_type": "execute_result"
    }
   ],
   "source": [
    "stillsmoker9 = ...\n",
    "stillsmoker9"
   ]
  },
  {
   "cell_type": "markdown",
   "metadata": {},
   "source": [
    "Calculate the average (mean) weights of these two groups, then the standard deviations and standard errors of the means, then test for significance."
   ]
  },
  {
   "cell_type": "code",
   "execution_count": 96,
   "metadata": {
    "collapsed": false
   },
   "outputs": [
    {
     "data": {
      "text/plain": [
       "Ellipsis"
      ]
     },
     "execution_count": 96,
     "metadata": {},
     "output_type": "execute_result"
    }
   ],
   "source": [
    "quitter9_weight_avg = ...\n",
    "quitter9_weight_avg"
   ]
  },
  {
   "cell_type": "code",
   "execution_count": 97,
   "metadata": {
    "collapsed": false
   },
   "outputs": [
    {
     "data": {
      "text/plain": [
       "Ellipsis"
      ]
     },
     "execution_count": 97,
     "metadata": {},
     "output_type": "execute_result"
    }
   ],
   "source": [
    "quitter9_weight_std = ...\n",
    "quitter9_weight_std"
   ]
  },
  {
   "cell_type": "code",
   "execution_count": 98,
   "metadata": {
    "collapsed": false
   },
   "outputs": [
    {
     "data": {
      "text/plain": [
       "Ellipsis"
      ]
     },
     "execution_count": 98,
     "metadata": {},
     "output_type": "execute_result"
    }
   ],
   "source": [
    "quitter9_weight_sem = ...\n",
    "quitter9_weight_sem"
   ]
  },
  {
   "cell_type": "code",
   "execution_count": 99,
   "metadata": {
    "collapsed": false
   },
   "outputs": [
    {
     "data": {
      "text/plain": [
       "Ellipsis"
      ]
     },
     "execution_count": 99,
     "metadata": {},
     "output_type": "execute_result"
    }
   ],
   "source": [
    "quitter9_weight_moe = ...\n",
    "quitter9_weight_moe"
   ]
  },
  {
   "cell_type": "code",
   "execution_count": 100,
   "metadata": {
    "collapsed": false
   },
   "outputs": [
    {
     "data": {
      "text/plain": [
       "Ellipsis"
      ]
     },
     "execution_count": 100,
     "metadata": {},
     "output_type": "execute_result"
    }
   ],
   "source": [
    "stillsmoker9_weight_avg = ...\n",
    "stillsmoker9_weight_avg"
   ]
  },
  {
   "cell_type": "code",
   "execution_count": 101,
   "metadata": {
    "collapsed": false
   },
   "outputs": [
    {
     "data": {
      "text/plain": [
       "Ellipsis"
      ]
     },
     "execution_count": 101,
     "metadata": {},
     "output_type": "execute_result"
    }
   ],
   "source": [
    "stillsmoker9_weight_std = ...\n",
    "stillsmoker9_weight_std"
   ]
  },
  {
   "cell_type": "code",
   "execution_count": 102,
   "metadata": {
    "collapsed": false
   },
   "outputs": [
    {
     "data": {
      "text/plain": [
       "Ellipsis"
      ]
     },
     "execution_count": 102,
     "metadata": {},
     "output_type": "execute_result"
    }
   ],
   "source": [
    "stillsmoker9_weight_sem = ...\n",
    "stillsmoker9_weight_sem"
   ]
  },
  {
   "cell_type": "code",
   "execution_count": 103,
   "metadata": {
    "collapsed": false
   },
   "outputs": [
    {
     "data": {
      "text/plain": [
       "Ellipsis"
      ]
     },
     "execution_count": 103,
     "metadata": {},
     "output_type": "execute_result"
    }
   ],
   "source": [
    "stillsmoker9_weight_moe = ...\n",
    "stillsmoker9_weight_moe"
   ]
  },
  {
   "cell_type": "code",
   "execution_count": 104,
   "metadata": {
    "collapsed": false
   },
   "outputs": [],
   "source": [
    "#Now, calculate the difference between the two averages\n",
    "#quitter9_weight_avg - stillsmoker9_weight_avg"
   ]
  },
  {
   "cell_type": "markdown",
   "metadata": {},
   "source": [
    "Do the confidence intervals overlap?"
   ]
  },
  {
   "cell_type": "markdown",
   "metadata": {},
   "source": [
    "This is the lower bound on quitters' higher average weight"
   ]
  },
  {
   "cell_type": "code",
   "execution_count": 106,
   "metadata": {
    "collapsed": false
   },
   "outputs": [],
   "source": [
    "#quitter9_weight_avg - quitter9_weight_moe"
   ]
  },
  {
   "cell_type": "markdown",
   "metadata": {},
   "source": [
    "And this is the upper bound on still-smokers' lower average weight"
   ]
  },
  {
   "cell_type": "code",
   "execution_count": 108,
   "metadata": {
    "collapsed": false
   },
   "outputs": [],
   "source": [
    "#stillsmoker9_weight_avg + stillsmoker9_weight_moe"
   ]
  },
  {
   "cell_type": "markdown",
   "metadata": {},
   "source": [
    "Remark on what you found comparing quitters and still-smokers, and how this comparison itself compares to the first comparison you undertook."
   ]
  },
  {
   "cell_type": "markdown",
   "metadata": {},
   "source": []
  }
 ],
 "metadata": {
  "kernelspec": {
   "display_name": "Python 3",
   "language": "python",
   "name": "python3"
  },
  "language_info": {
   "codemirror_mode": {
    "name": "ipython",
    "version": 3
   },
   "file_extension": ".py",
   "mimetype": "text/x-python",
   "name": "python",
   "nbconvert_exporter": "python",
   "pygments_lexer": "ipython3",
   "version": "3.4.4"
  }
 },
 "nbformat": 4,
 "nbformat_minor": 0
}
